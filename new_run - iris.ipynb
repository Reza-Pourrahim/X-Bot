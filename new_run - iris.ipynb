{
 "cells": [
  {
   "cell_type": "code",
   "execution_count": 1,
   "metadata": {},
   "outputs": [],
   "source": [
    "import lore\n",
    "from datamanager import *\n",
    "\n",
    "from sklearn.datasets import load_iris, load_breast_cancer\n",
    "from sklearn.ensemble import RandomForestClassifier\n",
    "from sklearn.model_selection import train_test_split\n",
    "\n",
    "from sklearn.metrics import f1_score, accuracy_score\n",
    "\n",
    "from util import record2str"
   ]
  },
  {
   "cell_type": "markdown",
   "metadata": {
    "pycharm": {
     "name": "#%% md\n"
    }
   },
   "source": [
    "ipynb to py in pycharm:\n",
    "- jupyter nbconvert --to script new_run.ipynb"
   ]
  },
  {
   "cell_type": "markdown",
   "metadata": {},
   "source": [
    "## Dataset"
   ]
  },
  {
   "cell_type": "code",
   "execution_count": 2,
   "metadata": {},
   "outputs": [],
   "source": [
    "## Iris Dataset\n",
    "dataset_name = 'dataset/iris.csv'\n",
    "dataset = prepare_iris_dataset(dataset_name)\n",
    "\n",
    "## wine\n",
    "# dataset_name = 'dataset/wine.csv'\n",
    "# dataset = prepare_wine_dataset(dataset_name)\n",
    "\n",
    "##############################################\n",
    "#           Categorical dataset              #\n",
    "##############################################\n",
    "## german: (0 = Good, 1 = Bad)\n",
    "# dataset_name = 'dataset/german_credit.csv'\n",
    "# dataset = prepare_german_dataset(dataset_name)\n",
    "\n",
    "## adult: ['<=50K', '>50K']\n",
    "# dataset_name = 'dataset/adult.csv'\n",
    "# dataset = prepare_adult_dataset(dataset_name)\n",
    "\n",
    "## compas-scores-two-years: ['High', 'Low', 'Medium']\n",
    "# dataset_name = 'dataset/compas-scores-two-years.csv'\n",
    "# dataset = prepare_compass_dataset(dataset_name)\n",
    "\n",
    "dataframe = dataset[0]\n",
    "class_name = dataset[1]\n",
    "dataset_fin = prepare_dataset(dataframe, class_name)"
   ]
  },
  {
   "cell_type": "code",
   "execution_count": 3,
   "metadata": {},
   "outputs": [],
   "source": [
    "df = dataset_fin[0] #dataframe with unique numeric class values(0, 1, ...)\n",
    "feature_names = dataset_fin[1]\n",
    "class_values = dataset_fin[2]\n",
    "numeric_columns = dataset_fin[3]\n",
    "rdf = dataset_fin[4] #real dataframe\n",
    "real_feature_names = dataset_fin[5]\n",
    "features_map = dataset_fin[6] #map each class name to its unique numeric value"
   ]
  },
  {
   "cell_type": "code",
   "execution_count": 4,
   "metadata": {},
   "outputs": [
    {
     "data": {
      "text/html": [
       "<div>\n",
       "<style scoped>\n",
       "    .dataframe tbody tr th:only-of-type {\n",
       "        vertical-align: middle;\n",
       "    }\n",
       "\n",
       "    .dataframe tbody tr th {\n",
       "        vertical-align: top;\n",
       "    }\n",
       "\n",
       "    .dataframe thead th {\n",
       "        text-align: right;\n",
       "    }\n",
       "</style>\n",
       "<table border=\"1\" class=\"dataframe\">\n",
       "  <thead>\n",
       "    <tr style=\"text-align: right;\">\n",
       "      <th></th>\n",
       "      <th>sepal_length</th>\n",
       "      <th>sepal_width</th>\n",
       "      <th>petal_length</th>\n",
       "      <th>petal_width</th>\n",
       "      <th>class</th>\n",
       "    </tr>\n",
       "  </thead>\n",
       "  <tbody>\n",
       "    <tr>\n",
       "      <th>0</th>\n",
       "      <td>4.9</td>\n",
       "      <td>3.0</td>\n",
       "      <td>1.4</td>\n",
       "      <td>0.2</td>\n",
       "      <td>Iris-setosa</td>\n",
       "    </tr>\n",
       "    <tr>\n",
       "      <th>1</th>\n",
       "      <td>4.7</td>\n",
       "      <td>3.2</td>\n",
       "      <td>1.3</td>\n",
       "      <td>0.2</td>\n",
       "      <td>Iris-setosa</td>\n",
       "    </tr>\n",
       "    <tr>\n",
       "      <th>2</th>\n",
       "      <td>4.6</td>\n",
       "      <td>3.1</td>\n",
       "      <td>1.5</td>\n",
       "      <td>0.2</td>\n",
       "      <td>Iris-setosa</td>\n",
       "    </tr>\n",
       "    <tr>\n",
       "      <th>3</th>\n",
       "      <td>5.0</td>\n",
       "      <td>3.6</td>\n",
       "      <td>1.4</td>\n",
       "      <td>0.2</td>\n",
       "      <td>Iris-setosa</td>\n",
       "    </tr>\n",
       "    <tr>\n",
       "      <th>4</th>\n",
       "      <td>5.4</td>\n",
       "      <td>3.9</td>\n",
       "      <td>1.7</td>\n",
       "      <td>0.4</td>\n",
       "      <td>Iris-setosa</td>\n",
       "    </tr>\n",
       "  </tbody>\n",
       "</table>\n",
       "</div>"
      ],
      "text/plain": [
       "   sepal_length  sepal_width  petal_length  petal_width        class\n",
       "0           4.9          3.0           1.4          0.2  Iris-setosa\n",
       "1           4.7          3.2           1.3          0.2  Iris-setosa\n",
       "2           4.6          3.1           1.5          0.2  Iris-setosa\n",
       "3           5.0          3.6           1.4          0.2  Iris-setosa\n",
       "4           5.4          3.9           1.7          0.4  Iris-setosa"
      ]
     },
     "execution_count": 4,
     "metadata": {},
     "output_type": "execute_result"
    }
   ],
   "source": [
    "rdf.head()"
   ]
  },
  {
   "cell_type": "code",
   "execution_count": 5,
   "metadata": {},
   "outputs": [
    {
     "data": {
      "text/html": [
       "<div>\n",
       "<style scoped>\n",
       "    .dataframe tbody tr th:only-of-type {\n",
       "        vertical-align: middle;\n",
       "    }\n",
       "\n",
       "    .dataframe tbody tr th {\n",
       "        vertical-align: top;\n",
       "    }\n",
       "\n",
       "    .dataframe thead th {\n",
       "        text-align: right;\n",
       "    }\n",
       "</style>\n",
       "<table border=\"1\" class=\"dataframe\">\n",
       "  <thead>\n",
       "    <tr style=\"text-align: right;\">\n",
       "      <th></th>\n",
       "      <th>sepal_length</th>\n",
       "      <th>sepal_width</th>\n",
       "      <th>petal_length</th>\n",
       "      <th>petal_width</th>\n",
       "      <th>class</th>\n",
       "    </tr>\n",
       "  </thead>\n",
       "  <tbody>\n",
       "    <tr>\n",
       "      <th>0</th>\n",
       "      <td>4.9</td>\n",
       "      <td>3.0</td>\n",
       "      <td>1.4</td>\n",
       "      <td>0.2</td>\n",
       "      <td>0</td>\n",
       "    </tr>\n",
       "    <tr>\n",
       "      <th>1</th>\n",
       "      <td>4.7</td>\n",
       "      <td>3.2</td>\n",
       "      <td>1.3</td>\n",
       "      <td>0.2</td>\n",
       "      <td>0</td>\n",
       "    </tr>\n",
       "    <tr>\n",
       "      <th>2</th>\n",
       "      <td>4.6</td>\n",
       "      <td>3.1</td>\n",
       "      <td>1.5</td>\n",
       "      <td>0.2</td>\n",
       "      <td>0</td>\n",
       "    </tr>\n",
       "    <tr>\n",
       "      <th>3</th>\n",
       "      <td>5.0</td>\n",
       "      <td>3.6</td>\n",
       "      <td>1.4</td>\n",
       "      <td>0.2</td>\n",
       "      <td>0</td>\n",
       "    </tr>\n",
       "    <tr>\n",
       "      <th>4</th>\n",
       "      <td>5.4</td>\n",
       "      <td>3.9</td>\n",
       "      <td>1.7</td>\n",
       "      <td>0.4</td>\n",
       "      <td>0</td>\n",
       "    </tr>\n",
       "  </tbody>\n",
       "</table>\n",
       "</div>"
      ],
      "text/plain": [
       "   sepal_length  sepal_width  petal_length  petal_width  class\n",
       "0           4.9          3.0           1.4          0.2      0\n",
       "1           4.7          3.2           1.3          0.2      0\n",
       "2           4.6          3.1           1.5          0.2      0\n",
       "3           5.0          3.6           1.4          0.2      0\n",
       "4           5.4          3.9           1.7          0.4      0"
      ]
     },
     "execution_count": 5,
     "metadata": {},
     "output_type": "execute_result"
    }
   ],
   "source": [
    "df.head()"
   ]
  },
  {
   "cell_type": "markdown",
   "metadata": {},
   "source": [
    "## Black box classifier"
   ]
  },
  {
   "cell_type": "code",
   "execution_count": 6,
   "metadata": {},
   "outputs": [
    {
     "data": {
      "text/plain": [
       "RandomForestClassifier()"
      ]
     },
     "execution_count": 6,
     "metadata": {},
     "output_type": "execute_result"
    }
   ],
   "source": [
    "X = df.loc[:, df.columns != class_name].values\n",
    "y = df[class_name].values\n",
    "\n",
    "X_train, X_test, y_train, y_test = train_test_split(X, y, test_size=0.3, stratify=y)\n",
    "blackbox = RandomForestClassifier()\n",
    "blackbox.fit(X_train, y_train)"
   ]
  },
  {
   "cell_type": "code",
   "execution_count": 7,
   "metadata": {
    "scrolled": true
   },
   "outputs": [
    {
     "name": "stdout",
     "output_type": "stream",
     "text": [
      "Accuracy: 0.911\n"
     ]
    }
   ],
   "source": [
    "y_pred = blackbox.predict(X_test)\n",
    "print('Accuracy: %.3f' % accuracy_score(y_test, y_pred))"
   ]
  },
  {
   "cell_type": "markdown",
   "metadata": {},
   "source": [
    "## select an instance _x_"
   ]
  },
  {
   "cell_type": "code",
   "execution_count": 42,
   "metadata": {},
   "outputs": [
    {
     "name": "stdout",
     "output_type": "stream",
     "text": [
      "['Iris-setosa', 'Iris-versicolor', 'Iris-virginica']\n",
      "[0.   0.97 0.03]\n",
      "blackbox(x) = { Iris-versicolor }\n"
     ]
    }
   ],
   "source": [
    "i = 10\n",
    "x = X_test[i]\n",
    "y_val = blackbox.predict(x.reshape(1,-1))[0]\n",
    "\n",
    "print(class_values)\n",
    "class_prob = blackbox.predict_proba(x.reshape(1,-1))[0]\n",
    "print(class_prob)\n",
    "\n",
    "y_val_name = class_values[y_val]\n",
    "print('blackbox(x) = { %s }' % y_val_name)\n"
   ]
  },
  {
   "cell_type": "code",
   "execution_count": 9,
   "metadata": {},
   "outputs": [
    {
     "name": "stdout",
     "output_type": "stream",
     "text": [
      "x = { sepal_length = 6.0, sepal_width = 2.9, petal_length = 4.5, petal_width = 1.5 }\n"
     ]
    }
   ],
   "source": [
    "print('x = %s' % record2str(x, feature_names, numeric_columns))"
   ]
  },
  {
   "cell_type": "markdown",
   "metadata": {},
   "source": [
    "# LORE explainer (explaining an instance x)"
   ]
  },
  {
   "cell_type": "code",
   "execution_count": 10,
   "metadata": {
    "scrolled": true
   },
   "outputs": [],
   "source": [
    "lore_obj = lore.LORE(X_test, blackbox, feature_names, class_name, class_values,\n",
    "                 numeric_columns, features_map, neigh_type='ngmusx', verbose=False)"
   ]
  },
  {
   "cell_type": "code",
   "execution_count": 11,
   "metadata": {},
   "outputs": [
    {
     "name": "stdout",
     "output_type": "stream",
     "text": [
      "Z is: [[6.         2.9        4.5        1.5       ]\n",
      " [6.04689511 2.80635709 4.52816521 1.44658174]\n",
      " [6.03025244 2.83347291 4.4589409  1.43571066]\n",
      " ...\n",
      " [6.24790993 2.93188763 4.63349514 1.71025555]\n",
      " [6.19210268 2.90627439 4.52734356 1.65123054]\n",
      " [6.06124547 2.90299125 4.58190509 1.74307727]]\n"
     ]
    },
    {
     "data": {
      "text/plain": [
       "(1010, 4)"
      ]
     },
     "execution_count": 11,
     "metadata": {},
     "output_type": "execute_result"
    }
   ],
   "source": [
    "# just to check\n",
    "Z = lore_obj.neighgen_fn(x)\n",
    "print('Z is:',Z)\n",
    "Z.shape"
   ]
  },
  {
   "cell_type": "code",
   "execution_count": 12,
   "metadata": {
    "scrolled": true
   },
   "outputs": [
    {
     "name": "stdout",
     "output_type": "stream",
     "text": [
      "generating neighborhood - ngmusx\n",
      "synthetic neighborhood class counts {'Iris-versicolor': 673, 'Iris-virginica': 337}\n",
      "r = { petal_width <= 1.70 } --> { class: Iris-versicolor }\n",
      "c = { { petal_width > 1.70, sepal_length > 6.15 } }\n"
     ]
    }
   ],
   "source": [
    "explanation = lore_obj.explain_instance(x, samples=1000, nbr_runs=10, verbose=True)\n",
    "\n",
    "print(explanation)"
   ]
  },
  {
   "cell_type": "code",
   "execution_count": 13,
   "metadata": {},
   "outputs": [
    {
     "name": "stdout",
     "output_type": "stream",
     "text": [
      "x = { sepal_length = 6.0, sepal_width = 2.9, petal_length = 4.5, petal_width = 1.5 }\n"
     ]
    }
   ],
   "source": [
    "print('x = %s' % record2str(x, feature_names, numeric_columns))"
   ]
  },
  {
   "cell_type": "markdown",
   "metadata": {},
   "source": [
    "## check the borderline"
   ]
  },
  {
   "cell_type": "code",
   "execution_count": 74,
   "metadata": {},
   "outputs": [],
   "source": [
    "temp_x = x.copy()"
   ]
  },
  {
   "cell_type": "code",
   "execution_count": 4,
   "metadata": {},
   "outputs": [
    {
     "data": {
      "text/plain": [
       "defaultdict(dict,\n",
       "            {0: {'sepal_length': 0},\n",
       "             1: {'sepal_width': 1},\n",
       "             2: {'petal_length': 2},\n",
       "             3: {'petal_width': 3}})"
      ]
     },
     "execution_count": 4,
     "metadata": {},
     "output_type": "execute_result"
    }
   ],
   "source": [
    "features_map"
   ]
  },
  {
   "cell_type": "markdown",
   "metadata": {},
   "source": [
    "* First, I changed the petal width by increasing it by 1 to be more than 1.70"
   ]
  },
  {
   "cell_type": "code",
   "execution_count": 75,
   "metadata": {},
   "outputs": [
    {
     "name": "stdout",
     "output_type": "stream",
     "text": [
      "x = { sepal_length = 6.0, sepal_width = 2.9, petal_length = 4.5, petal_width = 2.5 }\n"
     ]
    }
   ],
   "source": [
    "# c = petal_width > 1.70\n",
    "temp_x[3] = temp_x[3]+1\n",
    "print('x = %s' % record2str(temp_x, feature_names, numeric_columns))"
   ]
  },
  {
   "cell_type": "markdown",
   "metadata": {},
   "source": [
    "* Now we check the probability of each classes and we see that they changed"
   ]
  },
  {
   "cell_type": "code",
   "execution_count": 76,
   "metadata": {},
   "outputs": [
    {
     "name": "stdout",
     "output_type": "stream",
     "text": [
      "['Iris-setosa', 'Iris-versicolor', 'Iris-virginica']\n",
      "[0.   0.55 0.45]\n",
      "Iris-versicolor\n"
     ]
    }
   ],
   "source": [
    "print(class_values)\n",
    "print(blackbox.predict_proba(temp_x.reshape(1,-1))[0])\n",
    "print(class_values[blackbox.predict(temp_x.reshape(1,-1))[0]])"
   ]
  },
  {
   "cell_type": "code",
   "execution_count": 77,
   "metadata": {},
   "outputs": [
    {
     "name": "stdout",
     "output_type": "stream",
     "text": [
      "generating neighborhood - ngmusx\n",
      "synthetic neighborhood class counts {'Iris-versicolor': 714, 'Iris-virginica': 296}\n",
      "r = { sepal_length <= 6.05, sepal_width > 2.82 } --> { class: Iris-versicolor }\n",
      "c = { { sepal_length > 6.05, sepal_width <= 2.85 } }\n"
     ]
    }
   ],
   "source": [
    "explanation_temp = lore_obj.explain_instance(temp_x, samples=1000, nbr_runs=10, verbose=True)\n",
    "\n",
    "print(explanation_temp)"
   ]
  },
  {
   "cell_type": "markdown",
   "metadata": {},
   "source": [
    "* Then, I changed the sepal length value to be more than 6.15"
   ]
  },
  {
   "cell_type": "code",
   "execution_count": 78,
   "metadata": {},
   "outputs": [
    {
     "name": "stdout",
     "output_type": "stream",
     "text": [
      "x = { sepal_length = 6.5, sepal_width = 2.9, petal_length = 4.5, petal_width = 2.5 }\n"
     ]
    }
   ],
   "source": [
    "# c = sepal_length > 6.15\n",
    "temp_x[0] = 6.5\n",
    "print('x = %s' % record2str(temp_x, feature_names, numeric_columns))"
   ]
  },
  {
   "cell_type": "code",
   "execution_count": 79,
   "metadata": {},
   "outputs": [
    {
     "name": "stdout",
     "output_type": "stream",
     "text": [
      "['Iris-setosa', 'Iris-versicolor', 'Iris-virginica']\n",
      "[0.   0.43 0.57]\n",
      "Iris-virginica\n"
     ]
    }
   ],
   "source": [
    "print(class_values)\n",
    "print(blackbox.predict_proba(temp_x.reshape(1,-1))[0])\n",
    "print(class_values[blackbox.predict(temp_x.reshape(1,-1))[0]])"
   ]
  },
  {
   "cell_type": "markdown",
   "metadata": {},
   "source": [
    "* We can see here the class has been changed from Iris-versicolor to Iris-virginica"
   ]
  },
  {
   "cell_type": "code",
   "execution_count": 80,
   "metadata": {},
   "outputs": [
    {
     "name": "stdout",
     "output_type": "stream",
     "text": [
      "generating neighborhood - ngmusx\n",
      "synthetic neighborhood class counts {'Iris-versicolor': 469, 'Iris-virginica': 541}\n",
      "r = { sepal_width <= 3.10, petal_length > 4.41 } --> { class: Iris-virginica }\n",
      "c = { { sepal_width > 3.10 } }\n"
     ]
    }
   ],
   "source": [
    "explanation_temp2 = lore_obj.explain_instance(temp_x, samples=1000, nbr_runs=10, verbose=True)\n",
    "\n",
    "print(explanation_temp2)"
   ]
  },
  {
   "cell_type": "code",
   "execution_count": null,
   "metadata": {},
   "outputs": [],
   "source": []
  },
  {
   "cell_type": "code",
   "execution_count": null,
   "metadata": {},
   "outputs": [],
   "source": []
  }
 ],
 "metadata": {
  "kernelspec": {
   "display_name": "Python 3",
   "language": "python",
   "name": "python3"
  },
  "language_info": {
   "codemirror_mode": {
    "name": "ipython",
    "version": 3
   },
   "file_extension": ".py",
   "mimetype": "text/x-python",
   "name": "python",
   "nbconvert_exporter": "python",
   "pygments_lexer": "ipython3",
   "version": "3.8.3"
  }
 },
 "nbformat": 4,
 "nbformat_minor": 4
}
