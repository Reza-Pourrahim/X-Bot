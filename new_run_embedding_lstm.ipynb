{
  "nbformat": 4,
  "nbformat_minor": 0,
  "metadata": {
    "colab": {
      "name": "new_run_embedding_lstm.ipynb",
      "provenance": [],
      "collapsed_sections": [
        "f6aHFke3Heql",
        "Dp3HU5kJHnf7",
        "JtXXkOjJHzFE"
      ]
    },
    "kernelspec": {
      "name": "python3",
      "display_name": "Python 3"
    },
    "language_info": {
      "name": "python"
    }
  },
  "cells": [
    {
      "cell_type": "code",
      "metadata": {
        "id": "bhmbr3R2w7T3",
        "colab": {
          "base_uri": "https://localhost:8080/"
        },
        "outputId": "96b27d76-37b5-4af0-c2aa-69af37840295"
      },
      "source": [
        "from google.colab import drive\n",
        "\n",
        "drive.mount('/content/drive')"
      ],
      "execution_count": 1,
      "outputs": [
        {
          "output_type": "stream",
          "text": [
            "Drive already mounted at /content/drive; to attempt to forcibly remount, call drive.mount(\"/content/drive\", force_remount=True).\n"
          ],
          "name": "stdout"
        }
      ]
    },
    {
      "cell_type": "code",
      "metadata": {
        "id": "NtWpOFC2w9Px"
      },
      "source": [
        "import sys\n",
        "sys.path.append(\"/content/drive/MyDrive/Thesis/reimp_lore\")\n",
        "\n",
        "import os\n",
        "os.chdir('/content/drive/MyDrive/Thesis/reimp_lore')\n",
        "\n",
        "# Now the directory '?' is the current working directory."
      ],
      "execution_count": 2,
      "outputs": []
    },
    {
      "cell_type": "markdown",
      "metadata": {
        "id": "J2AX_ih1lQJJ"
      },
      "source": [
        "# Libraries"
      ]
    },
    {
      "cell_type": "code",
      "metadata": {
        "id": "dYI7WCrV0BSs",
        "colab": {
          "base_uri": "https://localhost:8080/"
        },
        "outputId": "35e458dc-4636-4487-e964-60975eb70e6b"
      },
      "source": [
        "!pip install symspellpy"
      ],
      "execution_count": 3,
      "outputs": [
        {
          "output_type": "stream",
          "text": [
            "Requirement already satisfied: symspellpy in /usr/local/lib/python3.7/dist-packages (6.7.0)\n",
            "Requirement already satisfied: numpy>=1.13.1 in /usr/local/lib/python3.7/dist-packages (from symspellpy) (1.19.5)\n"
          ],
          "name": "stdout"
        }
      ]
    },
    {
      "cell_type": "code",
      "metadata": {
        "id": "NluoEm6-lCY6",
        "colab": {
          "base_uri": "https://localhost:8080/"
        },
        "outputId": "9c6b4e98-0933-407e-a7fe-9b7281ca91c2"
      },
      "source": [
        "import nltk\n",
        "nltk.download('punkt')\n",
        "nltk.download('wordnet')\n",
        "\n",
        "from nltk.stem import WordNetLemmatizer\n",
        "lemmatizer = WordNetLemmatizer()\n",
        "\n",
        "import pickle\n",
        "import string\n",
        "punct = string.punctuation\n",
        "trantab = str.maketrans(punct, len(punct) * ' ')  # Every punctuation symbol will be replaced by a space\n",
        "whitelist = ['?', '!']\n",
        "\n",
        "import warnings\n",
        "warnings.filterwarnings(\"ignore\")\n",
        "\n",
        "import random\n",
        "import numpy as np\n",
        "import re\n",
        "import pandas as pd\n",
        "from nltk.tokenize.treebank import TreebankWordDetokenizer\n",
        "\n",
        "from keras.preprocessing.text import Tokenizer\n",
        "from keras.preprocessing.sequence import pad_sequences\n",
        "\n",
        "from keras.models import Sequential\n",
        "from keras import layers\n",
        "from keras.callbacks import EarlyStopping, ModelCheckpoint"
      ],
      "execution_count": 4,
      "outputs": [
        {
          "output_type": "stream",
          "text": [
            "[nltk_data] Downloading package punkt to /root/nltk_data...\n",
            "[nltk_data]   Package punkt is already up-to-date!\n",
            "[nltk_data] Downloading package wordnet to /root/nltk_data...\n",
            "[nltk_data]   Package wordnet is already up-to-date!\n"
          ],
          "name": "stdout"
        }
      ]
    },
    {
      "cell_type": "code",
      "metadata": {
        "id": "bEH0Mfyak_Z8"
      },
      "source": [
        "from keras.models import load_model\n",
        "\n",
        "import json\n",
        "import matplotlib.pyplot as plt"
      ],
      "execution_count": 5,
      "outputs": []
    },
    {
      "cell_type": "code",
      "metadata": {
        "id": "AbX9sIiHz-Zw",
        "colab": {
          "base_uri": "https://localhost:8080/"
        },
        "outputId": "b81298b7-4044-4d53-fc42-51b421c4b22f"
      },
      "source": [
        "import nltk\n",
        "import numpy as np\n",
        "import random\n",
        "import pickle\n",
        "\n",
        "from nltk.stem import WordNetLemmatizer\n",
        "lemmatizer = WordNetLemmatizer()\n",
        "\n",
        "import re, string\n",
        "punct = string.punctuation\n",
        "trantab = str.maketrans(punct, len(punct) * ' ')  # Every punctuation symbol will be replaced by a space\n",
        "whitelist = ['?', '!']\n",
        "\n",
        "# Using symspell to correct spelling\n",
        "import pkg_resources\n",
        "from symspellpy import SymSpell, Verbosity\n",
        "\n",
        "sym_spell = SymSpell(max_dictionary_edit_distance=2, prefix_length=7)\n",
        "dictionary_path = pkg_resources.resource_filename(\"symspellpy\",\n",
        "                                                  \"frequency_dictionary_en_82_765.txt\")\n",
        "bigram_path = pkg_resources.resource_filename(\"symspellpy\",\n",
        "                                              \"frequency_bigramdictionary_en_243_342.txt\")\n",
        "sym_spell.load_dictionary(dictionary_path, term_index=0, count_index=1)\n",
        "sym_spell.load_bigram_dictionary(bigram_path, term_index=0, count_index=2)"
      ],
      "execution_count": 6,
      "outputs": [
        {
          "output_type": "execute_result",
          "data": {
            "text/plain": [
              "True"
            ]
          },
          "metadata": {
            "tags": []
          },
          "execution_count": 6
        }
      ]
    },
    {
      "cell_type": "code",
      "metadata": {
        "id": "r4Jz6n8KHRzO",
        "colab": {
          "base_uri": "https://localhost:8080/"
        },
        "outputId": "1da4d144-f9d6-4b9f-96b0-b7ee701ec46b"
      },
      "source": [
        "!pip install bitarray\n",
        "!pip install scikit-multilearn\n",
        "!pip install arff"
      ],
      "execution_count": 7,
      "outputs": [
        {
          "output_type": "stream",
          "text": [
            "Requirement already satisfied: bitarray in /usr/local/lib/python3.7/dist-packages (2.0.0)\n",
            "Requirement already satisfied: scikit-multilearn in /usr/local/lib/python3.7/dist-packages (0.2.0)\n",
            "Requirement already satisfied: arff in /usr/local/lib/python3.7/dist-packages (0.9)\n"
          ],
          "name": "stdout"
        }
      ]
    },
    {
      "cell_type": "code",
      "metadata": {
        "id": "L210JMifHWiZ"
      },
      "source": [
        "import lore\n",
        "from datamanager import *\n",
        "\n",
        "from sklearn.ensemble import RandomForestClassifier\n",
        "from sklearn.model_selection import train_test_split\n",
        "\n",
        "from sklearn.metrics import f1_score, accuracy_score\n",
        "\n",
        "from util import record2str"
      ],
      "execution_count": 8,
      "outputs": []
    },
    {
      "cell_type": "code",
      "metadata": {
        "id": "DGv9Sp9xbC4z",
        "colab": {
          "base_uri": "https://localhost:8080/",
          "height": 35
        },
        "outputId": "a30abd63-4665-44fc-d5cd-ec17e16ff623"
      },
      "source": [
        "np.version.version"
      ],
      "execution_count": 9,
      "outputs": [
        {
          "output_type": "execute_result",
          "data": {
            "application/vnd.google.colaboratory.intrinsic+json": {
              "type": "string"
            },
            "text/plain": [
              "'1.19.5'"
            ]
          },
          "metadata": {
            "tags": []
          },
          "execution_count": 9
        }
      ]
    },
    {
      "cell_type": "markdown",
      "metadata": {
        "id": "f6aHFke3Heql"
      },
      "source": [
        "# Explainer Dataset"
      ]
    },
    {
      "cell_type": "code",
      "metadata": {
        "id": "8eOLCXFbHh4r"
      },
      "source": [
        "## Iris Dataset\n",
        "# dataset_name = 'dataset/iris.csv'\n",
        "# dataset = prepare_iris_dataset(dataset_name)\n",
        "\n",
        "## wine\n",
        "# dataset_name = 'dataset/wine.csv'\n",
        "# dataset = prepare_wine_dataset(dataset_name)\n",
        "\n",
        "##############################################\n",
        "#           Categorical dataset              #\n",
        "##############################################\n",
        "## german: (0 = Good, 1 = Bad)\n",
        "# dataset_name = 'dataset/german_credit.csv'\n",
        "# dataset = prepare_german_dataset(dataset_name)\n",
        "\n",
        "## adult: ['<=50K', '>50K']\n",
        "# dataset_name = 'dataset/adult.csv'\n",
        "# dataset = prepare_adult_dataset(dataset_name)\n",
        "\n",
        "## compas-scores-two-years: ['High', 'Low', 'Medium']\n",
        "dataset_name = 'dataset/compas-scores-two-years.csv'\n",
        "dataset = prepare_compass_dataset(dataset_name)\n",
        "\n",
        "dataframe = dataset[0]\n",
        "class_name = dataset[1]\n",
        "dataset_fin = prepare_dataset(dataframe, class_name)"
      ],
      "execution_count": 10,
      "outputs": []
    },
    {
      "cell_type": "code",
      "metadata": {
        "id": "1aVMCrTrHh7G"
      },
      "source": [
        "df = dataset_fin[0] #dataframe with unique numeric class values(0, 1, ...)\n",
        "feature_names = dataset_fin[1]\n",
        "class_values = dataset_fin[2]\n",
        "numeric_columns = dataset_fin[3]\n",
        "rdf = dataset_fin[4] #real dataframe\n",
        "real_feature_names = dataset_fin[5]\n",
        "features_map = dataset_fin[6] #map each class name to its unique numeric value\n",
        "df_categorical_idx = dataset_fin[7]"
      ],
      "execution_count": 11,
      "outputs": []
    },
    {
      "cell_type": "markdown",
      "metadata": {
        "id": "Dp3HU5kJHnf7"
      },
      "source": [
        "# Black box classifier"
      ]
    },
    {
      "cell_type": "code",
      "metadata": {
        "id": "eHEwasTTHpk0",
        "colab": {
          "base_uri": "https://localhost:8080/"
        },
        "outputId": "98f580ce-c107-44cd-8c00-81f7a9e8c3b9"
      },
      "source": [
        "X = df.loc[:, df.columns != class_name].values\n",
        "y = df[class_name].values\n",
        "\n",
        "X_train, X_test, y_train, y_test = train_test_split(X, y, test_size=0.3, stratify=y)\n",
        "blackbox = RandomForestClassifier()\n",
        "blackbox.fit(X_train, y_train)"
      ],
      "execution_count": 12,
      "outputs": [
        {
          "output_type": "execute_result",
          "data": {
            "text/plain": [
              "RandomForestClassifier(bootstrap=True, ccp_alpha=0.0, class_weight=None,\n",
              "                       criterion='gini', max_depth=None, max_features='auto',\n",
              "                       max_leaf_nodes=None, max_samples=None,\n",
              "                       min_impurity_decrease=0.0, min_impurity_split=None,\n",
              "                       min_samples_leaf=1, min_samples_split=2,\n",
              "                       min_weight_fraction_leaf=0.0, n_estimators=100,\n",
              "                       n_jobs=None, oob_score=False, random_state=None,\n",
              "                       verbose=0, warm_start=False)"
            ]
          },
          "metadata": {
            "tags": []
          },
          "execution_count": 12
        }
      ]
    },
    {
      "cell_type": "code",
      "metadata": {
        "id": "Eg7Pq_G_Hp_o",
        "colab": {
          "base_uri": "https://localhost:8080/"
        },
        "outputId": "a05e50fc-7c82-4142-8cc5-48a2c444ffc7"
      },
      "source": [
        "y_pred = blackbox.predict(X_test)\n",
        "print('Accuracy: %.3f' % accuracy_score(y_test, y_pred))"
      ],
      "execution_count": 13,
      "outputs": [
        {
          "output_type": "stream",
          "text": [
            "Accuracy: 0.600\n"
          ],
          "name": "stdout"
        }
      ]
    },
    {
      "cell_type": "markdown",
      "metadata": {
        "id": "3W69GCVwHr_q"
      },
      "source": [
        "## Select an instance"
      ]
    },
    {
      "cell_type": "code",
      "metadata": {
        "id": "pJT8l84JHqPu",
        "colab": {
          "base_uri": "https://localhost:8080/"
        },
        "outputId": "0db92718-e148-4f26-b682-c679c14917e2"
      },
      "source": [
        "i = 10\n",
        "x = X_test[i]\n",
        "y_val = blackbox.predict(x.reshape(1,-1))[0]\n",
        "\n",
        "print(class_values)\n",
        "class_prob = blackbox.predict_proba(x.reshape(1,-1))[0]\n",
        "print(class_prob)\n",
        "\n",
        "y_val_name = class_values[y_val]\n",
        "print('blackbox(x) = { %s }' % y_val_name)\n"
      ],
      "execution_count": 14,
      "outputs": [
        {
          "output_type": "stream",
          "text": [
            "['High', 'Low', 'Medium']\n",
            "[0.05 0.72 0.23]\n",
            "blackbox(x) = { Low }\n"
          ],
          "name": "stdout"
        }
      ]
    },
    {
      "cell_type": "code",
      "metadata": {
        "id": "DnvWF01jHw80",
        "colab": {
          "base_uri": "https://localhost:8080/"
        },
        "outputId": "540fddbe-10f1-4c30-d031-83c910177cdd"
      },
      "source": [
        "print('x = %s' % record2str(x, feature_names, numeric_columns))"
      ],
      "execution_count": 15,
      "outputs": [
        {
          "output_type": "stream",
          "text": [
            "x = { age = 45, priors_count = 1, days_b_screening_arrest = 1, is_recid = 0, is_violent_recid = 0, two_year_recid = 0, length_of_stay = 6, age_cat = Greater than 45, sex = Female, race = African-American, c_charge_degree = F }\n"
          ],
          "name": "stdout"
        }
      ]
    },
    {
      "cell_type": "markdown",
      "metadata": {
        "id": "JtXXkOjJHzFE"
      },
      "source": [
        "# LORE explainer (explaining an instance x)"
      ]
    },
    {
      "cell_type": "code",
      "metadata": {
        "id": "28syieuPH4un"
      },
      "source": [
        "lore_obj = lore.LORE(X_test, blackbox, feature_names, class_name, class_values,\n",
        "                 numeric_columns, features_map, df_categorical_idx, neigh_type='ngmusx', verbose=False)"
      ],
      "execution_count": 16,
      "outputs": []
    },
    {
      "cell_type": "code",
      "metadata": {
        "id": "H7DhAkbhH4xT",
        "colab": {
          "base_uri": "https://localhost:8080/"
        },
        "outputId": "dc0b28cd-0a0f-40c3-bd06-869cd4393ec0"
      },
      "source": [
        "explanation = lore_obj.explain_instance(x, samples=1000, nbr_runs=10, exemplar_num=3)\n",
        "print(explanation)"
      ],
      "execution_count": 17,
      "outputs": [
        {
          "output_type": "stream",
          "text": [
            "r = { is_recid <= 0.50 } --> { class: Low }\n",
            "\n",
            "feature importance = {'is_recid': 0.5350247117415892}\n",
            "\n",
            "c = { { is_recid > 0.50, two_year_recid > 0.50 } --> { class: High } }\n",
            "\n",
            "exemplars = { age = 46, priors_count = 1, days_b_screening_arrest = 1, is_recid = 0, is_violent_recid = 0, two_year_recid = 0, length_of_stay = 10, age_cat = Greater than 45, sex = Male, race = Caucasian, c_charge_degree = F }\n",
            "{ age = 45, priors_count = 4, days_b_screening_arrest = 0, is_recid = 0, is_violent_recid = 0, two_year_recid = 0, length_of_stay = 3, age_cat = Greater than 45, sex = Male, race = African-American, c_charge_degree = M }\n",
            "{ age = 42, priors_count = 0, days_b_screening_arrest = 0, is_recid = 0, is_violent_recid = 0, two_year_recid = 0, length_of_stay = 4, age_cat = 25 - 45, sex = Male, race = Hispanic, c_charge_degree = M }\n",
            "\n",
            "counter-exemplars = { age = 45, priors_count = 1, days_b_screening_arrest = 1, is_recid = 1, is_violent_recid = 0, two_year_recid = 1, length_of_stay = 5, age_cat = Greater than 45, sex = Male, race = Caucasian, c_charge_degree = F }\n",
            "{ age = 44, priors_count = 1, days_b_screening_arrest = 0, is_recid = 1, is_violent_recid = 0, two_year_recid = 1, length_of_stay = 6, age_cat = 25 - 45, sex = Female, race = Caucasian, c_charge_degree = M }\n",
            "{ age = 43, priors_count = 2, days_b_screening_arrest = 0, is_recid = 1, is_violent_recid = 0, two_year_recid = 1, length_of_stay = 5, age_cat = 25 - 45, sex = Male, race = Caucasian, c_charge_degree = F }\n"
          ],
          "name": "stdout"
        }
      ]
    },
    {
      "cell_type": "markdown",
      "metadata": {
        "id": "zLIRZoh4lLl0"
      },
      "source": [
        "# X-Bot Model"
      ]
    },
    {
      "cell_type": "code",
      "metadata": {
        "id": "yTrMmzDQ2r__"
      },
      "source": [
        "\n",
        "class XBotModel(object):\n",
        "    def __init__(self, verbose=False):\n",
        "        self.verbose = verbose\n",
        "\n",
        "    def decontractions(self, phrase):\n",
        "        \"\"\"decontracted takes text and convert contractions into natural form.\n",
        "         ref: https://stackoverflow.com/questions/19790188/expanding-english-language-contractions-in-python/47091490#47091490\"\"\"\n",
        "        # specific\n",
        "        phrase = re.sub(r\"won\\'t\", \"will not\", phrase)\n",
        "        phrase = re.sub(r\"can\\'t\", \"can not\", phrase)\n",
        "        phrase = re.sub(r\"won\\’t\", \"will not\", phrase)\n",
        "        phrase = re.sub(r\"can\\’t\", \"can not\", phrase)\n",
        "\n",
        "        # general\n",
        "        phrase = re.sub(r\"n\\'t\", \" not\", phrase)\n",
        "        phrase = re.sub(r\"\\'re\", \" are\", phrase)\n",
        "        phrase = re.sub(r\"\\'s\", \" is\", phrase)\n",
        "        phrase = re.sub(r\"\\'d\", \" would\", phrase)\n",
        "        phrase = re.sub(r\"\\'ll\", \" will\", phrase)\n",
        "        phrase = re.sub(r\"\\'t\", \" not\", phrase)\n",
        "        phrase = re.sub(r\"\\'ve\", \" have\", phrase)\n",
        "        phrase = re.sub(r\"\\'m\", \" am\", phrase)\n",
        "\n",
        "        phrase = re.sub(r\"n\\’t\", \" not\", phrase)\n",
        "        phrase = re.sub(r\"\\’re\", \" are\", phrase)\n",
        "        phrase = re.sub(r\"\\’s\", \" is\", phrase)\n",
        "        phrase = re.sub(r\"\\’d\", \" would\", phrase)\n",
        "        phrase = re.sub(r\"\\’ll\", \" will\", phrase)\n",
        "        phrase = re.sub(r\"\\’t\", \" not\", phrase)\n",
        "        phrase = re.sub(r\"\\’ve\", \" have\", phrase)\n",
        "        phrase = re.sub(r\"\\’m\", \" am\", phrase)\n",
        "\n",
        "        return phrase\n",
        "\n",
        "    def clean_text(self, text):\n",
        "        # Lower casting\n",
        "        text = text.lower()\n",
        "        # Decontracted\n",
        "        text = self.decontractions(text)\n",
        "        # Remove more than 1 space\n",
        "        text = \" \".join(text.split())\n",
        "        # Remove punctuation\n",
        "        text = text.translate(trantab)\n",
        "        text_words = nltk.word_tokenize(text)\n",
        "        words = [lemmatizer.lemmatize(w) for w in text_words if w not in whitelist]\n",
        "        return words\n",
        "\n",
        "    def detokenize(self, text):\n",
        "        return TreebankWordDetokenizer().detokenize(text)\n",
        "\n",
        "\n",
        "    def prepare_train_dataset(self, data):\n",
        "        classes = []\n",
        "        pattern_list = []\n",
        "        pattern_class = []\n",
        "\n",
        "        # adding classes to our class list\n",
        "        # pattern_class = [intent['tag'] for intent in data['intents'] if intent not in pattern_class]\n",
        "\n",
        "        for intent in data['intents']:\n",
        "            for pattern in intent['patterns']:\n",
        "\n",
        "                # clean the pattern\n",
        "                w = self.clean_text(pattern)\n",
        "\n",
        "                # adding documents\n",
        "                detokenize_words = self.detokenize(w)\n",
        "                pattern_list.append((detokenize_words))\n",
        "                pattern_class.append(intent['tag'])\n",
        "\n",
        "\n",
        "\n",
        "        # This class allows to vectorize a text corpus, by turning each text into either a sequence of integers (each integer being the index of a token in a dictionary)\n",
        "        tokenizer = Tokenizer()\n",
        "        tokenizer.fit_on_texts(pattern_list)\n",
        "        # Transforms each text in texts to a sequence of integers.\n",
        "        tokenized_seq = tokenizer.texts_to_sequences(pattern_list)\n",
        "\n",
        "        # Determining the maximum length of the tokenized sequential\n",
        "        max_length = max([len(s) for s in tokenized_seq])\n",
        "\n",
        "        # pad_sequences is used to ensure that all sequences in a list have the same length\n",
        "        padded_sentences = pad_sequences(tokenized_seq, maxlen=max_length, padding='post')\n",
        "        data_pattern = list(padded_sentences)\n",
        "\n",
        "        # labels (classes)\n",
        "        labels = pd.get_dummies(pattern_class).values.tolist()\n",
        "\n",
        "        # training dataset\n",
        "        training_dataset = [[a]+[b] for a, b in zip(data_pattern, labels)]\n",
        "\n",
        "        # shuffle our features and turn into np.array\n",
        "        random.shuffle(training_dataset)\n",
        "        training_dataset = np.array(training_dataset)\n",
        "\n",
        "\n",
        "        # a list of different types of intents of responses\n",
        "        classes = sorted(list(set(pattern_class)))\n",
        "        # save as a pickle\n",
        "        pickle.dump(classes, open('classes.pkl', 'wb'))\n",
        "\n",
        "        # define vocabulary size (largest integer value)\n",
        "        # The vocabulary size is the total number of words in our vocabulary, plus one for unknown words\n",
        "        vocab_size = len(tokenizer.word_index) + 1\n",
        "        if self.verbose:\n",
        "            print(\"Training Data Created!\")\n",
        "            print(\"Words : {}\".format(tokenizer.word_index))\n",
        "            print('Number of  Words = {}'.format(vocab_size))\n",
        "            print('Maximum Length of Words in a Sentence = {}'.format(max_length))\n",
        "\n",
        "        return training_dataset, vocab_size, tokenizer\n",
        "\n",
        "\n",
        "    def create_model(self, train_x, train_y, vocab_size=1000, output_dim=128, lstm_out=100, dropout=0.5):\n",
        "        input_length = len(train_x[0])\n",
        "        num_classes = len(train_y[0])\n",
        "\n",
        "        # Model\n",
        "        model = Sequential()\n",
        "        # The embedding layer\n",
        "        model.add(layers.Embedding(input_dim=vocab_size,\n",
        "                                   output_dim=output_dim,\n",
        "                                   input_length=input_length))\n",
        "        # The Bidirectional LSTM layer\n",
        "        model.add(layers.Bidirectional(layers.LSTM(lstm_out, dropout=dropout)))\n",
        "        # The Dense layer\n",
        "        model.add(layers.Dense(num_classes, activation='softmax'))\n",
        "\n",
        "        if self.verbose:\n",
        "            print(model.summary())\n",
        "\n",
        "        return model\n",
        "\n",
        "    def compile_fit_model(self, model, train_x, train_y, epochs=100, batch_size=5,\n",
        "                          earlystopping_patience=10, validation_split=0.3, loss='categorical_crossentropy'):\n",
        "\n",
        "        if self.verbose:\n",
        "            verb = 1\n",
        "        else:\n",
        "            verb = 0\n",
        "\n",
        "        es = EarlyStopping(monitor='loss', patience=earlystopping_patience, verbose=verb)\n",
        "        mc = ModelCheckpoint('best_xbot_model.h5', monitor='val_accuracy', save_best_only=True)\n",
        "\n",
        "        # Model compilation\n",
        "        model.compile(loss=loss,\n",
        "                      optimizer='adam',\n",
        "                      metrics=['accuracy'])\n",
        "\n",
        "        # Model Training and Validation\n",
        "        mymodel = model.fit(x=np.array(train_x),\n",
        "                            y=np.array(train_y),\n",
        "                            validation_split=validation_split,\n",
        "                            epochs=epochs,\n",
        "                            batch_size=batch_size,\n",
        "                            verbose=verb,\n",
        "                            callbacks=[es, mc]).history\n",
        "        return mymodel"
      ],
      "execution_count": 18,
      "outputs": []
    },
    {
      "cell_type": "markdown",
      "metadata": {
        "id": "LeDL7iMqla7K"
      },
      "source": [
        "# Run"
      ]
    },
    {
      "cell_type": "code",
      "metadata": {
        "id": "SUoC7TQ32sDE"
      },
      "source": [
        "###################### Chat Data ######################\n",
        "data_file = open('chatdata/intents.json').read()\n",
        "data = json.loads(data_file)"
      ],
      "execution_count": 19,
      "outputs": []
    },
    {
      "cell_type": "code",
      "metadata": {
        "id": "35A-1P4zlhBJ",
        "colab": {
          "base_uri": "https://localhost:8080/"
        },
        "outputId": "4ce84ce4-fb2e-4464-d65e-69d15551705e"
      },
      "source": [
        "XBot_obj = XBotModel(verbose=True)\n",
        "\n",
        "# training dataset\n",
        "train_dataset, vocab_size, tokenizer = XBot_obj.prepare_train_dataset(data)\n",
        "train_x = list(train_dataset[:, 0])\n",
        "train_y = list(train_dataset[:, 1])"
      ],
      "execution_count": 20,
      "outputs": [
        {
          "output_type": "stream",
          "text": [
            "Training Data Created!\n",
            "Words : {'the': 1, 'this': 2, 'instance': 3, 'is': 4, 'how': 5, 'what': 6, 'prediction': 7, 'to': 8, 'feature': 9, 'me': 10, 'you': 11, 'system': 12, 'are': 13, 'doe': 14, 'a': 15, 'exemplar': 16, 'similar': 17, 'give': 18, 'for': 19, 'of': 20, 'why': 21, 'different': 22, 'not': 23, 'thanks': 24, 'that': 25, 'help': 26, 'be': 27, 'performance': 28, 'about': 29, 'make': 30, 'likely': 31, 'rule': 32, 'it': 33, 'explanation': 34, 'explain': 35, 'given': 36, 'counter': 37, 'get': 38, 'top': 39, 'importance': 40, 'important': 41, 'hi': 42, 'there': 43, 'good': 44, 'bye': 45, 'helpful': 46, 'can': 47, 'do': 48, 'accuracy': 49, 'mistake': 50, 'in': 51, 'situation': 52, 'kind': 53, 'factual': 54, 's': 55, 'should': 56, 'change': 57, 'used': 58, 'variable': 59, 'an': 60, 'ciao': 61, 'buongiorno': 62, 'anyone': 63, 'hey': 64, 'hola': 65, 'hello': 66, 'day': 67, 'see': 68, 'later': 69, 'goodbye': 70, 'nice': 71, 'chatting': 72, 'till': 73, 'next': 74, 'time': 75, 'thank': 76, 'awesome': 77, 'helping': 78, 'could': 79, 'provide': 80, 'support': 81, 'offered': 82, 'reliability': 83, 'precise': 84, 'reliable': 85, 'accurate': 86, 'often': 87, 'incorrect': 88, 'correct': 89, 'limitation': 90, 'enough': 91, 'use': 92, 'reason': 93, 'wa': 94, 'calculated': 95, 'lead': 96, 'and': 97, 'b': 98, 'same': 99, 'counterfactual': 100, 'weigh': 101, 'x': 102, 'or': 103, 'consider': 104, 'which': 105, 'most': 106, 'influence': 107, 'on': 108, 'some': 109, 'show': 110, 'nearest': 111, 'neighbour': 112}\n",
            "Number of  Words = 113\n",
            "Maximum Length of Words in a Sentence = 13\n"
          ],
          "name": "stdout"
        }
      ]
    },
    {
      "cell_type": "code",
      "metadata": {
        "id": "Fd4xKv7QPcg3",
        "colab": {
          "base_uri": "https://localhost:8080/"
        },
        "outputId": "622017b9-3755-4820-eaac-ce6a77375740"
      },
      "source": [
        "len(train_y)"
      ],
      "execution_count": 21,
      "outputs": [
        {
          "output_type": "execute_result",
          "data": {
            "text/plain": [
              "84"
            ]
          },
          "metadata": {
            "tags": []
          },
          "execution_count": 21
        }
      ]
    },
    {
      "cell_type": "code",
      "metadata": {
        "id": "FI-zvdivlmKx",
        "colab": {
          "base_uri": "https://localhost:8080/"
        },
        "outputId": "7ebe3c70-374d-466a-cdaf-fc8170897dad"
      },
      "source": [
        "# create model\n",
        "model = XBot_obj.create_model(train_x, train_y, vocab_size,\n",
        "                              output_dim=20, lstm_out=15, dropout=0.5)"
      ],
      "execution_count": 22,
      "outputs": [
        {
          "output_type": "stream",
          "text": [
            "Model: \"sequential\"\n",
            "_________________________________________________________________\n",
            "Layer (type)                 Output Shape              Param #   \n",
            "=================================================================\n",
            "embedding (Embedding)        (None, 13, 20)            2260      \n",
            "_________________________________________________________________\n",
            "bidirectional (Bidirectional (None, 30)                4320      \n",
            "_________________________________________________________________\n",
            "dense (Dense)                (None, 10)                310       \n",
            "=================================================================\n",
            "Total params: 6,890\n",
            "Trainable params: 6,890\n",
            "Non-trainable params: 0\n",
            "_________________________________________________________________\n",
            "None\n"
          ],
          "name": "stdout"
        }
      ]
    },
    {
      "cell_type": "code",
      "metadata": {
        "id": "bBPb-EEG2sF4",
        "colab": {
          "base_uri": "https://localhost:8080/"
        },
        "outputId": "98529526-5199-4a1e-91da-80456ef5fa12"
      },
      "source": [
        "mymodel = XBot_obj.compile_fit_model(model, train_x, train_y, epochs=200,\n",
        "                                     batch_size=5,\n",
        "                                     earlystopping_patience=10,\n",
        "                                     validation_split=0.3,\n",
        "                                     loss='categorical_crossentropy')"
      ],
      "execution_count": 23,
      "outputs": [
        {
          "output_type": "stream",
          "text": [
            "Epoch 1/200\n",
            "12/12 [==============================] - 6s 135ms/step - loss: 2.2951 - accuracy: 0.1211 - val_loss: 2.2967 - val_accuracy: 0.1923\n",
            "Epoch 2/200\n",
            "12/12 [==============================] - 0s 16ms/step - loss: 2.2827 - accuracy: 0.2365 - val_loss: 2.2938 - val_accuracy: 0.1154\n",
            "Epoch 3/200\n",
            "12/12 [==============================] - 0s 15ms/step - loss: 2.2588 - accuracy: 0.1975 - val_loss: 2.2913 - val_accuracy: 0.1154\n",
            "Epoch 4/200\n",
            "12/12 [==============================] - 0s 17ms/step - loss: 2.2499 - accuracy: 0.1775 - val_loss: 2.2912 - val_accuracy: 0.1154\n",
            "Epoch 5/200\n",
            "12/12 [==============================] - 0s 15ms/step - loss: 2.2546 - accuracy: 0.1290 - val_loss: 2.2909 - val_accuracy: 0.1154\n",
            "Epoch 6/200\n",
            "12/12 [==============================] - 0s 16ms/step - loss: 2.1868 - accuracy: 0.2448 - val_loss: 2.2914 - val_accuracy: 0.1154\n",
            "Epoch 7/200\n",
            "12/12 [==============================] - 0s 15ms/step - loss: 2.1745 - accuracy: 0.2071 - val_loss: 2.2975 - val_accuracy: 0.1154\n",
            "Epoch 8/200\n",
            "12/12 [==============================] - 0s 15ms/step - loss: 2.1560 - accuracy: 0.1684 - val_loss: 2.3078 - val_accuracy: 0.1154\n",
            "Epoch 9/200\n",
            "12/12 [==============================] - 0s 18ms/step - loss: 2.1337 - accuracy: 0.2019 - val_loss: 2.3224 - val_accuracy: 0.1154\n",
            "Epoch 10/200\n",
            "12/12 [==============================] - 0s 15ms/step - loss: 2.1180 - accuracy: 0.1767 - val_loss: 2.3261 - val_accuracy: 0.1154\n",
            "Epoch 11/200\n",
            "12/12 [==============================] - 0s 15ms/step - loss: 2.1123 - accuracy: 0.2237 - val_loss: 2.3310 - val_accuracy: 0.1538\n",
            "Epoch 12/200\n",
            "12/12 [==============================] - 0s 17ms/step - loss: 2.0483 - accuracy: 0.2656 - val_loss: 2.3280 - val_accuracy: 0.1923\n",
            "Epoch 13/200\n",
            "12/12 [==============================] - 0s 15ms/step - loss: 1.9873 - accuracy: 0.3487 - val_loss: 2.3414 - val_accuracy: 0.1923\n",
            "Epoch 14/200\n",
            "12/12 [==============================] - 0s 17ms/step - loss: 1.8836 - accuracy: 0.2736 - val_loss: 2.3280 - val_accuracy: 0.1923\n",
            "Epoch 15/200\n",
            "12/12 [==============================] - 0s 16ms/step - loss: 1.8489 - accuracy: 0.3849 - val_loss: 2.3040 - val_accuracy: 0.2308\n",
            "Epoch 16/200\n",
            "12/12 [==============================] - 0s 16ms/step - loss: 1.8154 - accuracy: 0.3296 - val_loss: 2.3526 - val_accuracy: 0.2308\n",
            "Epoch 17/200\n",
            "12/12 [==============================] - 0s 15ms/step - loss: 1.7901 - accuracy: 0.3594 - val_loss: 2.3670 - val_accuracy: 0.2308\n",
            "Epoch 18/200\n",
            "12/12 [==============================] - 0s 15ms/step - loss: 1.5735 - accuracy: 0.4731 - val_loss: 2.3376 - val_accuracy: 0.2308\n",
            "Epoch 19/200\n",
            "12/12 [==============================] - 0s 15ms/step - loss: 1.4844 - accuracy: 0.4775 - val_loss: 2.3704 - val_accuracy: 0.2308\n",
            "Epoch 20/200\n",
            "12/12 [==============================] - 0s 16ms/step - loss: 1.5498 - accuracy: 0.3770 - val_loss: 2.2505 - val_accuracy: 0.1923\n",
            "Epoch 21/200\n",
            "12/12 [==============================] - 0s 15ms/step - loss: 1.6076 - accuracy: 0.3607 - val_loss: 2.2983 - val_accuracy: 0.3077\n",
            "Epoch 22/200\n",
            "12/12 [==============================] - 0s 15ms/step - loss: 1.6123 - accuracy: 0.4167 - val_loss: 2.4964 - val_accuracy: 0.1923\n",
            "Epoch 23/200\n",
            "12/12 [==============================] - 0s 15ms/step - loss: 1.4031 - accuracy: 0.5429 - val_loss: 2.3337 - val_accuracy: 0.2692\n",
            "Epoch 24/200\n",
            "12/12 [==============================] - 0s 15ms/step - loss: 1.3289 - accuracy: 0.5849 - val_loss: 2.3975 - val_accuracy: 0.2692\n",
            "Epoch 25/200\n",
            "12/12 [==============================] - 0s 16ms/step - loss: 1.4071 - accuracy: 0.4734 - val_loss: 2.4269 - val_accuracy: 0.2692\n",
            "Epoch 26/200\n",
            "12/12 [==============================] - 0s 15ms/step - loss: 1.2256 - accuracy: 0.6590 - val_loss: 2.4048 - val_accuracy: 0.3077\n",
            "Epoch 27/200\n",
            "12/12 [==============================] - 0s 15ms/step - loss: 1.1606 - accuracy: 0.6579 - val_loss: 2.5259 - val_accuracy: 0.2308\n",
            "Epoch 28/200\n",
            "12/12 [==============================] - 0s 15ms/step - loss: 1.3469 - accuracy: 0.5858 - val_loss: 2.4696 - val_accuracy: 0.3077\n",
            "Epoch 29/200\n",
            "12/12 [==============================] - 0s 14ms/step - loss: 1.1367 - accuracy: 0.6903 - val_loss: 2.4529 - val_accuracy: 0.3077\n",
            "Epoch 30/200\n",
            "12/12 [==============================] - 0s 16ms/step - loss: 1.2947 - accuracy: 0.5568 - val_loss: 2.4451 - val_accuracy: 0.3077\n",
            "Epoch 31/200\n",
            "12/12 [==============================] - 0s 15ms/step - loss: 1.1875 - accuracy: 0.5739 - val_loss: 2.4827 - val_accuracy: 0.3077\n",
            "Epoch 32/200\n",
            "12/12 [==============================] - 0s 15ms/step - loss: 1.0975 - accuracy: 0.7598 - val_loss: 2.3993 - val_accuracy: 0.3077\n",
            "Epoch 33/200\n",
            "12/12 [==============================] - 0s 17ms/step - loss: 1.1386 - accuracy: 0.5946 - val_loss: 2.4656 - val_accuracy: 0.3077\n",
            "Epoch 34/200\n",
            "12/12 [==============================] - 0s 16ms/step - loss: 1.0630 - accuracy: 0.6330 - val_loss: 2.4356 - val_accuracy: 0.2308\n",
            "Epoch 35/200\n",
            "12/12 [==============================] - 0s 15ms/step - loss: 1.0230 - accuracy: 0.7466 - val_loss: 2.5509 - val_accuracy: 0.1923\n",
            "Epoch 36/200\n",
            "12/12 [==============================] - 0s 16ms/step - loss: 1.0441 - accuracy: 0.7511 - val_loss: 2.3195 - val_accuracy: 0.3462\n",
            "Epoch 37/200\n",
            "12/12 [==============================] - 0s 16ms/step - loss: 1.0073 - accuracy: 0.7177 - val_loss: 2.4846 - val_accuracy: 0.3077\n",
            "Epoch 38/200\n",
            "12/12 [==============================] - 0s 15ms/step - loss: 0.8567 - accuracy: 0.7817 - val_loss: 2.3555 - val_accuracy: 0.3462\n",
            "Epoch 39/200\n",
            "12/12 [==============================] - 0s 15ms/step - loss: 0.9331 - accuracy: 0.7286 - val_loss: 2.4784 - val_accuracy: 0.2692\n",
            "Epoch 40/200\n",
            "12/12 [==============================] - 0s 15ms/step - loss: 0.9177 - accuracy: 0.8205 - val_loss: 2.4708 - val_accuracy: 0.2692\n",
            "Epoch 41/200\n",
            "12/12 [==============================] - 0s 17ms/step - loss: 0.9723 - accuracy: 0.7692 - val_loss: 2.3367 - val_accuracy: 0.3462\n",
            "Epoch 42/200\n",
            "12/12 [==============================] - 0s 16ms/step - loss: 0.7330 - accuracy: 0.8198 - val_loss: 2.4030 - val_accuracy: 0.2692\n",
            "Epoch 43/200\n",
            "12/12 [==============================] - 0s 17ms/step - loss: 0.7937 - accuracy: 0.8724 - val_loss: 2.4372 - val_accuracy: 0.3077\n",
            "Epoch 44/200\n",
            "12/12 [==============================] - 0s 15ms/step - loss: 0.6189 - accuracy: 0.8166 - val_loss: 2.4285 - val_accuracy: 0.3462\n",
            "Epoch 45/200\n",
            "12/12 [==============================] - 0s 17ms/step - loss: 0.6597 - accuracy: 0.9011 - val_loss: 2.4414 - val_accuracy: 0.3462\n",
            "Epoch 46/200\n",
            "12/12 [==============================] - 0s 16ms/step - loss: 0.7604 - accuracy: 0.7837 - val_loss: 2.3926 - val_accuracy: 0.3846\n",
            "Epoch 47/200\n",
            "12/12 [==============================] - 0s 17ms/step - loss: 0.7158 - accuracy: 0.8218 - val_loss: 2.4477 - val_accuracy: 0.2692\n",
            "Epoch 48/200\n",
            "12/12 [==============================] - 0s 16ms/step - loss: 0.6301 - accuracy: 0.8965 - val_loss: 2.4136 - val_accuracy: 0.3846\n",
            "Epoch 49/200\n",
            "12/12 [==============================] - 0s 16ms/step - loss: 0.6519 - accuracy: 0.8397 - val_loss: 2.3628 - val_accuracy: 0.3846\n",
            "Epoch 50/200\n",
            "12/12 [==============================] - 0s 16ms/step - loss: 0.6023 - accuracy: 0.9063 - val_loss: 2.4800 - val_accuracy: 0.2308\n",
            "Epoch 51/200\n",
            "12/12 [==============================] - 0s 18ms/step - loss: 0.5802 - accuracy: 0.9156 - val_loss: 2.4356 - val_accuracy: 0.3077\n",
            "Epoch 52/200\n",
            "12/12 [==============================] - 0s 15ms/step - loss: 0.5922 - accuracy: 0.8721 - val_loss: 2.4405 - val_accuracy: 0.3077\n",
            "Epoch 53/200\n",
            "12/12 [==============================] - 0s 18ms/step - loss: 0.8111 - accuracy: 0.7063 - val_loss: 2.4686 - val_accuracy: 0.3462\n",
            "Epoch 54/200\n",
            "12/12 [==============================] - 0s 14ms/step - loss: 0.5926 - accuracy: 0.8182 - val_loss: 2.4040 - val_accuracy: 0.3846\n",
            "Epoch 55/200\n",
            "12/12 [==============================] - 0s 15ms/step - loss: 0.6722 - accuracy: 0.8688 - val_loss: 2.4338 - val_accuracy: 0.3462\n",
            "Epoch 56/200\n",
            "12/12 [==============================] - 0s 16ms/step - loss: 0.5726 - accuracy: 0.8643 - val_loss: 2.3862 - val_accuracy: 0.3462\n",
            "Epoch 57/200\n",
            "12/12 [==============================] - 0s 17ms/step - loss: 0.6149 - accuracy: 0.8778 - val_loss: 2.3762 - val_accuracy: 0.3462\n",
            "Epoch 58/200\n",
            "12/12 [==============================] - 0s 15ms/step - loss: 0.5921 - accuracy: 0.8954 - val_loss: 2.2488 - val_accuracy: 0.3846\n",
            "Epoch 59/200\n",
            "12/12 [==============================] - 0s 16ms/step - loss: 0.3975 - accuracy: 0.9308 - val_loss: 2.3444 - val_accuracy: 0.4231\n",
            "Epoch 60/200\n",
            "12/12 [==============================] - 0s 15ms/step - loss: 0.5238 - accuracy: 0.8862 - val_loss: 2.4515 - val_accuracy: 0.3846\n",
            "Epoch 61/200\n",
            "12/12 [==============================] - 0s 16ms/step - loss: 0.5230 - accuracy: 0.8334 - val_loss: 2.4041 - val_accuracy: 0.3077\n",
            "Epoch 62/200\n",
            "12/12 [==============================] - 0s 15ms/step - loss: 0.4553 - accuracy: 0.9206 - val_loss: 2.3590 - val_accuracy: 0.3462\n",
            "Epoch 63/200\n",
            "12/12 [==============================] - 0s 17ms/step - loss: 0.5125 - accuracy: 0.9047 - val_loss: 2.4104 - val_accuracy: 0.3846\n",
            "Epoch 64/200\n",
            "12/12 [==============================] - 0s 16ms/step - loss: 0.4947 - accuracy: 0.8676 - val_loss: 2.3619 - val_accuracy: 0.3846\n",
            "Epoch 65/200\n",
            "12/12 [==============================] - 0s 15ms/step - loss: 0.4820 - accuracy: 0.8532 - val_loss: 2.3818 - val_accuracy: 0.3462\n",
            "Epoch 66/200\n",
            "12/12 [==============================] - 0s 15ms/step - loss: 0.4181 - accuracy: 0.9433 - val_loss: 2.3194 - val_accuracy: 0.4231\n",
            "Epoch 67/200\n",
            "12/12 [==============================] - 0s 15ms/step - loss: 0.4212 - accuracy: 0.8650 - val_loss: 2.3495 - val_accuracy: 0.3462\n",
            "Epoch 68/200\n",
            "12/12 [==============================] - 0s 16ms/step - loss: 0.3780 - accuracy: 0.9389 - val_loss: 2.3221 - val_accuracy: 0.3077\n",
            "Epoch 69/200\n",
            "12/12 [==============================] - 0s 17ms/step - loss: 0.6646 - accuracy: 0.8348 - val_loss: 2.0985 - val_accuracy: 0.4231\n",
            "Epoch 70/200\n",
            "12/12 [==============================] - 0s 15ms/step - loss: 0.5515 - accuracy: 0.8174 - val_loss: 2.3543 - val_accuracy: 0.3077\n",
            "Epoch 71/200\n",
            "12/12 [==============================] - 0s 17ms/step - loss: 0.4020 - accuracy: 0.9016 - val_loss: 2.3648 - val_accuracy: 0.3462\n",
            "Epoch 72/200\n",
            "12/12 [==============================] - 0s 15ms/step - loss: 0.6302 - accuracy: 0.8317 - val_loss: 2.2712 - val_accuracy: 0.4231\n",
            "Epoch 73/200\n",
            "12/12 [==============================] - 0s 16ms/step - loss: 0.4027 - accuracy: 0.8800 - val_loss: 2.3158 - val_accuracy: 0.3846\n",
            "Epoch 74/200\n",
            "12/12 [==============================] - 0s 15ms/step - loss: 0.4026 - accuracy: 0.9288 - val_loss: 2.2721 - val_accuracy: 0.3846\n",
            "Epoch 75/200\n",
            "12/12 [==============================] - 0s 19ms/step - loss: 0.5944 - accuracy: 0.8119 - val_loss: 2.2867 - val_accuracy: 0.3846\n",
            "Epoch 76/200\n",
            "12/12 [==============================] - 0s 16ms/step - loss: 0.4606 - accuracy: 0.8551 - val_loss: 2.2748 - val_accuracy: 0.4231\n",
            "Epoch 77/200\n",
            "12/12 [==============================] - 0s 16ms/step - loss: 0.4425 - accuracy: 0.8807 - val_loss: 2.3448 - val_accuracy: 0.3077\n",
            "Epoch 78/200\n",
            "12/12 [==============================] - 0s 18ms/step - loss: 0.3160 - accuracy: 0.9322 - val_loss: 2.3689 - val_accuracy: 0.3462\n",
            "Epoch 79/200\n",
            "12/12 [==============================] - 0s 16ms/step - loss: 0.2858 - accuracy: 0.9399 - val_loss: 2.3488 - val_accuracy: 0.3846\n",
            "Epoch 80/200\n",
            "12/12 [==============================] - 0s 19ms/step - loss: 0.3612 - accuracy: 0.9143 - val_loss: 2.2924 - val_accuracy: 0.4615\n",
            "Epoch 81/200\n",
            "12/12 [==============================] - 0s 15ms/step - loss: 0.2816 - accuracy: 0.9798 - val_loss: 2.2786 - val_accuracy: 0.3462\n",
            "Epoch 82/200\n",
            "12/12 [==============================] - 0s 16ms/step - loss: 0.3836 - accuracy: 0.8790 - val_loss: 2.2130 - val_accuracy: 0.4615\n",
            "Epoch 83/200\n",
            "12/12 [==============================] - 0s 17ms/step - loss: 0.2802 - accuracy: 0.8972 - val_loss: 2.2917 - val_accuracy: 0.4615\n",
            "Epoch 84/200\n",
            "12/12 [==============================] - 0s 16ms/step - loss: 0.3384 - accuracy: 0.9383 - val_loss: 2.3408 - val_accuracy: 0.4231\n",
            "Epoch 85/200\n",
            "12/12 [==============================] - 0s 18ms/step - loss: 0.2344 - accuracy: 0.9643 - val_loss: 2.2973 - val_accuracy: 0.4231\n",
            "Epoch 86/200\n",
            "12/12 [==============================] - 0s 20ms/step - loss: 0.4815 - accuracy: 0.8255 - val_loss: 2.2799 - val_accuracy: 0.3846\n",
            "Epoch 87/200\n",
            "12/12 [==============================] - 0s 16ms/step - loss: 0.3243 - accuracy: 0.9131 - val_loss: 2.2495 - val_accuracy: 0.3846\n",
            "Epoch 88/200\n",
            "12/12 [==============================] - 0s 18ms/step - loss: 0.2656 - accuracy: 0.9022 - val_loss: 2.1514 - val_accuracy: 0.4231\n",
            "Epoch 89/200\n",
            "12/12 [==============================] - 0s 18ms/step - loss: 0.2611 - accuracy: 0.9228 - val_loss: 2.1053 - val_accuracy: 0.3846\n",
            "Epoch 90/200\n",
            "12/12 [==============================] - 0s 19ms/step - loss: 0.2321 - accuracy: 0.9723 - val_loss: 2.1393 - val_accuracy: 0.4231\n",
            "Epoch 91/200\n",
            "12/12 [==============================] - 0s 18ms/step - loss: 0.2147 - accuracy: 0.9467 - val_loss: 2.2708 - val_accuracy: 0.3462\n",
            "Epoch 92/200\n",
            "12/12 [==============================] - 0s 18ms/step - loss: 0.4970 - accuracy: 0.8702 - val_loss: 2.1411 - val_accuracy: 0.4231\n",
            "Epoch 93/200\n",
            "12/12 [==============================] - 0s 16ms/step - loss: 0.2685 - accuracy: 0.9412 - val_loss: 2.0700 - val_accuracy: 0.4615\n",
            "Epoch 94/200\n",
            "12/12 [==============================] - 0s 16ms/step - loss: 0.2497 - accuracy: 0.9471 - val_loss: 2.1312 - val_accuracy: 0.4615\n",
            "Epoch 95/200\n",
            "12/12 [==============================] - 0s 17ms/step - loss: 0.2589 - accuracy: 0.8904 - val_loss: 2.1855 - val_accuracy: 0.3846\n",
            "Epoch 96/200\n",
            "12/12 [==============================] - 0s 17ms/step - loss: 0.3270 - accuracy: 0.8702 - val_loss: 2.2047 - val_accuracy: 0.4231\n",
            "Epoch 97/200\n",
            "12/12 [==============================] - 0s 18ms/step - loss: 0.2390 - accuracy: 0.9643 - val_loss: 2.1643 - val_accuracy: 0.4615\n",
            "Epoch 98/200\n",
            "12/12 [==============================] - 0s 16ms/step - loss: 0.2839 - accuracy: 0.8702 - val_loss: 2.1921 - val_accuracy: 0.4615\n",
            "Epoch 99/200\n",
            "12/12 [==============================] - 0s 18ms/step - loss: 0.3486 - accuracy: 0.8756 - val_loss: 2.1492 - val_accuracy: 0.5000\n",
            "Epoch 100/200\n",
            "12/12 [==============================] - 0s 18ms/step - loss: 0.3060 - accuracy: 0.8947 - val_loss: 2.3716 - val_accuracy: 0.4615\n",
            "Epoch 101/200\n",
            "12/12 [==============================] - 0s 16ms/step - loss: 0.3461 - accuracy: 0.8426 - val_loss: 2.4692 - val_accuracy: 0.3846\n",
            "Epoch 102/200\n",
            "12/12 [==============================] - 0s 19ms/step - loss: 0.2069 - accuracy: 0.9260 - val_loss: 2.4669 - val_accuracy: 0.3077\n",
            "Epoch 103/200\n",
            "12/12 [==============================] - 0s 17ms/step - loss: 0.1814 - accuracy: 0.9651 - val_loss: 2.3799 - val_accuracy: 0.5000\n",
            "Epoch 104/200\n",
            "12/12 [==============================] - 0s 15ms/step - loss: 0.2172 - accuracy: 0.9677 - val_loss: 2.3594 - val_accuracy: 0.4615\n",
            "Epoch 105/200\n",
            "12/12 [==============================] - 0s 17ms/step - loss: 0.1325 - accuracy: 0.9748 - val_loss: 2.2358 - val_accuracy: 0.4615\n",
            "Epoch 106/200\n",
            "12/12 [==============================] - 0s 15ms/step - loss: 0.3247 - accuracy: 0.8705 - val_loss: 2.1572 - val_accuracy: 0.4615\n",
            "Epoch 107/200\n",
            "12/12 [==============================] - 0s 17ms/step - loss: 0.1922 - accuracy: 0.9428 - val_loss: 2.2275 - val_accuracy: 0.4231\n",
            "Epoch 108/200\n",
            "12/12 [==============================] - 0s 17ms/step - loss: 0.2501 - accuracy: 0.9737 - val_loss: 2.3038 - val_accuracy: 0.4231\n",
            "Epoch 109/200\n",
            "12/12 [==============================] - 0s 18ms/step - loss: 0.1736 - accuracy: 0.9445 - val_loss: 2.3859 - val_accuracy: 0.4231\n",
            "Epoch 110/200\n",
            "12/12 [==============================] - 0s 17ms/step - loss: 0.1621 - accuracy: 0.9575 - val_loss: 2.4086 - val_accuracy: 0.3846\n",
            "Epoch 111/200\n",
            "12/12 [==============================] - 0s 18ms/step - loss: 0.2391 - accuracy: 0.9109 - val_loss: 2.4250 - val_accuracy: 0.3846\n",
            "Epoch 112/200\n",
            "12/12 [==============================] - 0s 17ms/step - loss: 0.3311 - accuracy: 0.9509 - val_loss: 2.4344 - val_accuracy: 0.4231\n",
            "Epoch 113/200\n",
            "12/12 [==============================] - 0s 18ms/step - loss: 0.3078 - accuracy: 0.9515 - val_loss: 2.4554 - val_accuracy: 0.4615\n",
            "Epoch 114/200\n",
            "12/12 [==============================] - 0s 17ms/step - loss: 0.1152 - accuracy: 1.0000 - val_loss: 2.4415 - val_accuracy: 0.4615\n",
            "Epoch 115/200\n",
            "12/12 [==============================] - 0s 19ms/step - loss: 0.1724 - accuracy: 0.9908 - val_loss: 2.4272 - val_accuracy: 0.4231\n",
            "Epoch 116/200\n",
            "12/12 [==============================] - 0s 17ms/step - loss: 0.2157 - accuracy: 0.9506 - val_loss: 2.3951 - val_accuracy: 0.5000\n",
            "Epoch 117/200\n",
            "12/12 [==============================] - 0s 16ms/step - loss: 0.2637 - accuracy: 0.9042 - val_loss: 2.4394 - val_accuracy: 0.4615\n",
            "Epoch 118/200\n",
            "12/12 [==============================] - 0s 17ms/step - loss: 0.1447 - accuracy: 0.9900 - val_loss: 2.4550 - val_accuracy: 0.4615\n",
            "Epoch 119/200\n",
            "12/12 [==============================] - 0s 18ms/step - loss: 0.1371 - accuracy: 0.9820 - val_loss: 2.4274 - val_accuracy: 0.5000\n",
            "Epoch 120/200\n",
            "12/12 [==============================] - 0s 21ms/step - loss: 0.2753 - accuracy: 0.9068 - val_loss: 2.3810 - val_accuracy: 0.4231\n",
            "Epoch 121/200\n",
            "12/12 [==============================] - 0s 16ms/step - loss: 0.1402 - accuracy: 0.9886 - val_loss: 2.3244 - val_accuracy: 0.3846\n",
            "Epoch 122/200\n",
            "12/12 [==============================] - 0s 17ms/step - loss: 0.1906 - accuracy: 0.9829 - val_loss: 2.4397 - val_accuracy: 0.3846\n",
            "Epoch 123/200\n",
            "12/12 [==============================] - 0s 21ms/step - loss: 0.1916 - accuracy: 0.9737 - val_loss: 2.4282 - val_accuracy: 0.4615\n",
            "Epoch 124/200\n",
            "12/12 [==============================] - 0s 19ms/step - loss: 0.1549 - accuracy: 0.9681 - val_loss: 2.2945 - val_accuracy: 0.5000\n",
            "Epoch 125/200\n",
            "12/12 [==============================] - 0s 21ms/step - loss: 0.1440 - accuracy: 0.9860 - val_loss: 2.2978 - val_accuracy: 0.5000\n",
            "Epoch 126/200\n",
            "12/12 [==============================] - 0s 18ms/step - loss: 0.1508 - accuracy: 0.9509 - val_loss: 2.3369 - val_accuracy: 0.5385\n",
            "Epoch 127/200\n",
            "12/12 [==============================] - 0s 19ms/step - loss: 0.1090 - accuracy: 0.9886 - val_loss: 2.4048 - val_accuracy: 0.4615\n",
            "Epoch 128/200\n",
            "12/12 [==============================] - 0s 16ms/step - loss: 0.1027 - accuracy: 1.0000 - val_loss: 2.3909 - val_accuracy: 0.4615\n",
            "Epoch 129/200\n",
            "12/12 [==============================] - 0s 20ms/step - loss: 0.1095 - accuracy: 0.9786 - val_loss: 2.3383 - val_accuracy: 0.5000\n",
            "Epoch 130/200\n",
            "12/12 [==============================] - 0s 19ms/step - loss: 0.1795 - accuracy: 0.9476 - val_loss: 2.3231 - val_accuracy: 0.5385\n",
            "Epoch 131/200\n",
            "12/12 [==============================] - 0s 16ms/step - loss: 0.1169 - accuracy: 0.9791 - val_loss: 2.4035 - val_accuracy: 0.4231\n",
            "Epoch 132/200\n",
            "12/12 [==============================] - 0s 18ms/step - loss: 0.1010 - accuracy: 0.9908 - val_loss: 2.4016 - val_accuracy: 0.4231\n",
            "Epoch 133/200\n",
            "12/12 [==============================] - 0s 21ms/step - loss: 0.1116 - accuracy: 1.0000 - val_loss: 2.3358 - val_accuracy: 0.4615\n",
            "Epoch 134/200\n",
            "12/12 [==============================] - 0s 18ms/step - loss: 0.0896 - accuracy: 1.0000 - val_loss: 2.3744 - val_accuracy: 0.4615\n",
            "Epoch 135/200\n",
            "12/12 [==============================] - 0s 16ms/step - loss: 0.1343 - accuracy: 1.0000 - val_loss: 2.5217 - val_accuracy: 0.4615\n",
            "Epoch 136/200\n",
            "12/12 [==============================] - 0s 15ms/step - loss: 0.1258 - accuracy: 0.9927 - val_loss: 2.6279 - val_accuracy: 0.3846\n",
            "Epoch 137/200\n",
            "12/12 [==============================] - 0s 17ms/step - loss: 0.1194 - accuracy: 0.9829 - val_loss: 2.5062 - val_accuracy: 0.5000\n",
            "Epoch 138/200\n",
            "12/12 [==============================] - 0s 19ms/step - loss: 0.1483 - accuracy: 0.9908 - val_loss: 2.4752 - val_accuracy: 0.5000\n",
            "Epoch 00138: early stopping\n"
          ],
          "name": "stdout"
        }
      ]
    },
    {
      "cell_type": "code",
      "metadata": {
        "id": "BAGesmMBk3hD",
        "colab": {
          "base_uri": "https://localhost:8080/",
          "height": 573
        },
        "outputId": "204c5584-040d-4e10-ca8e-1898c66142dd"
      },
      "source": [
        "# plot the Train and Validation loss\n",
        "plt.plot(mymodel['loss'], label='Train')\n",
        "plt.plot(mymodel['val_loss'], label='Val')\n",
        "plt.xlabel('Epochs')\n",
        "plt.ylabel('Cross-Entropy')\n",
        "plt.title('Loss')\n",
        "plt.legend()\n",
        "plt.show()\n",
        "\n",
        "# plot the Train and Validation accuracy\n",
        "plt.plot(mymodel['accuracy'], label='Train')\n",
        "plt.plot(mymodel['val_accuracy'], label='Val')\n",
        "plt.title('Accuracy')\n",
        "plt.xlabel('Epochs')\n",
        "plt.ylabel('Accuracy')\n",
        "plt.legend()\n",
        "plt.show()"
      ],
      "execution_count": 24,
      "outputs": [
        {
          "output_type": "display_data",
          "data": {
            "image/png": "[encoded data removed]",
            "text/plain": [
              "<Figure size 432x288 with 1 Axes>"
            ]
          },
          "metadata": {
            "tags": [],
            "needs_background": "light"
          }
        },
        {
          "output_type": "display_data",
          "data": {
            "image/png": "[encoded data removed]",
            "text/plain": [
              "<Figure size 432x288 with 1 Axes>"
            ]
          },
          "metadata": {
            "tags": [],
            "needs_background": "light"
          }
        }
      ]
    },
    {
      "cell_type": "code",
      "metadata": {
        "id": "1BQqwNbKkStN",
        "colab": {
          "base_uri": "https://localhost:8080/"
        },
        "outputId": "46b1cbbc-5a3e-45b8-fb6a-d82f978a2f34"
      },
      "source": [
        "trained_model = load_model('best_xbot_model.h5')\n",
        "\n",
        "_, accuracy = trained_model.evaluate(np.array(train_x), np.array(train_y))\n",
        "print('Train Accuracy: %.2f' % (accuracy*100))"
      ],
      "execution_count": 25,
      "outputs": [
        {
          "output_type": "stream",
          "text": [
            "3/3 [==============================] - 1s 7ms/step - loss: 0.7899 - accuracy: 0.8571\n",
            "Train Accuracy: 85.71\n"
          ],
          "name": "stdout"
        }
      ]
    },
    {
      "cell_type": "markdown",
      "metadata": {
        "id": "dnkOSLglz3de"
      },
      "source": [
        "# Responce Generator"
      ]
    },
    {
      "cell_type": "code",
      "metadata": {
        "id": "TCuyS79Tz51y"
      },
      "source": [
        "class ResponseGenerator(object):\n",
        "    def __init__(self, data, train_x, train_y, explanation, tokenizer, model, verbose=False):\n",
        "        self.data = data\n",
        "        self.train_x = train_x\n",
        "        self.train_y = train_y\n",
        "        self.explanation = explanation\n",
        "        self.tokenizer = tokenizer\n",
        "        self.model = model\n",
        "        self.verbose = verbose\n",
        "\n",
        "        self.classes = pickle.load(open('classes.pkl', 'rb'))\n",
        "\n",
        "    def decontractions(self, phrase):\n",
        "        \"\"\"decontracted takes text and convert contractions into natural form.\n",
        "         ref: https://stackoverflow.com/questions/19790188/expanding-english-language-contractions-in-python/47091490#47091490\"\"\"\n",
        "        # specific\n",
        "        phrase = re.sub(r\"won\\'t\", \"will not\", phrase)\n",
        "        phrase = re.sub(r\"can\\'t\", \"can not\", phrase)\n",
        "        phrase = re.sub(r\"won\\’t\", \"will not\", phrase)\n",
        "        phrase = re.sub(r\"can\\’t\", \"can not\", phrase)\n",
        "\n",
        "        # general\n",
        "        phrase = re.sub(r\"n\\'t\", \" not\", phrase)\n",
        "        phrase = re.sub(r\"\\'re\", \" are\", phrase)\n",
        "        phrase = re.sub(r\"\\'s\", \" is\", phrase)\n",
        "        phrase = re.sub(r\"\\'d\", \" would\", phrase)\n",
        "        phrase = re.sub(r\"\\'ll\", \" will\", phrase)\n",
        "        phrase = re.sub(r\"\\'t\", \" not\", phrase)\n",
        "        phrase = re.sub(r\"\\'ve\", \" have\", phrase)\n",
        "        phrase = re.sub(r\"\\'m\", \" am\", phrase)\n",
        "\n",
        "        phrase = re.sub(r\"n\\’t\", \" not\", phrase)\n",
        "        phrase = re.sub(r\"\\’re\", \" are\", phrase)\n",
        "        phrase = re.sub(r\"\\’s\", \" is\", phrase)\n",
        "        phrase = re.sub(r\"\\’d\", \" would\", phrase)\n",
        "        phrase = re.sub(r\"\\’ll\", \" will\", phrase)\n",
        "        phrase = re.sub(r\"\\’t\", \" not\", phrase)\n",
        "        phrase = re.sub(r\"\\’ve\", \" have\", phrase)\n",
        "        phrase = re.sub(r\"\\’m\", \" am\", phrase)\n",
        "\n",
        "        return phrase\n",
        "\n",
        "    def clean_text(self, text):\n",
        "        # Lower casting\n",
        "        text = text.lower()\n",
        "        # Decontracted\n",
        "        text = self.decontractions(text)\n",
        "        # Remove more than 1 space\n",
        "        text = \" \".join(text.split())\n",
        "        # Remove punctuation\n",
        "        text = text.translate(trantab)\n",
        "        text_words = nltk.word_tokenize(text)\n",
        "        words = [lemmatizer.lemmatize(w) for w in text_words if w not in whitelist]\n",
        "        return words\n",
        "\n",
        "    def correct_spellings(self, text):\n",
        "        \"\"\" For a given sentence this function returns a sentence after correcting\n",
        "          spelling of words \"\"\"\n",
        "        suggestions = sym_spell.lookup_compound(text, max_edit_distance=2)\n",
        "        return suggestions[0]._term\n",
        "\n",
        "    def detokenize(self, text):\n",
        "        return TreebankWordDetokenizer().detokenize(text)\n",
        "\n",
        "    # return bag of words array: 0 or 1 for each word in the bag that exists in the user input\n",
        "    def texts_to_sequences(self, user_input):\n",
        "        # correcting spelling of words of user input\n",
        "        user_input = self.correct_spellings(user_input)\n",
        "        # tokenize the user input\n",
        "        user_input_words = self.clean_text(user_input)\n",
        "        detokenize_words = self.detokenize(user_input_words)\n",
        "\n",
        "\n",
        "        # Transforms each text in texts to a sequence of integers.\n",
        "        tokenized_seq = self.tokenizer.texts_to_sequences([detokenize_words])\n",
        "\n",
        "        # get max length of tokenized sequential from training data\n",
        "        max_length = len(self.train_x[0])\n",
        "        # pad_sequences is used to ensure that all sequences in a list have the same length\n",
        "        padded_sentences = pad_sequences(tokenized_seq, maxlen=max_length, padding='post')\n",
        "        user_input_seq = np.array(padded_sentences)\n",
        "\n",
        "        return user_input_seq\n",
        "\n",
        "    def predict_class(self, user_input):\n",
        "        user_input_seq = self.texts_to_sequences(user_input)\n",
        "        res = self.model.predict(user_input_seq)[0]\n",
        "\n",
        "        # filter out predictions below a threshold\n",
        "        ERROR_THRESHOLD = 0.2\n",
        "        results = [[i, r] for i, r in enumerate(res) if r > ERROR_THRESHOLD]\n",
        "\n",
        "        # sort by strength of probability\n",
        "        results.sort(key=lambda x: x[1], reverse=True)\n",
        "        return_list = []\n",
        "        for r in results:\n",
        "            return_list.append({\"intent\": self.classes[r[0]], \"probability\": str(r[1])})\n",
        "        return return_list\n",
        "\n",
        "    def get_response(self, ints):\n",
        "        result = ''\n",
        "        context = ''\n",
        "        if not ints:\n",
        "            tag = 'noanswer'\n",
        "        else:\n",
        "            tag = ints[0]['intent']\n",
        "\n",
        "        list_of_intents = self.data['intents']\n",
        "        for i in list_of_intents:\n",
        "            if i['tag'] == tag:\n",
        "                result = random.choice(i['responses'])\n",
        "                context = i['context']\n",
        "                break\n",
        "        return result, context\n",
        "\n",
        "    def chatbot_response(self, user_input):\n",
        "        # predict the intent of the user query\n",
        "        intents = self.predict_class(user_input)\n",
        "        # ask for the response\n",
        "        output_response, context = self.get_response(intents)\n",
        "\n",
        "        return output_response, context[0]\n",
        "\n",
        "    def get_explanation(self, context):\n",
        "        if context == 'rule':\n",
        "            exp = self.explanation.rule\n",
        "        elif context == 'crule':\n",
        "            exp = self.explanation.cstr()\n",
        "        elif context == 'fidelity':\n",
        "            exp = self.explanation.fidelity\n",
        "        elif context == 'exemplar':\n",
        "            exp = self.explanation.exemplars\n",
        "        elif context == 'cexemplar':\n",
        "            exp = self.explanation.cexemplars\n",
        "        elif context == 'feature_importance':\n",
        "            exp = self.explanation.feature_importance\n",
        "        else:\n",
        "            exp = \"Nothing found!\"\n",
        "\n",
        "        return exp\n",
        "\n",
        "    def start(self):\n",
        "        flag = True\n",
        "        print(\"Hello, I'm X-Bot!\"\n",
        "              \"\\nIf you want to exit, type Bye!\")\n",
        "        while flag is True:\n",
        "            user_input = input()\n",
        "            if user_input == '':\n",
        "                print('X-Bot: Please type something!\\n')\n",
        "            else:\n",
        "                output_response, context = self.chatbot_response(user_input)\n",
        "\n",
        "                print(\"X-Bot: %s\" % output_response)\n",
        "                if context != \"\" and context != \"exit\":\n",
        "                    explain = self.get_explanation(context)\n",
        "                    print(explain)\n",
        "                    print('\\n')\n",
        "                elif context == \"exit\":\n",
        "                    flag = False\n",
        "                else:\n",
        "                    print('\\n')"
      ],
      "execution_count": 26,
      "outputs": []
    },
    {
      "cell_type": "markdown",
      "metadata": {
        "id": "bNBKil8Szf_l"
      },
      "source": [
        "# Start to *chat*"
      ]
    },
    {
      "cell_type": "code",
      "metadata": {
        "id": "vUIV6Ihlzp_1"
      },
      "source": [
        "xbot_response = ResponseGenerator(data, train_x, train_y, explanation, tokenizer, trained_model, verbose=True)"
      ],
      "execution_count": 27,
      "outputs": []
    },
    {
      "cell_type": "code",
      "metadata": {
        "id": "9dV8WhLgRM6F",
        "colab": {
          "base_uri": "https://localhost:8080/"
        },
        "outputId": "e59b1037-1051-4b75-edd9-68eeeddb13ef"
      },
      "source": [
        "xbot_response.start()"
      ],
      "execution_count": null,
      "outputs": [
        {
          "output_type": "stream",
          "text": [
            "Hello, I'm X-Bot!\n",
            "If you want to exit, type Bye!\n",
            "hi\n",
            "X-Bot: Ciao\n",
            "\n",
            "\n",
            "how can yuo help me\n",
            "X-Bot: I can give you a Local Rule-based Explanations of Black Box Decision Systems\n",
            "\n",
            "\n",
            "explain it to me\n",
            "X-Bot: The factual rule are: \n",
            "{ is_recid <= 0.50 } --> { class: Low }\n",
            "\n",
            "\n",
            "top feature importances\n",
            "X-Bot: The most important features are: \n",
            "{'is_recid': 0.5350247117415892}\n",
            "\n",
            "\n",
            "which are the top important features\n",
            "X-Bot: The most important features are: \n",
            "{'is_recid': 0.5350247117415892}\n",
            "\n",
            "\n",
            "What kind of instance gets a different \n",
            "X-Bot: The factual rule are: \n",
            "{ is_recid <= 0.50 } --> { class: Low }\n",
            "\n",
            "\n",
            "What kind of instance gets a different \n",
            "X-Bot: The factual rule are: \n",
            "{ is_recid <= 0.50 } --> { class: Low }\n",
            "\n",
            "\n",
            "counterfactual rule\n",
            "X-Bot: The factual rule are: \n",
            "{ is_recid <= 0.50 } --> { class: Low }\n",
            "\n",
            "\n",
            "counter factual rule\n",
            "X-Bot: The counterfactual rules are: \n",
            "{ { is_recid > 0.50, two_year_recid > 0.50 } --> { class: High } }\n",
            "\n",
            "\n",
            "give me an exemplar\n",
            "X-Bot: The factual rule are: \n",
            "{ is_recid <= 0.50 } --> { class: Low }\n",
            "\n",
            "\n",
            "exemplar\n",
            "X-Bot: The exemplars are: \n",
            "{ age = 46, priors_count = 1, days_b_screening_arrest = 1, is_recid = 0, is_violent_recid = 0, two_year_recid = 0, length_of_stay = 10, age_cat = Greater than 45, sex = Male, race = Caucasian, c_charge_degree = F }\n",
            "{ age = 45, priors_count = 4, days_b_screening_arrest = 0, is_recid = 0, is_violent_recid = 0, two_year_recid = 0, length_of_stay = 3, age_cat = Greater than 45, sex = Male, race = African-American, c_charge_degree = M }\n",
            "{ age = 42, priors_count = 0, days_b_screening_arrest = 0, is_recid = 0, is_violent_recid = 0, two_year_recid = 0, length_of_stay = 4, age_cat = 25 - 45, sex = Male, race = Hispanic, c_charge_degree = M }\n",
            "\n",
            "\n"
          ],
          "name": "stdout"
        }
      ]
    },
    {
      "cell_type": "code",
      "metadata": {
        "id": "7vQI4_n-zqJV"
      },
      "source": [
        ""
      ],
      "execution_count": null,
      "outputs": []
    },
    {
      "cell_type": "code",
      "metadata": {
        "id": "VMFIgCI4zqL_"
      },
      "source": [
        ""
      ],
      "execution_count": null,
      "outputs": []
    },
    {
      "cell_type": "code",
      "metadata": {
        "id": "sx52anpjzqQI"
      },
      "source": [
        ""
      ],
      "execution_count": null,
      "outputs": []
    },
    {
      "cell_type": "code",
      "metadata": {
        "id": "1hJhjG1CzqS7"
      },
      "source": [
        ""
      ],
      "execution_count": null,
      "outputs": []
    }
  ]
}