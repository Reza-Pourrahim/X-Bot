{
  "nbformat": 4,
  "nbformat_minor": 0,
  "metadata": {
    "colab": {
      "name": "new_run_embedding_lstm.ipynb",
      "provenance": [],
      "collapsed_sections": [
        "J2AX_ih1lQJJ"
      ]
    },
    "kernelspec": {
      "name": "python3",
      "display_name": "Python 3"
    },
    "language_info": {
      "name": "python"
    }
  },
  "cells": [
    {
      "cell_type": "code",
      "metadata": {
        "id": "bhmbr3R2w7T3",
        "colab": {
          "base_uri": "https://localhost:8080/"
        },
        "outputId": "5802e67c-1462-48da-f6b1-2a5fb8995932"
      },
      "source": [
        "from google.colab import drive\n",
        "\n",
        "drive.mount('/content/drive')"
      ],
      "execution_count": 1,
      "outputs": [
        {
          "output_type": "stream",
          "text": [
            "Drive already mounted at /content/drive; to attempt to forcibly remount, call drive.mount(\"/content/drive\", force_remount=True).\n"
          ],
          "name": "stdout"
        }
      ]
    },
    {
      "cell_type": "code",
      "metadata": {
        "id": "NtWpOFC2w9Px"
      },
      "source": [
        "import sys\n",
        "sys.path.append(\"/content/drive/MyDrive/Thesis/reimp_lore\")\n",
        "\n",
        "import os\n",
        "os.chdir('/content/drive/MyDrive/Thesis/reimp_lore')\n",
        "\n",
        "# Now the directory '?' is the current working directory."
      ],
      "execution_count": 2,
      "outputs": []
    },
    {
      "cell_type": "markdown",
      "metadata": {
        "id": "J2AX_ih1lQJJ"
      },
      "source": [
        "# Libraries"
      ]
    },
    {
      "cell_type": "code",
      "metadata": {
        "id": "dYI7WCrV0BSs",
        "colab": {
          "base_uri": "https://localhost:8080/"
        },
        "outputId": "7b671c67-e273-4850-b02f-97d9ddb574bd"
      },
      "source": [
        "!pip install symspellpy"
      ],
      "execution_count": 3,
      "outputs": [
        {
          "output_type": "stream",
          "text": [
            "Requirement already satisfied: symspellpy in /usr/local/lib/python3.7/dist-packages (6.7.0)\n",
            "Requirement already satisfied: numpy>=1.13.1 in /usr/local/lib/python3.7/dist-packages (from symspellpy) (1.19.5)\n"
          ],
          "name": "stdout"
        }
      ]
    },
    {
      "cell_type": "code",
      "metadata": {
        "id": "NluoEm6-lCY6",
        "colab": {
          "base_uri": "https://localhost:8080/"
        },
        "outputId": "f5203813-833c-417f-c35a-f9dfc8847e7f"
      },
      "source": [
        "import nltk\n",
        "nltk.download('punkt')\n",
        "nltk.download('wordnet')\n",
        "\n",
        "from nltk.stem import WordNetLemmatizer\n",
        "lemmatizer = WordNetLemmatizer()\n",
        "\n",
        "import pickle\n",
        "import string\n",
        "punct = string.punctuation\n",
        "trantab = str.maketrans(punct, len(punct) * ' ')  # Every punctuation symbol will be replaced by a space\n",
        "whitelist = ['?', '!']\n",
        "\n",
        "import warnings\n",
        "warnings.filterwarnings(\"ignore\")\n",
        "\n",
        "import random\n",
        "import numpy as np\n",
        "import re\n",
        "import pandas as pd\n",
        "from nltk.tokenize.treebank import TreebankWordDetokenizer\n",
        "\n",
        "from keras.preprocessing.text import Tokenizer\n",
        "from keras.preprocessing.sequence import pad_sequences\n",
        "\n",
        "from keras.models import Sequential\n",
        "from keras import layers\n",
        "from keras.callbacks import EarlyStopping, ModelCheckpoint"
      ],
      "execution_count": 4,
      "outputs": [
        {
          "output_type": "stream",
          "text": [
            "[nltk_data] Downloading package punkt to /root/nltk_data...\n",
            "[nltk_data]   Package punkt is already up-to-date!\n",
            "[nltk_data] Downloading package wordnet to /root/nltk_data...\n",
            "[nltk_data]   Package wordnet is already up-to-date!\n"
          ],
          "name": "stdout"
        }
      ]
    },
    {
      "cell_type": "code",
      "metadata": {
        "id": "bEH0Mfyak_Z8"
      },
      "source": [
        "from keras.models import load_model\n",
        "\n",
        "import json\n",
        "import matplotlib.pyplot as plt"
      ],
      "execution_count": 5,
      "outputs": []
    },
    {
      "cell_type": "code",
      "metadata": {
        "id": "AbX9sIiHz-Zw",
        "colab": {
          "base_uri": "https://localhost:8080/"
        },
        "outputId": "aa9914ad-5f13-41af-955d-f97f8a6206a4"
      },
      "source": [
        "import nltk\n",
        "import numpy as np\n",
        "import random\n",
        "import pickle\n",
        "\n",
        "from nltk.stem import WordNetLemmatizer\n",
        "lemmatizer = WordNetLemmatizer()\n",
        "\n",
        "import re, string\n",
        "punct = string.punctuation\n",
        "trantab = str.maketrans(punct, len(punct) * ' ')  # Every punctuation symbol will be replaced by a space\n",
        "whitelist = ['?', '!']\n",
        "\n",
        "# Using symspell to correct spelling\n",
        "import pkg_resources\n",
        "from symspellpy import SymSpell, Verbosity\n",
        "\n",
        "sym_spell = SymSpell(max_dictionary_edit_distance=2, prefix_length=7)\n",
        "dictionary_path = pkg_resources.resource_filename(\"symspellpy\",\n",
        "                                                  \"frequency_dictionary_en_82_765.txt\")\n",
        "bigram_path = pkg_resources.resource_filename(\"symspellpy\",\n",
        "                                              \"frequency_bigramdictionary_en_243_342.txt\")\n",
        "sym_spell.load_dictionary(dictionary_path, term_index=0, count_index=1)\n",
        "sym_spell.load_bigram_dictionary(bigram_path, term_index=0, count_index=2)"
      ],
      "execution_count": 6,
      "outputs": [
        {
          "output_type": "execute_result",
          "data": {
            "text/plain": [
              "True"
            ]
          },
          "metadata": {
            "tags": []
          },
          "execution_count": 6
        }
      ]
    },
    {
      "cell_type": "code",
      "metadata": {
        "id": "r4Jz6n8KHRzO",
        "colab": {
          "base_uri": "https://localhost:8080/"
        },
        "outputId": "15adb13f-22e9-41ff-a0f7-389f1143fb2b"
      },
      "source": [
        "!pip install bitarray\n",
        "!pip install scikit-multilearn\n",
        "!pip install arff"
      ],
      "execution_count": 7,
      "outputs": [
        {
          "output_type": "stream",
          "text": [
            "Requirement already satisfied: bitarray in /usr/local/lib/python3.7/dist-packages (2.0.1)\n",
            "Requirement already satisfied: scikit-multilearn in /usr/local/lib/python3.7/dist-packages (0.2.0)\n",
            "Requirement already satisfied: arff in /usr/local/lib/python3.7/dist-packages (0.9)\n"
          ],
          "name": "stdout"
        }
      ]
    },
    {
      "cell_type": "code",
      "metadata": {
        "id": "L210JMifHWiZ"
      },
      "source": [
        "import lore\n",
        "from datamanager import *\n",
        "\n",
        "from sklearn.ensemble import RandomForestClassifier\n",
        "from sklearn.model_selection import train_test_split\n",
        "\n",
        "from sklearn.metrics import f1_score, accuracy_score\n",
        "\n",
        "from util import record2str"
      ],
      "execution_count": 8,
      "outputs": []
    },
    {
      "cell_type": "code",
      "metadata": {
        "id": "DGv9Sp9xbC4z",
        "colab": {
          "base_uri": "https://localhost:8080/",
          "height": 0
        },
        "outputId": "aa304afb-2503-4d8b-e449-208c5e5d81ad"
      },
      "source": [
        "np.version.version"
      ],
      "execution_count": 9,
      "outputs": [
        {
          "output_type": "execute_result",
          "data": {
            "application/vnd.google.colaboratory.intrinsic+json": {
              "type": "string"
            },
            "text/plain": [
              "'1.19.5'"
            ]
          },
          "metadata": {
            "tags": []
          },
          "execution_count": 9
        }
      ]
    },
    {
      "cell_type": "markdown",
      "metadata": {
        "id": "f6aHFke3Heql"
      },
      "source": [
        "# Explainer Dataset"
      ]
    },
    {
      "cell_type": "code",
      "metadata": {
        "id": "8eOLCXFbHh4r"
      },
      "source": [
        "## Iris Dataset\n",
        "# dataset_name = 'dataset/iris.csv'\n",
        "# dataset = prepare_iris_dataset(dataset_name)\n",
        "\n",
        "## wine\n",
        "# dataset_name = 'dataset/wine.csv'\n",
        "# dataset = prepare_wine_dataset(dataset_name)\n",
        "\n",
        "##############################################\n",
        "#           Categorical dataset              #\n",
        "##############################################\n",
        "## german: (0 = Good, 1 = Bad)\n",
        "# dataset_name = 'dataset/german_credit.csv'\n",
        "# dataset = prepare_german_dataset(dataset_name)\n",
        "\n",
        "## adult: ['<=50K', '>50K']\n",
        "# dataset_name = 'dataset/adult.csv'\n",
        "# dataset = prepare_adult_dataset(dataset_name)\n",
        "\n",
        "## compas-scores-two-years: ['High', 'Low', 'Medium']\n",
        "dataset_name = 'dataset/compas-scores-two-years.csv'\n",
        "dataset = prepare_compass_dataset(dataset_name)\n",
        "\n",
        "dataframe = dataset[0]\n",
        "class_name = dataset[1]\n",
        "dataset_fin = prepare_dataset(dataframe, class_name)"
      ],
      "execution_count": 10,
      "outputs": []
    },
    {
      "cell_type": "code",
      "metadata": {
        "id": "1aVMCrTrHh7G"
      },
      "source": [
        "df = dataset_fin[0] #dataframe with unique numeric class values(0, 1, ...)\n",
        "feature_names = dataset_fin[1]\n",
        "class_values = dataset_fin[2]\n",
        "numeric_columns = dataset_fin[3]\n",
        "rdf = dataset_fin[4] #real dataframe\n",
        "real_feature_names = dataset_fin[5]\n",
        "features_map = dataset_fin[6] #map each class name to its unique numeric value\n",
        "df_categorical_idx = dataset_fin[7]"
      ],
      "execution_count": 11,
      "outputs": []
    },
    {
      "cell_type": "markdown",
      "metadata": {
        "id": "Dp3HU5kJHnf7"
      },
      "source": [
        "# Black box classifier"
      ]
    },
    {
      "cell_type": "code",
      "metadata": {
        "id": "eHEwasTTHpk0",
        "colab": {
          "base_uri": "https://localhost:8080/"
        },
        "outputId": "a8a9cd3d-f816-419c-9036-9d65831f77ff"
      },
      "source": [
        "X = df.loc[:, df.columns != class_name].values\n",
        "y = df[class_name].values\n",
        "\n",
        "X_train, X_test, y_train, y_test = train_test_split(X, y, test_size=0.3, stratify=y)\n",
        "blackbox = RandomForestClassifier()\n",
        "blackbox.fit(X_train, y_train)"
      ],
      "execution_count": 12,
      "outputs": [
        {
          "output_type": "execute_result",
          "data": {
            "text/plain": [
              "RandomForestClassifier(bootstrap=True, ccp_alpha=0.0, class_weight=None,\n",
              "                       criterion='gini', max_depth=None, max_features='auto',\n",
              "                       max_leaf_nodes=None, max_samples=None,\n",
              "                       min_impurity_decrease=0.0, min_impurity_split=None,\n",
              "                       min_samples_leaf=1, min_samples_split=2,\n",
              "                       min_weight_fraction_leaf=0.0, n_estimators=100,\n",
              "                       n_jobs=None, oob_score=False, random_state=None,\n",
              "                       verbose=0, warm_start=False)"
            ]
          },
          "metadata": {
            "tags": []
          },
          "execution_count": 12
        }
      ]
    },
    {
      "cell_type": "code",
      "metadata": {
        "id": "Eg7Pq_G_Hp_o",
        "colab": {
          "base_uri": "https://localhost:8080/"
        },
        "outputId": "d76fe45a-d585-43e6-89a1-ab5220944275"
      },
      "source": [
        "y_pred = blackbox.predict(X_test)\n",
        "print('Accuracy: %.3f' % accuracy_score(y_test, y_pred))"
      ],
      "execution_count": 13,
      "outputs": [
        {
          "output_type": "stream",
          "text": [
            "Accuracy: 0.608\n"
          ],
          "name": "stdout"
        }
      ]
    },
    {
      "cell_type": "markdown",
      "metadata": {
        "id": "3W69GCVwHr_q"
      },
      "source": [
        "## Select an instance"
      ]
    },
    {
      "cell_type": "code",
      "metadata": {
        "id": "pJT8l84JHqPu",
        "colab": {
          "base_uri": "https://localhost:8080/"
        },
        "outputId": "ac22459f-6ca3-4051-e57a-80f20517a2f9"
      },
      "source": [
        "i = 10\n",
        "x = X_test[i]\n",
        "y_val = blackbox.predict(x.reshape(1,-1))[0]\n",
        "\n",
        "print(class_values)\n",
        "class_prob = blackbox.predict_proba(x.reshape(1,-1))[0]\n",
        "print(class_prob)\n",
        "\n",
        "y_val_name = class_values[y_val]\n",
        "print('blackbox(x) = { %s }' % y_val_name)\n"
      ],
      "execution_count": 14,
      "outputs": [
        {
          "output_type": "stream",
          "text": [
            "['High', 'Low', 'Medium']\n",
            "[0.   0.76 0.24]\n",
            "blackbox(x) = { Low }\n"
          ],
          "name": "stdout"
        }
      ]
    },
    {
      "cell_type": "code",
      "metadata": {
        "id": "DnvWF01jHw80",
        "colab": {
          "base_uri": "https://localhost:8080/"
        },
        "outputId": "2ec21ca9-fd1c-45e1-df0b-fcca1e108203"
      },
      "source": [
        "print('x = %s' % record2str(x, feature_names, numeric_columns))"
      ],
      "execution_count": 15,
      "outputs": [
        {
          "output_type": "stream",
          "text": [
            "x = { age = 36, priors_count = 1, days_b_screening_arrest = 1, is_recid = 0, is_violent_recid = 0, two_year_recid = 0, length_of_stay = 0, age_cat = 25 - 45, sex = Male, race = Caucasian, c_charge_degree = M }\n"
          ],
          "name": "stdout"
        }
      ]
    },
    {
      "cell_type": "markdown",
      "metadata": {
        "id": "JtXXkOjJHzFE"
      },
      "source": [
        "# LORE explainer (explaining an instance x)"
      ]
    },
    {
      "cell_type": "code",
      "metadata": {
        "id": "28syieuPH4un"
      },
      "source": [
        "lore_obj = lore.LORE(X_test, blackbox, feature_names, class_name, class_values,\n",
        "                 numeric_columns, features_map, df_categorical_idx, neigh_type='ngmusx', verbose=False)"
      ],
      "execution_count": 16,
      "outputs": []
    },
    {
      "cell_type": "code",
      "metadata": {
        "id": "H7DhAkbhH4xT",
        "colab": {
          "base_uri": "https://localhost:8080/"
        },
        "outputId": "b4d95abc-289b-4c4a-9dd7-fd6cb87d3238"
      },
      "source": [
        "explanation = lore_obj.explain_instance(x, samples=1000, nbr_runs=10, exemplar_num=3)\n",
        "print(explanation)"
      ],
      "execution_count": 17,
      "outputs": [
        {
          "output_type": "stream",
          "text": [
            "r = { age > 34.50 } --> { class: Low }\n",
            "\n",
            "feature importance = {'age': 1.0}\n",
            "\n",
            "c =  }\n",
            "\n",
            "exemplars = { age = 36, priors_count = 0, days_b_screening_arrest = 1, is_recid = 0, is_violent_recid = 0, two_year_recid = 0, length_of_stay = 0, age_cat = 25 - 45, sex = Male, race = Caucasian, c_charge_degree = M }\n",
            "{ age = 36, priors_count = 1, days_b_screening_arrest = 1, is_recid = 0, is_violent_recid = 0, two_year_recid = 0, length_of_stay = 0, age_cat = 25 - 45, sex = Male, race = African-American, c_charge_degree = M }\n",
            "{ age = 36, priors_count = 1, days_b_screening_arrest = 1, is_recid = 0, is_violent_recid = 0, two_year_recid = 0, length_of_stay = 0, age_cat = 25 - 45, sex = Male, race = Caucasian, c_charge_degree = F }\n",
            "\n",
            "counter-exemplars = { age = 34, priors_count = 0, days_b_screening_arrest = 1, is_recid = 0, is_violent_recid = 0, two_year_recid = 0, length_of_stay = 0, age_cat = 25 - 45, sex = Male, race = Caucasian, c_charge_degree = M }\n",
            "{ age = 34, priors_count = 0, days_b_screening_arrest = 1, is_recid = 0, is_violent_recid = 0, two_year_recid = 0, length_of_stay = 0, age_cat = 25 - 45, sex = Male, race = Caucasian, c_charge_degree = M }\n",
            "{ age = 34, priors_count = 0, days_b_screening_arrest = 1, is_recid = 0, is_violent_recid = 0, two_year_recid = 0, length_of_stay = 0, age_cat = 25 - 45, sex = Male, race = Caucasian, c_charge_degree = M }\n"
          ],
          "name": "stdout"
        }
      ]
    },
    {
      "cell_type": "markdown",
      "metadata": {
        "id": "zLIRZoh4lLl0"
      },
      "source": [
        "# X-Bot Model"
      ]
    },
    {
      "cell_type": "code",
      "metadata": {
        "id": "yTrMmzDQ2r__"
      },
      "source": [
        "\n",
        "class XBotModel(object):\n",
        "    def __init__(self, verbose=False):\n",
        "        self.verbose = verbose\n",
        "\n",
        "    def decontractions(self, phrase):\n",
        "        \"\"\"decontracted takes text and convert contractions into natural form.\n",
        "         ref: https://stackoverflow.com/questions/19790188/expanding-english-language-contractions-in-python/47091490#47091490\"\"\"\n",
        "        # specific\n",
        "        phrase = re.sub(r\"won\\'t\", \"will not\", phrase)\n",
        "        phrase = re.sub(r\"can\\'t\", \"can not\", phrase)\n",
        "        phrase = re.sub(r\"won\\’t\", \"will not\", phrase)\n",
        "        phrase = re.sub(r\"can\\’t\", \"can not\", phrase)\n",
        "\n",
        "        # general\n",
        "        phrase = re.sub(r\"n\\'t\", \" not\", phrase)\n",
        "        phrase = re.sub(r\"\\'re\", \" are\", phrase)\n",
        "        phrase = re.sub(r\"\\'s\", \" is\", phrase)\n",
        "        phrase = re.sub(r\"\\'d\", \" would\", phrase)\n",
        "        phrase = re.sub(r\"\\'ll\", \" will\", phrase)\n",
        "        phrase = re.sub(r\"\\'t\", \" not\", phrase)\n",
        "        phrase = re.sub(r\"\\'ve\", \" have\", phrase)\n",
        "        phrase = re.sub(r\"\\'m\", \" am\", phrase)\n",
        "\n",
        "        phrase = re.sub(r\"n\\’t\", \" not\", phrase)\n",
        "        phrase = re.sub(r\"\\’re\", \" are\", phrase)\n",
        "        phrase = re.sub(r\"\\’s\", \" is\", phrase)\n",
        "        phrase = re.sub(r\"\\’d\", \" would\", phrase)\n",
        "        phrase = re.sub(r\"\\’ll\", \" will\", phrase)\n",
        "        phrase = re.sub(r\"\\’t\", \" not\", phrase)\n",
        "        phrase = re.sub(r\"\\’ve\", \" have\", phrase)\n",
        "        phrase = re.sub(r\"\\’m\", \" am\", phrase)\n",
        "\n",
        "        return phrase\n",
        "\n",
        "    def clean_text(self, text):\n",
        "        # Lower casting\n",
        "        text = text.lower()\n",
        "        # Decontracted\n",
        "        text = self.decontractions(text)\n",
        "        # Remove more than 1 space\n",
        "        text = \" \".join(text.split())\n",
        "        # Remove punctuation\n",
        "        text = text.translate(trantab)\n",
        "        text_words = nltk.word_tokenize(text)\n",
        "        words = [lemmatizer.lemmatize(w) for w in text_words if w not in whitelist]\n",
        "        return words\n",
        "\n",
        "    def detokenize(self, text):\n",
        "        return TreebankWordDetokenizer().detokenize(text)\n",
        "\n",
        "\n",
        "    def prepare_train_dataset(self, data):\n",
        "        classes = []\n",
        "        pattern_list = []\n",
        "        pattern_class = []\n",
        "\n",
        "        # adding classes to our class list\n",
        "        # pattern_class = [intent['tag'] for intent in data['intents'] if intent not in pattern_class]\n",
        "\n",
        "        for intent in data['intents']:\n",
        "            for pattern in intent['patterns']:\n",
        "\n",
        "                # clean the pattern\n",
        "                w = self.clean_text(pattern)\n",
        "\n",
        "                # adding documents\n",
        "                detokenize_words = self.detokenize(w)\n",
        "                pattern_list.append((detokenize_words))\n",
        "                pattern_class.append(intent['tag'])\n",
        "\n",
        "\n",
        "\n",
        "        # This class allows to vectorize a text corpus, by turning each text into either a sequence of integers (each integer being the index of a token in a dictionary)\n",
        "        tokenizer = Tokenizer()\n",
        "        tokenizer.fit_on_texts(pattern_list)\n",
        "        # Transforms each text in texts to a sequence of integers.\n",
        "        tokenized_seq = tokenizer.texts_to_sequences(pattern_list)\n",
        "\n",
        "        # Determining the maximum length of the tokenized sequential\n",
        "        max_length = max([len(s) for s in tokenized_seq])\n",
        "\n",
        "        # pad_sequences is used to ensure that all sequences in a list have the same length\n",
        "        padded_sentences = pad_sequences(tokenized_seq, maxlen=max_length, padding='post')\n",
        "        data_pattern = list(padded_sentences)\n",
        "\n",
        "        # labels (classes)\n",
        "        labels = pd.get_dummies(pattern_class).values.tolist()\n",
        "\n",
        "        # training dataset\n",
        "        training_dataset = [[a]+[b] for a, b in zip(data_pattern, labels)]\n",
        "\n",
        "        # shuffle our features and turn into np.array\n",
        "        random.shuffle(training_dataset)\n",
        "        training_dataset = np.array(training_dataset)\n",
        "\n",
        "        # define vocabulary size (largest integer value)\n",
        "        # The vocabulary size is the total number of words in our vocabulary, plus one for unknown words\n",
        "        vocab_size = len(tokenizer.word_index) + 1\n",
        "\n",
        "        # Using pre-trained word embeddings\n",
        "        embeddings_index = {}\n",
        "        f = open('glove.6B.100d.txt')\n",
        "        for line in f:\n",
        "            values = line.split()\n",
        "            word = values[0]\n",
        "            coefs = np.asarray(values[1:], dtype='float32')\n",
        "            embeddings_index[word] = coefs\n",
        "        f.close()\n",
        "        if self.verbose:\n",
        "          print('Loaded %s word vectors.' % len(embeddings_index))\n",
        "\n",
        "        # create a weight matrix for words in training docs\n",
        "        embedding_matrix = np.zeros((vocab_size, 100))\n",
        "        for word, i in tokenizer.word_index.items():\n",
        "          embedding_vector = embeddings_index.get(word)\n",
        "          if embedding_vector is not None:\n",
        "            embedding_matrix[i] = embedding_vector\n",
        "\n",
        "        # a list of different types of intents of responses\n",
        "        classes = sorted(list(set(pattern_class)))\n",
        "        # save as a pickle\n",
        "        pickle.dump(classes, open('classes.pkl', 'wb'))\n",
        "\n",
        "\n",
        "        if self.verbose:\n",
        "            print(\"Training Data Created!\")\n",
        "            print(\"Words : {}\".format(tokenizer.word_index))\n",
        "            print('Number of  Words = {}'.format(vocab_size))\n",
        "            print('Maximum Length of Words in a Sentence = {}'.format(max_length))\n",
        "\n",
        "        return training_dataset, vocab_size, tokenizer, embedding_matrix\n",
        "\n",
        "\n",
        "    def create_model(self, train_x, train_y, embedding_matrix, vocab_size=1000, embedding_dim=128, lstm_out=100, dropout=0.5):\n",
        "        input_length = len(train_x[0])\n",
        "        num_classes = len(train_y[0])\n",
        "\n",
        "        # Model\n",
        "        model = Sequential()\n",
        "        # The embedding layer\n",
        "        model.add(layers.Embedding(input_dim=vocab_size,\n",
        "                                   output_dim=embedding_dim,\n",
        "                                   weights=[embedding_matrix],\n",
        "                                   input_length=input_length,\n",
        "                                   trainable=False))\n",
        "        # The Bidirectional LSTM layer\n",
        "        model.add(layers.Bidirectional(layers.LSTM(lstm_out,\n",
        "                                                   dropout=dropout)))\n",
        "        # The Dense layer\n",
        "        model.add(layers.Dense(num_classes,\n",
        "                               activation='softmax'))\n",
        "\n",
        "        if self.verbose:\n",
        "            print(model.summary())\n",
        "\n",
        "        return model\n",
        "\n",
        "    def compile_fit_model(self, model, train_x, train_y, epochs=100, batch_size=5,\n",
        "                          earlystopping_patience=10, validation_split=0.3, loss='categorical_crossentropy'):\n",
        "\n",
        "        if self.verbose:\n",
        "            verb = 1\n",
        "        else:\n",
        "            verb = 0\n",
        "\n",
        "        es = EarlyStopping(monitor='loss', patience=earlystopping_patience, verbose=verb)\n",
        "        mc = ModelCheckpoint('best_xbot_model.h5', monitor='val_accuracy', save_best_only=True)\n",
        "\n",
        "        # Model compilation\n",
        "        model.compile(loss=loss,\n",
        "                      optimizer='adam',\n",
        "                      metrics=['accuracy'])\n",
        "\n",
        "        # Model Training and Validation\n",
        "        mymodel = model.fit(x=np.array(train_x),\n",
        "                            y=np.array(train_y),\n",
        "                            validation_split=validation_split,\n",
        "                            epochs=epochs,\n",
        "                            batch_size=batch_size,\n",
        "                            verbose=verb,\n",
        "                            callbacks=[es, mc]).history\n",
        "        return mymodel"
      ],
      "execution_count": 18,
      "outputs": []
    },
    {
      "cell_type": "markdown",
      "metadata": {
        "id": "LeDL7iMqla7K"
      },
      "source": [
        "# Run"
      ]
    },
    {
      "cell_type": "code",
      "metadata": {
        "id": "SUoC7TQ32sDE"
      },
      "source": [
        "###################### Chat Data ######################\n",
        "data_file = open('chatdata/intents.json').read()\n",
        "data = json.loads(data_file)"
      ],
      "execution_count": 19,
      "outputs": []
    },
    {
      "cell_type": "code",
      "metadata": {
        "id": "35A-1P4zlhBJ",
        "colab": {
          "base_uri": "https://localhost:8080/"
        },
        "outputId": "d19549c4-b2a1-4013-ab2d-0d365e23ce9e"
      },
      "source": [
        "XBot_obj = XBotModel(verbose=True)\n",
        "\n",
        "# training dataset\n",
        "train_dataset, vocab_size, tokenizer, embedding_matrix = XBot_obj.prepare_train_dataset(data)\n",
        "train_x = list(train_dataset[:, 0])\n",
        "train_y = list(train_dataset[:, 1])"
      ],
      "execution_count": 20,
      "outputs": [
        {
          "output_type": "stream",
          "text": [
            "Loaded 400000 word vectors.\n",
            "Training Data Created!\n",
            "Words : {'the': 1, 'this': 2, 'instance': 3, 'is': 4, 'how': 5, 'what': 6, 'prediction': 7, 'to': 8, 'feature': 9, 'me': 10, 'you': 11, 'system': 12, 'are': 13, 'doe': 14, 'a': 15, 'exemplar': 16, 'similar': 17, 'give': 18, 'for': 19, 'of': 20, 'why': 21, 'different': 22, 'not': 23, 'thanks': 24, 'that': 25, 'help': 26, 'be': 27, 'performance': 28, 'about': 29, 'make': 30, 'likely': 31, 'rule': 32, 'it': 33, 'explanation': 34, 'explain': 35, 'given': 36, 'counter': 37, 'get': 38, 'top': 39, 'importance': 40, 'important': 41, 'hi': 42, 'there': 43, 'good': 44, 'bye': 45, 'helpful': 46, 'can': 47, 'do': 48, 'accuracy': 49, 'mistake': 50, 'in': 51, 'situation': 52, 'kind': 53, 'factual': 54, 's': 55, 'should': 56, 'change': 57, 'used': 58, 'variable': 59, 'an': 60, 'ciao': 61, 'buongiorno': 62, 'anyone': 63, 'hey': 64, 'hola': 65, 'hello': 66, 'day': 67, 'see': 68, 'later': 69, 'goodbye': 70, 'nice': 71, 'chatting': 72, 'till': 73, 'next': 74, 'time': 75, 'thank': 76, 'awesome': 77, 'helping': 78, 'could': 79, 'provide': 80, 'support': 81, 'offered': 82, 'reliability': 83, 'precise': 84, 'reliable': 85, 'accurate': 86, 'often': 87, 'incorrect': 88, 'correct': 89, 'limitation': 90, 'enough': 91, 'use': 92, 'reason': 93, 'wa': 94, 'calculated': 95, 'lead': 96, 'and': 97, 'b': 98, 'same': 99, 'counterfactual': 100, 'weigh': 101, 'x': 102, 'or': 103, 'consider': 104, 'which': 105, 'most': 106, 'influence': 107, 'on': 108, 'some': 109, 'show': 110, 'nearest': 111, 'neighbour': 112}\n",
            "Number of  Words = 113\n",
            "Maximum Length of Words in a Sentence = 13\n"
          ],
          "name": "stdout"
        }
      ]
    },
    {
      "cell_type": "code",
      "metadata": {
        "id": "Fd4xKv7QPcg3",
        "colab": {
          "base_uri": "https://localhost:8080/"
        },
        "outputId": "ff153586-830e-4226-be0b-447acf508728"
      },
      "source": [
        "len(embedding_matrix)"
      ],
      "execution_count": 21,
      "outputs": [
        {
          "output_type": "execute_result",
          "data": {
            "text/plain": [
              "113"
            ]
          },
          "metadata": {
            "tags": []
          },
          "execution_count": 21
        }
      ]
    },
    {
      "cell_type": "code",
      "metadata": {
        "id": "FI-zvdivlmKx",
        "colab": {
          "base_uri": "https://localhost:8080/"
        },
        "outputId": "372f1bc7-e7e7-4fed-d77e-610d0dde5544"
      },
      "source": [
        "# create model\n",
        "model = XBot_obj.create_model(train_x, train_y, embedding_matrix, vocab_size,\n",
        "                              embedding_dim=100, lstm_out=15, dropout=0.5)"
      ],
      "execution_count": 22,
      "outputs": [
        {
          "output_type": "stream",
          "text": [
            "Model: \"sequential\"\n",
            "_________________________________________________________________\n",
            "Layer (type)                 Output Shape              Param #   \n",
            "=================================================================\n",
            "embedding (Embedding)        (None, 13, 100)           11300     \n",
            "_________________________________________________________________\n",
            "bidirectional (Bidirectional (None, 30)                13920     \n",
            "_________________________________________________________________\n",
            "dense (Dense)                (None, 10)                310       \n",
            "=================================================================\n",
            "Total params: 25,530\n",
            "Trainable params: 14,230\n",
            "Non-trainable params: 11,300\n",
            "_________________________________________________________________\n",
            "None\n"
          ],
          "name": "stdout"
        }
      ]
    },
    {
      "cell_type": "code",
      "metadata": {
        "id": "bBPb-EEG2sF4",
        "colab": {
          "base_uri": "https://localhost:8080/"
        },
        "outputId": "1844c240-0e41-42df-ff55-e6fa78e2a35e"
      },
      "source": [
        "mymodel = XBot_obj.compile_fit_model(model, train_x, train_y, epochs=200,\n",
        "                                     batch_size=5,\n",
        "                                     earlystopping_patience=10,\n",
        "                                     validation_split=0.3,\n",
        "                                     loss='categorical_crossentropy')"
      ],
      "execution_count": 23,
      "outputs": [
        {
          "output_type": "stream",
          "text": [
            "Epoch 1/200\n",
            "12/12 [==============================] - 5s 123ms/step - loss: 2.3144 - accuracy: 0.1006 - val_loss: 2.2134 - val_accuracy: 0.3077\n",
            "Epoch 2/200\n",
            "12/12 [==============================] - 0s 15ms/step - loss: 2.2534 - accuracy: 0.1293 - val_loss: 2.1920 - val_accuracy: 0.4231\n",
            "Epoch 3/200\n",
            "12/12 [==============================] - 0s 15ms/step - loss: 2.2274 - accuracy: 0.1905 - val_loss: 2.1710 - val_accuracy: 0.3846\n",
            "Epoch 4/200\n",
            "12/12 [==============================] - 0s 14ms/step - loss: 2.1645 - accuracy: 0.3853 - val_loss: 2.1506 - val_accuracy: 0.3846\n",
            "Epoch 5/200\n",
            "12/12 [==============================] - 0s 14ms/step - loss: 2.1126 - accuracy: 0.4033 - val_loss: 2.1258 - val_accuracy: 0.4231\n",
            "Epoch 6/200\n",
            "12/12 [==============================] - 0s 14ms/step - loss: 2.1200 - accuracy: 0.3258 - val_loss: 2.1101 - val_accuracy: 0.4231\n",
            "Epoch 7/200\n",
            "12/12 [==============================] - 0s 15ms/step - loss: 2.0268 - accuracy: 0.4629 - val_loss: 2.0805 - val_accuracy: 0.4231\n",
            "Epoch 8/200\n",
            "12/12 [==============================] - 0s 14ms/step - loss: 2.0395 - accuracy: 0.3282 - val_loss: 2.0588 - val_accuracy: 0.4231\n",
            "Epoch 9/200\n",
            "12/12 [==============================] - 0s 15ms/step - loss: 1.9754 - accuracy: 0.3802 - val_loss: 2.0290 - val_accuracy: 0.4615\n",
            "Epoch 10/200\n",
            "12/12 [==============================] - 0s 15ms/step - loss: 1.9324 - accuracy: 0.3785 - val_loss: 1.9994 - val_accuracy: 0.4615\n",
            "Epoch 11/200\n",
            "12/12 [==============================] - 0s 15ms/step - loss: 1.8917 - accuracy: 0.4258 - val_loss: 1.9559 - val_accuracy: 0.5385\n",
            "Epoch 12/200\n",
            "12/12 [==============================] - 0s 14ms/step - loss: 1.9101 - accuracy: 0.5147 - val_loss: 1.9266 - val_accuracy: 0.5385\n",
            "Epoch 13/200\n",
            "12/12 [==============================] - 0s 15ms/step - loss: 1.8656 - accuracy: 0.4096 - val_loss: 1.8726 - val_accuracy: 0.5769\n",
            "Epoch 14/200\n",
            "12/12 [==============================] - 0s 16ms/step - loss: 1.6951 - accuracy: 0.6267 - val_loss: 1.8365 - val_accuracy: 0.5769\n",
            "Epoch 15/200\n",
            "12/12 [==============================] - 0s 15ms/step - loss: 1.6698 - accuracy: 0.5995 - val_loss: 1.8023 - val_accuracy: 0.6154\n",
            "Epoch 16/200\n",
            "12/12 [==============================] - 0s 15ms/step - loss: 1.6159 - accuracy: 0.4800 - val_loss: 1.7606 - val_accuracy: 0.6154\n",
            "Epoch 17/200\n",
            "12/12 [==============================] - 0s 15ms/step - loss: 1.5405 - accuracy: 0.7023 - val_loss: 1.6910 - val_accuracy: 0.5769\n",
            "Epoch 18/200\n",
            "12/12 [==============================] - 0s 15ms/step - loss: 1.4872 - accuracy: 0.6400 - val_loss: 1.7069 - val_accuracy: 0.6154\n",
            "Epoch 19/200\n",
            "12/12 [==============================] - 0s 14ms/step - loss: 1.3608 - accuracy: 0.6891 - val_loss: 1.6179 - val_accuracy: 0.6154\n",
            "Epoch 20/200\n",
            "12/12 [==============================] - 0s 18ms/step - loss: 1.3568 - accuracy: 0.6596 - val_loss: 1.5944 - val_accuracy: 0.6154\n",
            "Epoch 21/200\n",
            "12/12 [==============================] - 0s 15ms/step - loss: 1.2683 - accuracy: 0.6740 - val_loss: 1.5426 - val_accuracy: 0.6154\n",
            "Epoch 22/200\n",
            "12/12 [==============================] - 0s 15ms/step - loss: 1.2975 - accuracy: 0.7562 - val_loss: 1.4465 - val_accuracy: 0.6538\n",
            "Epoch 23/200\n",
            "12/12 [==============================] - 0s 19ms/step - loss: 1.2202 - accuracy: 0.7464 - val_loss: 1.4125 - val_accuracy: 0.6538\n",
            "Epoch 24/200\n",
            "12/12 [==============================] - 0s 15ms/step - loss: 1.1212 - accuracy: 0.7157 - val_loss: 1.5103 - val_accuracy: 0.6154\n",
            "Epoch 25/200\n",
            "12/12 [==============================] - 0s 16ms/step - loss: 1.1182 - accuracy: 0.7671 - val_loss: 1.3641 - val_accuracy: 0.6154\n",
            "Epoch 26/200\n",
            "12/12 [==============================] - 0s 15ms/step - loss: 1.0049 - accuracy: 0.7275 - val_loss: 1.2941 - val_accuracy: 0.6538\n",
            "Epoch 27/200\n",
            "12/12 [==============================] - 0s 16ms/step - loss: 1.1001 - accuracy: 0.7440 - val_loss: 1.3048 - val_accuracy: 0.6154\n",
            "Epoch 28/200\n",
            "12/12 [==============================] - 0s 15ms/step - loss: 1.1215 - accuracy: 0.6806 - val_loss: 1.2016 - val_accuracy: 0.6538\n",
            "Epoch 29/200\n",
            "12/12 [==============================] - 0s 16ms/step - loss: 0.9455 - accuracy: 0.8073 - val_loss: 1.1871 - val_accuracy: 0.6154\n",
            "Epoch 30/200\n",
            "12/12 [==============================] - 0s 16ms/step - loss: 0.7309 - accuracy: 0.9576 - val_loss: 1.2589 - val_accuracy: 0.6538\n",
            "Epoch 31/200\n",
            "12/12 [==============================] - 0s 15ms/step - loss: 0.8582 - accuracy: 0.7528 - val_loss: 1.1338 - val_accuracy: 0.6538\n",
            "Epoch 32/200\n",
            "12/12 [==============================] - 0s 15ms/step - loss: 0.7225 - accuracy: 0.9110 - val_loss: 1.1357 - val_accuracy: 0.6538\n",
            "Epoch 33/200\n",
            "12/12 [==============================] - 0s 16ms/step - loss: 0.7266 - accuracy: 0.8146 - val_loss: 1.1432 - val_accuracy: 0.6154\n",
            "Epoch 34/200\n",
            "12/12 [==============================] - 0s 17ms/step - loss: 0.7306 - accuracy: 0.8395 - val_loss: 1.1085 - val_accuracy: 0.6538\n",
            "Epoch 35/200\n",
            "12/12 [==============================] - 0s 15ms/step - loss: 0.6916 - accuracy: 0.8793 - val_loss: 1.1515 - val_accuracy: 0.6154\n",
            "Epoch 36/200\n",
            "12/12 [==============================] - 0s 16ms/step - loss: 0.8208 - accuracy: 0.8347 - val_loss: 0.9660 - val_accuracy: 0.6923\n",
            "Epoch 37/200\n",
            "12/12 [==============================] - 0s 15ms/step - loss: 0.6385 - accuracy: 0.9258 - val_loss: 1.0589 - val_accuracy: 0.6923\n",
            "Epoch 38/200\n",
            "12/12 [==============================] - 0s 14ms/step - loss: 0.6234 - accuracy: 0.8770 - val_loss: 1.1442 - val_accuracy: 0.6923\n",
            "Epoch 39/200\n",
            "12/12 [==============================] - 0s 14ms/step - loss: 0.5333 - accuracy: 0.9057 - val_loss: 1.0699 - val_accuracy: 0.6923\n",
            "Epoch 40/200\n",
            "12/12 [==============================] - 0s 15ms/step - loss: 0.4788 - accuracy: 0.9417 - val_loss: 0.9488 - val_accuracy: 0.7308\n",
            "Epoch 41/200\n",
            "12/12 [==============================] - 0s 17ms/step - loss: 0.5866 - accuracy: 0.9392 - val_loss: 0.9898 - val_accuracy: 0.7692\n",
            "Epoch 42/200\n",
            "12/12 [==============================] - 0s 14ms/step - loss: 0.4904 - accuracy: 0.8995 - val_loss: 1.0828 - val_accuracy: 0.7692\n",
            "Epoch 43/200\n",
            "12/12 [==============================] - 0s 15ms/step - loss: 0.4771 - accuracy: 0.9101 - val_loss: 0.9750 - val_accuracy: 0.6923\n",
            "Epoch 44/200\n",
            "12/12 [==============================] - 0s 15ms/step - loss: 0.4812 - accuracy: 0.9363 - val_loss: 0.9461 - val_accuracy: 0.7308\n",
            "Epoch 45/200\n",
            "12/12 [==============================] - 0s 15ms/step - loss: 0.4903 - accuracy: 0.9607 - val_loss: 1.0597 - val_accuracy: 0.7692\n",
            "Epoch 46/200\n",
            "12/12 [==============================] - 0s 16ms/step - loss: 0.5745 - accuracy: 0.8641 - val_loss: 1.1293 - val_accuracy: 0.7692\n",
            "Epoch 47/200\n",
            "12/12 [==============================] - 0s 14ms/step - loss: 0.4527 - accuracy: 0.9131 - val_loss: 0.9011 - val_accuracy: 0.7692\n",
            "Epoch 48/200\n",
            "12/12 [==============================] - 0s 15ms/step - loss: 0.6025 - accuracy: 0.8105 - val_loss: 0.8200 - val_accuracy: 0.7308\n",
            "Epoch 49/200\n",
            "12/12 [==============================] - 0s 16ms/step - loss: 0.3655 - accuracy: 0.9409 - val_loss: 0.8228 - val_accuracy: 0.7308\n",
            "Epoch 50/200\n",
            "12/12 [==============================] - 0s 15ms/step - loss: 0.4026 - accuracy: 0.9354 - val_loss: 1.0930 - val_accuracy: 0.6538\n",
            "Epoch 51/200\n",
            "12/12 [==============================] - 0s 16ms/step - loss: 0.4130 - accuracy: 0.8822 - val_loss: 0.9899 - val_accuracy: 0.7308\n",
            "Epoch 52/200\n",
            "12/12 [==============================] - 0s 16ms/step - loss: 0.4281 - accuracy: 0.9317 - val_loss: 0.8323 - val_accuracy: 0.7692\n",
            "Epoch 53/200\n",
            "12/12 [==============================] - 0s 14ms/step - loss: 0.3959 - accuracy: 0.9229 - val_loss: 0.8081 - val_accuracy: 0.7308\n",
            "Epoch 54/200\n",
            "12/12 [==============================] - 0s 16ms/step - loss: 0.4055 - accuracy: 0.9804 - val_loss: 0.7687 - val_accuracy: 0.7308\n",
            "Epoch 55/200\n",
            "12/12 [==============================] - 0s 15ms/step - loss: 0.5315 - accuracy: 0.8440 - val_loss: 0.7967 - val_accuracy: 0.7308\n",
            "Epoch 56/200\n",
            "12/12 [==============================] - 0s 15ms/step - loss: 0.3030 - accuracy: 0.9664 - val_loss: 0.8293 - val_accuracy: 0.6923\n",
            "Epoch 57/200\n",
            "12/12 [==============================] - 0s 16ms/step - loss: 0.3039 - accuracy: 0.9453 - val_loss: 0.8266 - val_accuracy: 0.7308\n",
            "Epoch 58/200\n",
            "12/12 [==============================] - 0s 15ms/step - loss: 0.3570 - accuracy: 0.9285 - val_loss: 0.7820 - val_accuracy: 0.7692\n",
            "Epoch 59/200\n",
            "12/12 [==============================] - 0s 15ms/step - loss: 0.3591 - accuracy: 0.9715 - val_loss: 0.8468 - val_accuracy: 0.7308\n",
            "Epoch 60/200\n",
            "12/12 [==============================] - 0s 15ms/step - loss: 0.3107 - accuracy: 0.9716 - val_loss: 0.8991 - val_accuracy: 0.6923\n",
            "Epoch 61/200\n",
            "12/12 [==============================] - 0s 15ms/step - loss: 0.3520 - accuracy: 0.9057 - val_loss: 0.8480 - val_accuracy: 0.7692\n",
            "Epoch 62/200\n",
            "12/12 [==============================] - 0s 15ms/step - loss: 0.3437 - accuracy: 0.9427 - val_loss: 0.7579 - val_accuracy: 0.7308\n",
            "Epoch 63/200\n",
            "12/12 [==============================] - 0s 16ms/step - loss: 0.3498 - accuracy: 0.9716 - val_loss: 0.7725 - val_accuracy: 0.6923\n",
            "Epoch 64/200\n",
            "12/12 [==============================] - 0s 14ms/step - loss: 0.3052 - accuracy: 0.9620 - val_loss: 0.9513 - val_accuracy: 0.6538\n",
            "Epoch 65/200\n",
            "12/12 [==============================] - 0s 16ms/step - loss: 0.3604 - accuracy: 0.9467 - val_loss: 0.9731 - val_accuracy: 0.6538\n",
            "Epoch 66/200\n",
            "12/12 [==============================] - 0s 16ms/step - loss: 0.3396 - accuracy: 0.9372 - val_loss: 0.9436 - val_accuracy: 0.6923\n",
            "Epoch 67/200\n",
            "12/12 [==============================] - 0s 15ms/step - loss: 0.2801 - accuracy: 0.9583 - val_loss: 0.8519 - val_accuracy: 0.6923\n",
            "Epoch 68/200\n",
            "12/12 [==============================] - 0s 15ms/step - loss: 0.2930 - accuracy: 0.9509 - val_loss: 0.8326 - val_accuracy: 0.6923\n",
            "Epoch 69/200\n",
            "12/12 [==============================] - 0s 17ms/step - loss: 0.3436 - accuracy: 0.8920 - val_loss: 0.9512 - val_accuracy: 0.6538\n",
            "Epoch 70/200\n",
            "12/12 [==============================] - 0s 19ms/step - loss: 0.2319 - accuracy: 0.9829 - val_loss: 0.9597 - val_accuracy: 0.6538\n",
            "Epoch 71/200\n",
            "12/12 [==============================] - 0s 16ms/step - loss: 0.2471 - accuracy: 0.9702 - val_loss: 0.9538 - val_accuracy: 0.6923\n",
            "Epoch 72/200\n",
            "12/12 [==============================] - 0s 16ms/step - loss: 0.2715 - accuracy: 0.9791 - val_loss: 1.0312 - val_accuracy: 0.6538\n",
            "Epoch 73/200\n",
            "12/12 [==============================] - 0s 15ms/step - loss: 0.3774 - accuracy: 0.9198 - val_loss: 0.8512 - val_accuracy: 0.6923\n",
            "Epoch 74/200\n",
            "12/12 [==============================] - 0s 14ms/step - loss: 0.2553 - accuracy: 0.9509 - val_loss: 0.8307 - val_accuracy: 0.6538\n",
            "Epoch 75/200\n",
            "12/12 [==============================] - 0s 15ms/step - loss: 0.2182 - accuracy: 0.9860 - val_loss: 0.7676 - val_accuracy: 0.6923\n",
            "Epoch 76/200\n",
            "12/12 [==============================] - 0s 17ms/step - loss: 0.2861 - accuracy: 0.9574 - val_loss: 0.9125 - val_accuracy: 0.6923\n",
            "Epoch 77/200\n",
            "12/12 [==============================] - 0s 15ms/step - loss: 0.3315 - accuracy: 0.8847 - val_loss: 0.7898 - val_accuracy: 0.6923\n",
            "Epoch 78/200\n",
            "12/12 [==============================] - 0s 17ms/step - loss: 0.2293 - accuracy: 0.9436 - val_loss: 0.9222 - val_accuracy: 0.6923\n",
            "Epoch 79/200\n",
            "12/12 [==============================] - 0s 16ms/step - loss: 0.3308 - accuracy: 0.9015 - val_loss: 1.0307 - val_accuracy: 0.6923\n",
            "Epoch 80/200\n",
            "12/12 [==============================] - 0s 15ms/step - loss: 0.2458 - accuracy: 0.9454 - val_loss: 0.9960 - val_accuracy: 0.6923\n",
            "Epoch 81/200\n",
            "12/12 [==============================] - 0s 16ms/step - loss: 0.2264 - accuracy: 0.9881 - val_loss: 0.9147 - val_accuracy: 0.6923\n",
            "Epoch 82/200\n",
            "12/12 [==============================] - 0s 15ms/step - loss: 0.2596 - accuracy: 1.0000 - val_loss: 0.9027 - val_accuracy: 0.6538\n",
            "Epoch 83/200\n",
            "12/12 [==============================] - 0s 15ms/step - loss: 0.2346 - accuracy: 0.9375 - val_loss: 0.9504 - val_accuracy: 0.6923\n",
            "Epoch 84/200\n",
            "12/12 [==============================] - 0s 17ms/step - loss: 0.2812 - accuracy: 0.9216 - val_loss: 0.9435 - val_accuracy: 0.6923\n",
            "Epoch 85/200\n",
            "12/12 [==============================] - 0s 15ms/step - loss: 0.2168 - accuracy: 0.9860 - val_loss: 0.9118 - val_accuracy: 0.6538\n",
            "Epoch 86/200\n",
            "12/12 [==============================] - 0s 16ms/step - loss: 0.2472 - accuracy: 0.9395 - val_loss: 0.7947 - val_accuracy: 0.6538\n",
            "Epoch 87/200\n",
            "12/12 [==============================] - 0s 15ms/step - loss: 0.2116 - accuracy: 0.9454 - val_loss: 0.8025 - val_accuracy: 0.6538\n",
            "Epoch 88/200\n",
            "12/12 [==============================] - 0s 15ms/step - loss: 0.1994 - accuracy: 1.0000 - val_loss: 0.8375 - val_accuracy: 0.6923\n",
            "Epoch 89/200\n",
            "12/12 [==============================] - 0s 16ms/step - loss: 0.1536 - accuracy: 0.9677 - val_loss: 0.7785 - val_accuracy: 0.6538\n",
            "Epoch 90/200\n",
            "12/12 [==============================] - 0s 15ms/step - loss: 0.1571 - accuracy: 1.0000 - val_loss: 0.7536 - val_accuracy: 0.6923\n",
            "Epoch 91/200\n",
            "12/12 [==============================] - 0s 16ms/step - loss: 0.1956 - accuracy: 0.9959 - val_loss: 0.7750 - val_accuracy: 0.6923\n",
            "Epoch 92/200\n",
            "12/12 [==============================] - 0s 17ms/step - loss: 0.1750 - accuracy: 0.9626 - val_loss: 0.8034 - val_accuracy: 0.6923\n",
            "Epoch 93/200\n",
            "12/12 [==============================] - 0s 15ms/step - loss: 0.1952 - accuracy: 0.9526 - val_loss: 0.8223 - val_accuracy: 0.6538\n",
            "Epoch 94/200\n",
            "12/12 [==============================] - 0s 15ms/step - loss: 0.2135 - accuracy: 0.9611 - val_loss: 0.8320 - val_accuracy: 0.6538\n",
            "Epoch 95/200\n",
            "12/12 [==============================] - 0s 16ms/step - loss: 0.1594 - accuracy: 0.9944 - val_loss: 0.8078 - val_accuracy: 0.6538\n",
            "Epoch 96/200\n",
            "12/12 [==============================] - 0s 15ms/step - loss: 0.1309 - accuracy: 0.9886 - val_loss: 0.7764 - val_accuracy: 0.6538\n",
            "Epoch 97/200\n",
            "12/12 [==============================] - 0s 16ms/step - loss: 0.1262 - accuracy: 0.9927 - val_loss: 0.7773 - val_accuracy: 0.6538\n",
            "Epoch 98/200\n",
            "12/12 [==============================] - 0s 14ms/step - loss: 0.1509 - accuracy: 0.9492 - val_loss: 0.8929 - val_accuracy: 0.6538\n",
            "Epoch 99/200\n",
            "12/12 [==============================] - 0s 15ms/step - loss: 0.1792 - accuracy: 0.9647 - val_loss: 0.8639 - val_accuracy: 0.6538\n",
            "Epoch 100/200\n",
            "12/12 [==============================] - 0s 15ms/step - loss: 0.1304 - accuracy: 1.0000 - val_loss: 0.7749 - val_accuracy: 0.6538\n",
            "Epoch 101/200\n",
            "12/12 [==============================] - 0s 18ms/step - loss: 0.1379 - accuracy: 0.9867 - val_loss: 0.8226 - val_accuracy: 0.6538\n",
            "Epoch 102/200\n",
            "12/12 [==============================] - 0s 18ms/step - loss: 0.1427 - accuracy: 0.9746 - val_loss: 0.9054 - val_accuracy: 0.6538\n",
            "Epoch 103/200\n",
            "12/12 [==============================] - 0s 15ms/step - loss: 0.2225 - accuracy: 0.9172 - val_loss: 0.8296 - val_accuracy: 0.6538\n",
            "Epoch 104/200\n",
            "12/12 [==============================] - 0s 14ms/step - loss: 0.1345 - accuracy: 0.9860 - val_loss: 0.8372 - val_accuracy: 0.6538\n",
            "Epoch 105/200\n",
            "12/12 [==============================] - 0s 16ms/step - loss: 0.1398 - accuracy: 0.9908 - val_loss: 0.9346 - val_accuracy: 0.6923\n",
            "Epoch 106/200\n",
            "12/12 [==============================] - 0s 15ms/step - loss: 0.1868 - accuracy: 0.9740 - val_loss: 1.0030 - val_accuracy: 0.6923\n",
            "Epoch 00106: early stopping\n"
          ],
          "name": "stdout"
        }
      ]
    },
    {
      "cell_type": "code",
      "metadata": {
        "id": "BAGesmMBk3hD",
        "colab": {
          "base_uri": "https://localhost:8080/",
          "height": 573
        },
        "outputId": "7e4911f6-15ba-4a6b-e22d-82313e87e201"
      },
      "source": [
        "# plot the Train and Validation loss\n",
        "plt.plot(mymodel['loss'], label='Train')\n",
        "plt.plot(mymodel['val_loss'], label='Val')\n",
        "plt.xlabel('Epochs')\n",
        "plt.ylabel('Cross-Entropy')\n",
        "plt.title('Loss')\n",
        "plt.legend()\n",
        "plt.show()\n",
        "\n",
        "# plot the Train and Validation accuracy\n",
        "plt.plot(mymodel['accuracy'], label='Train')\n",
        "plt.plot(mymodel['val_accuracy'], label='Val')\n",
        "plt.title('Accuracy')\n",
        "plt.xlabel('Epochs')\n",
        "plt.ylabel('Accuracy')\n",
        "plt.legend()\n",
        "plt.show()"
      ],
      "execution_count": 24,
      "outputs": [
        {
          "output_type": "display_data",
          "data": {
            "image/png": "[encoded data removed]",
            "text/plain": [
              "<Figure size 432x288 with 1 Axes>"
            ]
          },
          "metadata": {
            "tags": [],
            "needs_background": "light"
          }
        },
        {
          "output_type": "display_data",
          "data": {
            "image/png": "[encoded data removed]",
            "text/plain": [
              "<Figure size 432x288 with 1 Axes>"
            ]
          },
          "metadata": {
            "tags": [],
            "needs_background": "light"
          }
        }
      ]
    },
    {
      "cell_type": "code",
      "metadata": {
        "id": "1BQqwNbKkStN",
        "colab": {
          "base_uri": "https://localhost:8080/"
        },
        "outputId": "92054f70-6a89-4799-cea7-b7b506a19349"
      },
      "source": [
        "from keras.models import load_model\n",
        "\n",
        "trained_model = load_model('best_xbot_model.h5')\n",
        "\n",
        "_, accuracy = trained_model.evaluate(np.array(train_x), np.array(train_y))\n",
        "print('Train Accuracy: %.2f' % (accuracy*100))"
      ],
      "execution_count": 25,
      "outputs": [
        {
          "output_type": "stream",
          "text": [
            "3/3 [==============================] - 1s 6ms/step - loss: 0.5571 - accuracy: 0.9048\n",
            "Train Accuracy: 90.48\n"
          ],
          "name": "stdout"
        }
      ]
    },
    {
      "cell_type": "markdown",
      "metadata": {
        "id": "dnkOSLglz3de"
      },
      "source": [
        "# Responce Generator"
      ]
    },
    {
      "cell_type": "code",
      "metadata": {
        "id": "TCuyS79Tz51y"
      },
      "source": [
        "\n",
        "class ResponseGenerator(object):\n",
        "    def __init__(self, data, train_x, train_y, explanation, tokenizer, model, verbose=False):\n",
        "        self.data = data\n",
        "        self.train_x = train_x\n",
        "        self.train_y = train_y\n",
        "        self.explanation = explanation\n",
        "        self.tokenizer = tokenizer\n",
        "        self.model = model\n",
        "        self.verbose = verbose\n",
        "\n",
        "        self.classes = pickle.load(open('classes.pkl', 'rb'))\n",
        "\n",
        "    def decontractions(self, phrase):\n",
        "        \"\"\"decontracted takes text and convert contractions into natural form.\n",
        "         ref: https://stackoverflow.com/questions/19790188/expanding-english-language-contractions-in-python/47091490#47091490\"\"\"\n",
        "        # specific\n",
        "        phrase = re.sub(r\"won\\'t\", \"will not\", phrase)\n",
        "        phrase = re.sub(r\"can\\'t\", \"can not\", phrase)\n",
        "        phrase = re.sub(r\"won\\’t\", \"will not\", phrase)\n",
        "        phrase = re.sub(r\"can\\’t\", \"can not\", phrase)\n",
        "\n",
        "        # general\n",
        "        phrase = re.sub(r\"n\\'t\", \" not\", phrase)\n",
        "        phrase = re.sub(r\"\\'re\", \" are\", phrase)\n",
        "        phrase = re.sub(r\"\\'s\", \" is\", phrase)\n",
        "        phrase = re.sub(r\"\\'d\", \" would\", phrase)\n",
        "        phrase = re.sub(r\"\\'ll\", \" will\", phrase)\n",
        "        phrase = re.sub(r\"\\'t\", \" not\", phrase)\n",
        "        phrase = re.sub(r\"\\'ve\", \" have\", phrase)\n",
        "        phrase = re.sub(r\"\\'m\", \" am\", phrase)\n",
        "\n",
        "        phrase = re.sub(r\"n\\’t\", \" not\", phrase)\n",
        "        phrase = re.sub(r\"\\’re\", \" are\", phrase)\n",
        "        phrase = re.sub(r\"\\’s\", \" is\", phrase)\n",
        "        phrase = re.sub(r\"\\’d\", \" would\", phrase)\n",
        "        phrase = re.sub(r\"\\’ll\", \" will\", phrase)\n",
        "        phrase = re.sub(r\"\\’t\", \" not\", phrase)\n",
        "        phrase = re.sub(r\"\\’ve\", \" have\", phrase)\n",
        "        phrase = re.sub(r\"\\’m\", \" am\", phrase)\n",
        "\n",
        "        return phrase\n",
        "\n",
        "    def clean_text(self, text):\n",
        "        # Lower casting\n",
        "        text = text.lower()\n",
        "        # Decontracted\n",
        "        text = self.decontractions(text)\n",
        "        # Remove more than 1 space\n",
        "        text = \" \".join(text.split())\n",
        "        # Remove punctuation\n",
        "        text = text.translate(trantab)\n",
        "        text_words = nltk.word_tokenize(text)\n",
        "        words = [lemmatizer.lemmatize(w) for w in text_words if w not in whitelist]\n",
        "        return words\n",
        "\n",
        "    def correct_spellings(self, text):\n",
        "        \"\"\" For a given sentence this function returns a sentence after correcting\n",
        "          spelling of words \"\"\"\n",
        "        suggestions = sym_spell.lookup_compound(text, max_edit_distance=2)\n",
        "        return suggestions[0]._term\n",
        "\n",
        "    def detokenize(self, text):\n",
        "        return TreebankWordDetokenizer().detokenize(text)\n",
        "\n",
        "    # return bag of words array: 0 or 1 for each word in the bag that exists in the user input\n",
        "    def texts_to_sequences(self, user_input):\n",
        "        # correcting spelling of words of user input\n",
        "        user_input = self.correct_spellings(user_input)\n",
        "        # tokenize the user input\n",
        "        user_input_words = self.clean_text(user_input)\n",
        "        detokenize_words = self.detokenize(user_input_words)\n",
        "\n",
        "\n",
        "        # Transforms each text in texts to a sequence of integers.\n",
        "        tokenized_seq = self.tokenizer.texts_to_sequences([detokenize_words])\n",
        "\n",
        "        # get max length of tokenized sequential from training data\n",
        "        max_length = len(self.train_x[0])\n",
        "        # pad_sequences is used to ensure that all sequences in a list have the same length\n",
        "        padded_sentences = pad_sequences(tokenized_seq, maxlen=max_length, padding='post')\n",
        "        user_input_seq = np.array(padded_sentences)\n",
        "\n",
        "        return user_input_seq\n",
        "\n",
        "    def predict_class(self, user_input):\n",
        "        return_list = []\n",
        "        user_input_seq = self.texts_to_sequences(user_input)\n",
        "        # check if all elements of user input sequential is zero or not\n",
        "        if np.all((user_input_seq[0] == 0)):\n",
        "            return_list.append({'intent': 'noanswer', 'probability': '1'})\n",
        "        else:\n",
        "            res = self.model.predict(user_input_seq)[0]\n",
        "            # filter out predictions below a threshold\n",
        "            ERROR_THRESHOLD = 0.6\n",
        "            results = [[i, r] for i, r in enumerate(res) if r > ERROR_THRESHOLD]\n",
        "\n",
        "            # sort by strength of probability\n",
        "            results.sort(key=lambda x: x[1], reverse=True)\n",
        "\n",
        "            for r in results:\n",
        "                return_list.append({\"intent\": self.classes[r[0]], \"probability\": str(r[1])})\n",
        "        return return_list\n",
        "\n",
        "    def get_response(self, ints):\n",
        "        result = ''\n",
        "        context = ''\n",
        "        if not ints:\n",
        "            tag = 'noanswer'\n",
        "        else:\n",
        "            tag = ints[0]['intent']\n",
        "\n",
        "        list_of_intents = self.data['intents']\n",
        "        for i in list_of_intents:\n",
        "            if i['tag'] == tag:\n",
        "                result = random.choice(i['responses'])\n",
        "                context = i['context']\n",
        "                break\n",
        "        return result, context\n",
        "\n",
        "    def chatbot_response(self, user_input):\n",
        "        # predict the intent of the user query\n",
        "        intents = self.predict_class(user_input)\n",
        "        # ask for the response\n",
        "        output_response, context = self.get_response(intents)\n",
        "\n",
        "        return output_response, context[0]\n",
        "\n",
        "    def get_explanation(self, context):\n",
        "        if context == 'rule':\n",
        "            exp = self.explanation.rule\n",
        "        elif context == 'crule':\n",
        "            exp = self.explanation.cstr()\n",
        "        elif context == 'fidelity':\n",
        "            exp = self.explanation.fidelity\n",
        "        elif context == 'exemplar':\n",
        "            exp = self.explanation.exemplars\n",
        "        elif context == 'cexemplar':\n",
        "            exp = self.explanation.cexemplars\n",
        "        elif context == 'feature_importance':\n",
        "            exp = self.explanation.feature_importance\n",
        "        else:\n",
        "            exp = \"Nothing found!\"\n",
        "\n",
        "        return exp\n",
        "\n",
        "    def start(self):\n",
        "        flag = True\n",
        "        print(\"Hello, I'm X-Bot!\"\n",
        "              \"\\nIf you want to exit, type Bye!\")\n",
        "        while flag is True:\n",
        "            user_input = input()\n",
        "            if user_input == '':\n",
        "                print('X-Bot: Please type something!\\n')\n",
        "            else:\n",
        "                output_response, context = self.chatbot_response(user_input)\n",
        "\n",
        "                print(\"X-Bot: %s\" % output_response)\n",
        "                if context != \"\" and context != \"exit\":\n",
        "                    explain = self.get_explanation(context)\n",
        "                    print(explain)\n",
        "                    print('\\n')\n",
        "                elif context == \"exit\":\n",
        "                    flag = False\n",
        "                else:\n",
        "                    print('\\n')"
      ],
      "execution_count": 26,
      "outputs": []
    },
    {
      "cell_type": "markdown",
      "metadata": {
        "id": "bNBKil8Szf_l"
      },
      "source": [
        "# Start to *chat*"
      ]
    },
    {
      "cell_type": "code",
      "metadata": {
        "id": "vUIV6Ihlzp_1"
      },
      "source": [
        "xbot_response = ResponseGenerator(data, train_x, train_y, explanation, tokenizer, trained_model, verbose=True)"
      ],
      "execution_count": 27,
      "outputs": []
    },
    {
      "cell_type": "code",
      "metadata": {
        "id": "9dV8WhLgRM6F",
        "colab": {
          "base_uri": "https://localhost:8080/"
        },
        "outputId": "b4f742d5-7017-49e6-bddd-abec4e2e42aa"
      },
      "source": [
        "xbot_response.start()"
      ],
      "execution_count": null,
      "outputs": [
        {
          "output_type": "stream",
          "text": [
            "Hello, I'm X-Bot!\n",
            "If you want to exit, type Bye!\n"
          ],
          "name": "stdout"
        }
      ]
    },
    {
      "cell_type": "code",
      "metadata": {
        "id": "7vQI4_n-zqJV"
      },
      "source": [
        ""
      ],
      "execution_count": null,
      "outputs": []
    },
    {
      "cell_type": "code",
      "metadata": {
        "id": "VMFIgCI4zqL_"
      },
      "source": [
        ""
      ],
      "execution_count": null,
      "outputs": []
    },
    {
      "cell_type": "code",
      "metadata": {
        "id": "sx52anpjzqQI"
      },
      "source": [
        ""
      ],
      "execution_count": null,
      "outputs": []
    },
    {
      "cell_type": "code",
      "metadata": {
        "id": "1hJhjG1CzqS7"
      },
      "source": [
        ""
      ],
      "execution_count": null,
      "outputs": []
    }
  ]
}