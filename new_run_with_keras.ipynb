{
  "nbformat": 4,
  "nbformat_minor": 0,
  "metadata": {
    "kernelspec": {
      "display_name": "Python 3",
      "language": "python",
      "name": "python3"
    },
    "language_info": {
      "codemirror_mode": {
        "name": "ipython",
        "version": 3
      },
      "file_extension": ".py",
      "mimetype": "text/x-python",
      "name": "python",
      "nbconvert_exporter": "python",
      "pygments_lexer": "ipython3",
      "version": "3.8.3"
    },
    "colab": {
      "name": "new_run with keras.ipynb",
      "provenance": [],
      "collapsed_sections": [],
      "toc_visible": true
    }
  },
  "cells": [
    {
      "cell_type": "code",
      "metadata": {
        "colab": {
          "base_uri": "https://localhost:8080/"
        },
        "id": "m4-cn4YrZ8tr",
        "outputId": "afc82816-2623-4857-e0d1-9985462f0cbb"
      },
      "source": [
        "from google.colab import drive\n",
        "\n",
        "drive.mount('/content/drive')"
      ],
      "execution_count": 1,
      "outputs": [
        {
          "output_type": "stream",
          "text": [
            "Drive already mounted at /content/drive; to attempt to forcibly remount, call drive.mount(\"/content/drive\", force_remount=True).\n"
          ],
          "name": "stdout"
        }
      ]
    },
    {
      "cell_type": "code",
      "metadata": {
        "id": "5yeALMoYaHQN"
      },
      "source": [
        "import sys\n",
        "sys.path.append(\"/content/drive/MyDrive/Thesis/reimp_lore\")\n",
        "\n",
        "import os\n",
        "os.chdir('/content/drive/MyDrive/Thesis/reimp_lore')\n",
        "\n",
        "# Now the directory '?' is the current working directory."
      ],
      "execution_count": 2,
      "outputs": []
    },
    {
      "cell_type": "code",
      "metadata": {
        "colab": {
          "base_uri": "https://localhost:8080/"
        },
        "id": "CUg1LpYOaT2x",
        "outputId": "6c6e5719-a80e-422a-8e97-9814f0d4cd77"
      },
      "source": [
        "!pip install bitarray"
      ],
      "execution_count": 3,
      "outputs": [
        {
          "output_type": "stream",
          "text": [
            "Requirement already satisfied: bitarray in /usr/local/lib/python3.7/dist-packages (1.9.2)\n"
          ],
          "name": "stdout"
        }
      ]
    },
    {
      "cell_type": "code",
      "metadata": {
        "colab": {
          "base_uri": "https://localhost:8080/"
        },
        "id": "tIPKdeZxaZm-",
        "outputId": "c8335a08-fab7-4400-da45-72335631ba94"
      },
      "source": [
        "!pip install scikit-multilearn"
      ],
      "execution_count": 4,
      "outputs": [
        {
          "output_type": "stream",
          "text": [
            "Requirement already satisfied: scikit-multilearn in /usr/local/lib/python3.7/dist-packages (0.2.0)\n"
          ],
          "name": "stdout"
        }
      ]
    },
    {
      "cell_type": "code",
      "metadata": {
        "colab": {
          "base_uri": "https://localhost:8080/"
        },
        "id": "tkGZyILVau3p",
        "outputId": "f9c8092a-f9b4-4ca1-cd27-bda34b46d119"
      },
      "source": [
        "!pip install arff"
      ],
      "execution_count": 5,
      "outputs": [
        {
          "output_type": "stream",
          "text": [
            "Requirement already satisfied: arff in /usr/local/lib/python3.7/dist-packages (0.9)\n"
          ],
          "name": "stdout"
        }
      ]
    },
    {
      "cell_type": "code",
      "metadata": {
        "id": "6t2Dv0xEZ1RS"
      },
      "source": [
        "import lore\n",
        "from datamanager import *\n",
        "\n",
        "from sklearn.ensemble import RandomForestClassifier\n",
        "from sklearn.model_selection import train_test_split\n",
        "\n",
        "from sklearn.metrics import f1_score, accuracy_score\n",
        "\n",
        "from util import record2str"
      ],
      "execution_count": 6,
      "outputs": []
    },
    {
      "cell_type": "markdown",
      "metadata": {
        "pycharm": {
          "name": "#%% md\n"
        },
        "id": "ZSJlssYrZ1Rf"
      },
      "source": [
        "ipynb to py in pycharm:\n",
        "- jupyter nbconvert --to script new_run.ipynb"
      ]
    },
    {
      "cell_type": "markdown",
      "metadata": {
        "id": "n5PYMRgEZ1Rg"
      },
      "source": [
        "## Dataset"
      ]
    },
    {
      "cell_type": "code",
      "metadata": {
        "id": "h0BjvCyJZ1Rh"
      },
      "source": [
        "## Iris Dataset\n",
        "# dataset_name = 'dataset/iris.csv'\n",
        "# dataset = prepare_iris_dataset(dataset_name)\n",
        "\n",
        "## wine\n",
        "# dataset_name = 'dataset/wine.csv'\n",
        "# dataset = prepare_wine_dataset(dataset_name)\n",
        "\n",
        "##############################################\n",
        "#           Categorical dataset              #\n",
        "##############################################\n",
        "## german: (0 = Good, 1 = Bad)\n",
        "# dataset_name = 'dataset/german_credit.csv'\n",
        "# dataset = prepare_german_dataset(dataset_name)\n",
        "\n",
        "## adult: ['<=50K', '>50K']\n",
        "# dataset_name = 'dataset/adult.csv'\n",
        "# dataset = prepare_adult_dataset(dataset_name)\n",
        "\n",
        "## compas-scores-two-years: ['High', 'Low', 'Medium']\n",
        "dataset_name = 'dataset/compas-scores-two-years.csv'\n",
        "dataset = prepare_compass_dataset(dataset_name)\n",
        "\n",
        "dataframe = dataset[0]\n",
        "class_name = dataset[1]\n",
        "dataset_fin = prepare_dataset(dataframe, class_name)"
      ],
      "execution_count": 7,
      "outputs": []
    },
    {
      "cell_type": "code",
      "metadata": {
        "id": "O9VrVBOyZ1Rh"
      },
      "source": [
        "df = dataset_fin[0] #dataframe with unique numeric class values(0, 1, ...)\n",
        "feature_names = dataset_fin[1]\n",
        "class_values = dataset_fin[2]\n",
        "numeric_columns = dataset_fin[3]\n",
        "rdf = dataset_fin[4] #real dataframe\n",
        "real_feature_names = dataset_fin[5]\n",
        "features_map = dataset_fin[6] #map each class name to its unique numeric value\n",
        "df_categorical_idx = dataset_fin[7]"
      ],
      "execution_count": 8,
      "outputs": []
    },
    {
      "cell_type": "code",
      "metadata": {
        "colab": {
          "base_uri": "https://localhost:8080/",
          "height": 292
        },
        "id": "Slpz4jXMZ1Ri",
        "outputId": "b6b6c566-30f6-44f5-9d4f-2fabd2318328"
      },
      "source": [
        "rdf.head()"
      ],
      "execution_count": 9,
      "outputs": [
        {
          "output_type": "execute_result",
          "data": {
            "text/html": [
              "<div>\n",
              "<style scoped>\n",
              "    .dataframe tbody tr th:only-of-type {\n",
              "        vertical-align: middle;\n",
              "    }\n",
              "\n",
              "    .dataframe tbody tr th {\n",
              "        vertical-align: top;\n",
              "    }\n",
              "\n",
              "    .dataframe thead th {\n",
              "        text-align: right;\n",
              "    }\n",
              "</style>\n",
              "<table border=\"1\" class=\"dataframe\">\n",
              "  <thead>\n",
              "    <tr style=\"text-align: right;\">\n",
              "      <th></th>\n",
              "      <th>age</th>\n",
              "      <th>priors_count</th>\n",
              "      <th>days_b_screening_arrest</th>\n",
              "      <th>is_recid</th>\n",
              "      <th>is_violent_recid</th>\n",
              "      <th>two_year_recid</th>\n",
              "      <th>length_of_stay</th>\n",
              "      <th>age_cat</th>\n",
              "      <th>sex</th>\n",
              "      <th>race</th>\n",
              "      <th>c_charge_degree</th>\n",
              "      <th>class</th>\n",
              "    </tr>\n",
              "  </thead>\n",
              "  <tbody>\n",
              "    <tr>\n",
              "      <th>0</th>\n",
              "      <td>69</td>\n",
              "      <td>0</td>\n",
              "      <td>1</td>\n",
              "      <td>0</td>\n",
              "      <td>0</td>\n",
              "      <td>0</td>\n",
              "      <td>0</td>\n",
              "      <td>Greater than 45</td>\n",
              "      <td>Male</td>\n",
              "      <td>Other</td>\n",
              "      <td>F</td>\n",
              "      <td>Low</td>\n",
              "    </tr>\n",
              "    <tr>\n",
              "      <th>1</th>\n",
              "      <td>34</td>\n",
              "      <td>0</td>\n",
              "      <td>1</td>\n",
              "      <td>1</td>\n",
              "      <td>1</td>\n",
              "      <td>1</td>\n",
              "      <td>10</td>\n",
              "      <td>25 - 45</td>\n",
              "      <td>Male</td>\n",
              "      <td>African-American</td>\n",
              "      <td>F</td>\n",
              "      <td>Low</td>\n",
              "    </tr>\n",
              "    <tr>\n",
              "      <th>2</th>\n",
              "      <td>24</td>\n",
              "      <td>4</td>\n",
              "      <td>1</td>\n",
              "      <td>1</td>\n",
              "      <td>0</td>\n",
              "      <td>1</td>\n",
              "      <td>1</td>\n",
              "      <td>Less than 25</td>\n",
              "      <td>Male</td>\n",
              "      <td>African-American</td>\n",
              "      <td>F</td>\n",
              "      <td>Low</td>\n",
              "    </tr>\n",
              "    <tr>\n",
              "      <th>3</th>\n",
              "      <td>23</td>\n",
              "      <td>1</td>\n",
              "      <td>1</td>\n",
              "      <td>0</td>\n",
              "      <td>0</td>\n",
              "      <td>0</td>\n",
              "      <td>0</td>\n",
              "      <td>Less than 25</td>\n",
              "      <td>Male</td>\n",
              "      <td>African-American</td>\n",
              "      <td>F</td>\n",
              "      <td>High</td>\n",
              "    </tr>\n",
              "    <tr>\n",
              "      <th>4</th>\n",
              "      <td>43</td>\n",
              "      <td>2</td>\n",
              "      <td>1</td>\n",
              "      <td>0</td>\n",
              "      <td>0</td>\n",
              "      <td>0</td>\n",
              "      <td>0</td>\n",
              "      <td>25 - 45</td>\n",
              "      <td>Male</td>\n",
              "      <td>Other</td>\n",
              "      <td>F</td>\n",
              "      <td>Low</td>\n",
              "    </tr>\n",
              "  </tbody>\n",
              "</table>\n",
              "</div>"
            ],
            "text/plain": [
              "   age  priors_count  ...  c_charge_degree  class\n",
              "0   69             0  ...                F    Low\n",
              "1   34             0  ...                F    Low\n",
              "2   24             4  ...                F    Low\n",
              "3   23             1  ...                F   High\n",
              "4   43             2  ...                F    Low\n",
              "\n",
              "[5 rows x 12 columns]"
            ]
          },
          "metadata": {
            "tags": []
          },
          "execution_count": 9
        }
      ]
    },
    {
      "cell_type": "code",
      "metadata": {
        "colab": {
          "base_uri": "https://localhost:8080/",
          "height": 241
        },
        "id": "k8_-EbcDZ1Rj",
        "outputId": "cb55a2cd-0786-4ff6-99de-6ed58e31143d"
      },
      "source": [
        "df.head()"
      ],
      "execution_count": 10,
      "outputs": [
        {
          "output_type": "execute_result",
          "data": {
            "text/html": [
              "<div>\n",
              "<style scoped>\n",
              "    .dataframe tbody tr th:only-of-type {\n",
              "        vertical-align: middle;\n",
              "    }\n",
              "\n",
              "    .dataframe tbody tr th {\n",
              "        vertical-align: top;\n",
              "    }\n",
              "\n",
              "    .dataframe thead th {\n",
              "        text-align: right;\n",
              "    }\n",
              "</style>\n",
              "<table border=\"1\" class=\"dataframe\">\n",
              "  <thead>\n",
              "    <tr style=\"text-align: right;\">\n",
              "      <th></th>\n",
              "      <th>age</th>\n",
              "      <th>priors_count</th>\n",
              "      <th>days_b_screening_arrest</th>\n",
              "      <th>is_recid</th>\n",
              "      <th>is_violent_recid</th>\n",
              "      <th>two_year_recid</th>\n",
              "      <th>length_of_stay</th>\n",
              "      <th>age_cat=25 - 45</th>\n",
              "      <th>age_cat=Greater than 45</th>\n",
              "      <th>age_cat=Less than 25</th>\n",
              "      <th>sex=Female</th>\n",
              "      <th>sex=Male</th>\n",
              "      <th>race=African-American</th>\n",
              "      <th>race=Asian</th>\n",
              "      <th>race=Caucasian</th>\n",
              "      <th>race=Hispanic</th>\n",
              "      <th>race=Native American</th>\n",
              "      <th>race=Other</th>\n",
              "      <th>c_charge_degree=F</th>\n",
              "      <th>c_charge_degree=M</th>\n",
              "      <th>class</th>\n",
              "    </tr>\n",
              "  </thead>\n",
              "  <tbody>\n",
              "    <tr>\n",
              "      <th>0</th>\n",
              "      <td>69</td>\n",
              "      <td>0</td>\n",
              "      <td>1</td>\n",
              "      <td>0</td>\n",
              "      <td>0</td>\n",
              "      <td>0</td>\n",
              "      <td>0</td>\n",
              "      <td>0</td>\n",
              "      <td>1</td>\n",
              "      <td>0</td>\n",
              "      <td>0</td>\n",
              "      <td>1</td>\n",
              "      <td>0</td>\n",
              "      <td>0</td>\n",
              "      <td>0</td>\n",
              "      <td>0</td>\n",
              "      <td>0</td>\n",
              "      <td>1</td>\n",
              "      <td>1</td>\n",
              "      <td>0</td>\n",
              "      <td>1</td>\n",
              "    </tr>\n",
              "    <tr>\n",
              "      <th>1</th>\n",
              "      <td>34</td>\n",
              "      <td>0</td>\n",
              "      <td>1</td>\n",
              "      <td>1</td>\n",
              "      <td>1</td>\n",
              "      <td>1</td>\n",
              "      <td>10</td>\n",
              "      <td>1</td>\n",
              "      <td>0</td>\n",
              "      <td>0</td>\n",
              "      <td>0</td>\n",
              "      <td>1</td>\n",
              "      <td>1</td>\n",
              "      <td>0</td>\n",
              "      <td>0</td>\n",
              "      <td>0</td>\n",
              "      <td>0</td>\n",
              "      <td>0</td>\n",
              "      <td>1</td>\n",
              "      <td>0</td>\n",
              "      <td>1</td>\n",
              "    </tr>\n",
              "    <tr>\n",
              "      <th>2</th>\n",
              "      <td>24</td>\n",
              "      <td>4</td>\n",
              "      <td>1</td>\n",
              "      <td>1</td>\n",
              "      <td>0</td>\n",
              "      <td>1</td>\n",
              "      <td>1</td>\n",
              "      <td>0</td>\n",
              "      <td>0</td>\n",
              "      <td>1</td>\n",
              "      <td>0</td>\n",
              "      <td>1</td>\n",
              "      <td>1</td>\n",
              "      <td>0</td>\n",
              "      <td>0</td>\n",
              "      <td>0</td>\n",
              "      <td>0</td>\n",
              "      <td>0</td>\n",
              "      <td>1</td>\n",
              "      <td>0</td>\n",
              "      <td>1</td>\n",
              "    </tr>\n",
              "    <tr>\n",
              "      <th>3</th>\n",
              "      <td>23</td>\n",
              "      <td>1</td>\n",
              "      <td>1</td>\n",
              "      <td>0</td>\n",
              "      <td>0</td>\n",
              "      <td>0</td>\n",
              "      <td>0</td>\n",
              "      <td>0</td>\n",
              "      <td>0</td>\n",
              "      <td>1</td>\n",
              "      <td>0</td>\n",
              "      <td>1</td>\n",
              "      <td>1</td>\n",
              "      <td>0</td>\n",
              "      <td>0</td>\n",
              "      <td>0</td>\n",
              "      <td>0</td>\n",
              "      <td>0</td>\n",
              "      <td>1</td>\n",
              "      <td>0</td>\n",
              "      <td>0</td>\n",
              "    </tr>\n",
              "    <tr>\n",
              "      <th>4</th>\n",
              "      <td>43</td>\n",
              "      <td>2</td>\n",
              "      <td>1</td>\n",
              "      <td>0</td>\n",
              "      <td>0</td>\n",
              "      <td>0</td>\n",
              "      <td>0</td>\n",
              "      <td>1</td>\n",
              "      <td>0</td>\n",
              "      <td>0</td>\n",
              "      <td>0</td>\n",
              "      <td>1</td>\n",
              "      <td>0</td>\n",
              "      <td>0</td>\n",
              "      <td>0</td>\n",
              "      <td>0</td>\n",
              "      <td>0</td>\n",
              "      <td>1</td>\n",
              "      <td>1</td>\n",
              "      <td>0</td>\n",
              "      <td>1</td>\n",
              "    </tr>\n",
              "  </tbody>\n",
              "</table>\n",
              "</div>"
            ],
            "text/plain": [
              "   age  priors_count  ...  c_charge_degree=M  class\n",
              "0   69             0  ...                  0      1\n",
              "1   34             0  ...                  0      1\n",
              "2   24             4  ...                  0      1\n",
              "3   23             1  ...                  0      0\n",
              "4   43             2  ...                  0      1\n",
              "\n",
              "[5 rows x 21 columns]"
            ]
          },
          "metadata": {
            "tags": []
          },
          "execution_count": 10
        }
      ]
    },
    {
      "cell_type": "markdown",
      "metadata": {
        "id": "FsiP3Vx4Z1Rj"
      },
      "source": [
        "## Black box classifier"
      ]
    },
    {
      "cell_type": "code",
      "metadata": {
        "colab": {
          "base_uri": "https://localhost:8080/"
        },
        "id": "UzVWn_pKZ1Rk",
        "outputId": "4ca29db6-4526-4812-dee4-23970456dd57"
      },
      "source": [
        "X = df.loc[:, df.columns != class_name].values\n",
        "y = df[class_name].values\n",
        "\n",
        "X_train, X_test, y_train, y_test = train_test_split(X, y, test_size=0.3, stratify=y)\n",
        "blackbox = RandomForestClassifier()\n",
        "blackbox.fit(X_train, y_train)"
      ],
      "execution_count": 11,
      "outputs": [
        {
          "output_type": "execute_result",
          "data": {
            "text/plain": [
              "RandomForestClassifier(bootstrap=True, ccp_alpha=0.0, class_weight=None,\n",
              "                       criterion='gini', max_depth=None, max_features='auto',\n",
              "                       max_leaf_nodes=None, max_samples=None,\n",
              "                       min_impurity_decrease=0.0, min_impurity_split=None,\n",
              "                       min_samples_leaf=1, min_samples_split=2,\n",
              "                       min_weight_fraction_leaf=0.0, n_estimators=100,\n",
              "                       n_jobs=None, oob_score=False, random_state=None,\n",
              "                       verbose=0, warm_start=False)"
            ]
          },
          "metadata": {
            "tags": []
          },
          "execution_count": 11
        }
      ]
    },
    {
      "cell_type": "code",
      "metadata": {
        "scrolled": true,
        "colab": {
          "base_uri": "https://localhost:8080/"
        },
        "id": "Jp-MAE6VZ1Rl",
        "outputId": "56de5143-01ce-4d5e-a775-38011a1227f0"
      },
      "source": [
        "y_pred = blackbox.predict(X_test)\n",
        "print('Accuracy: %.3f' % accuracy_score(y_test, y_pred))"
      ],
      "execution_count": 12,
      "outputs": [
        {
          "output_type": "stream",
          "text": [
            "Accuracy: 0.597\n"
          ],
          "name": "stdout"
        }
      ]
    },
    {
      "cell_type": "markdown",
      "metadata": {
        "id": "Yl59i8t1Z1Rl"
      },
      "source": [
        "## select an instance _x_"
      ]
    },
    {
      "cell_type": "code",
      "metadata": {
        "colab": {
          "base_uri": "https://localhost:8080/"
        },
        "id": "WpPPvwxkZ1Rl",
        "outputId": "fd99cce6-e619-4286-d7c5-49240848e954"
      },
      "source": [
        "i = 10\n",
        "x = X_test[i]\n",
        "y_val = blackbox.predict(x.reshape(1,-1))[0]\n",
        "\n",
        "print(class_values)\n",
        "class_prob = blackbox.predict_proba(x.reshape(1,-1))[0]\n",
        "print(class_prob)\n",
        "\n",
        "y_val_name = class_values[y_val]\n",
        "print('blackbox(x) = { %s }' % y_val_name)\n"
      ],
      "execution_count": 13,
      "outputs": [
        {
          "output_type": "stream",
          "text": [
            "['High', 'Low', 'Medium']\n",
            "[0.38 0.12 0.5 ]\n",
            "blackbox(x) = { Medium }\n"
          ],
          "name": "stdout"
        }
      ]
    },
    {
      "cell_type": "code",
      "metadata": {
        "colab": {
          "base_uri": "https://localhost:8080/"
        },
        "id": "TlkyZsmGZ1Rm",
        "outputId": "2ff813fe-3df4-4bf8-b140-2bbce4bddd66"
      },
      "source": [
        "print('x = %s' % record2str(x, feature_names, numeric_columns))"
      ],
      "execution_count": 14,
      "outputs": [
        {
          "output_type": "stream",
          "text": [
            "x = { age = 24, priors_count = 1, days_b_screening_arrest = 32, is_recid = 1, is_violent_recid = 1, two_year_recid = 1, length_of_stay = 29, age_cat = Less than 25, sex = Female, race = Caucasian, c_charge_degree = M }\n"
          ],
          "name": "stdout"
        }
      ]
    },
    {
      "cell_type": "markdown",
      "metadata": {
        "id": "58t8clxEZ1Rm"
      },
      "source": [
        "# LORE explainer (explaining an instance x)"
      ]
    },
    {
      "cell_type": "code",
      "metadata": {
        "scrolled": true,
        "id": "ilMQXkNgZ1Rn"
      },
      "source": [
        "lore_obj = lore.LORE(X_test, blackbox, feature_names, class_name, class_values,\n",
        "                 numeric_columns, features_map, df_categorical_idx, neigh_type='ngmusx', verbose=False)"
      ],
      "execution_count": 15,
      "outputs": []
    },
    {
      "cell_type": "code",
      "metadata": {
        "id": "5SDV-4wtZ1Ro"
      },
      "source": [
        "# just to check\n",
        "# Z = lore_obj.neighgen_fn(x, categorical_columns=df_categorical_idx)\n",
        "# print('Z is:',Z)\n",
        "# Z.shape"
      ],
      "execution_count": 16,
      "outputs": []
    },
    {
      "cell_type": "code",
      "metadata": {
        "scrolled": false,
        "colab": {
          "base_uri": "https://localhost:8080/"
        },
        "id": "frNUlsDvZ1Ro",
        "outputId": "bbc1231c-b006-437b-a143-c2a4dabc7173"
      },
      "source": [
        "explanation = lore_obj.explain_instance(x, samples=1000, nbr_runs=10, exemplar_num=3)\n",
        "print(explanation)"
      ],
      "execution_count": 17,
      "outputs": [
        {
          "output_type": "stream",
          "text": [
            "r = { two_year_recid > 0.50 } --> { class: Medium }\n",
            "\n",
            "feature importance = {'two_year_recid': 0.7329376854648753}\n",
            "\n",
            "c =  }\n",
            "\n",
            "exemplars = { age = 21, priors_count = 1, days_b_screening_arrest = 31, is_recid = 1, is_violent_recid = 0, two_year_recid = 1, length_of_stay = 30, age_cat = Less than 25, sex = Male, race = African-American, c_charge_degree = F }\n",
            "{ age = 19, priors_count = 5, days_b_screening_arrest = 31, is_recid = 1, is_violent_recid = 0, two_year_recid = 1, length_of_stay = 28, age_cat = Less than 25, sex = Male, race = Caucasian, c_charge_degree = M }\n",
            "{ age = 29, priors_count = 2, days_b_screening_arrest = 29, is_recid = 1, is_violent_recid = 0, two_year_recid = 1, length_of_stay = 25, age_cat = 25 - 45, sex = Male, race = Caucasian, c_charge_degree = M }\n",
            "\n",
            "counter-exemplars = { age = 25, priors_count = 2, days_b_screening_arrest = 29, is_recid = 0, is_violent_recid = 0, two_year_recid = 0, length_of_stay = 29, age_cat = 25 - 45, sex = Male, race = Caucasian, c_charge_degree = F }\n",
            "{ age = 26, priors_count = 2, days_b_screening_arrest = 29, is_recid = 0, is_violent_recid = 0, two_year_recid = 0, length_of_stay = 28, age_cat = 25 - 45, sex = Male, race = African-American, c_charge_degree = M }\n",
            "{ age = 23, priors_count = 4, days_b_screening_arrest = 27, is_recid = 0, is_violent_recid = 0, two_year_recid = 0, length_of_stay = 27, age_cat = Less than 25, sex = Male, race = Hispanic, c_charge_degree = F }\n"
          ],
          "name": "stdout"
        }
      ]
    },
    {
      "cell_type": "markdown",
      "metadata": {
        "id": "y8EFF8tpZ1Rp"
      },
      "source": [
        "# X-Bot"
      ]
    },
    {
      "cell_type": "code",
      "metadata": {
        "colab": {
          "base_uri": "https://localhost:8080/"
        },
        "id": "Ky9ms1srrDMH",
        "outputId": "030a380c-6d47-4d27-b298-ebf9b594715c"
      },
      "source": [
        "!ls"
      ],
      "execution_count": 18,
      "outputs": [
        {
          "output_type": "stream",
          "text": [
            " best_xbot_model.h5   __init__.py\t\t  response_generator_keras.py\n",
            " chatdata\t      lore.py\t\t\t  rule.py\n",
            " classes.pkl\t      neighborgen_lore.py\t  util.py\n",
            " datamanager.py      'new_run with keras.ipynb'   words.pkl\n",
            " dataset\t      new_run_with_keras.py\t  xbot_model.py\n",
            " decision_tree.py     __pycache__\n",
            " explanation.py       README.md\n"
          ],
          "name": "stdout"
        }
      ]
    },
    {
      "cell_type": "markdown",
      "metadata": {
        "id": "jm-KAb5ns13O"
      },
      "source": [
        "### Model"
      ]
    },
    {
      "cell_type": "code",
      "metadata": {
        "id": "_CpWtyfgqgco",
        "colab": {
          "base_uri": "https://localhost:8080/"
        },
        "outputId": "bdcd8bff-ed69-4ffd-b3b6-6645c7740470"
      },
      "source": [
        "from response_generator_keras import ResponseGeneratorKeras\n",
        "from xbot_model import XBotModel\n",
        "from keras.models import load_model\n",
        "\n",
        "import json\n",
        "import matplotlib.pyplot as plt"
      ],
      "execution_count": 19,
      "outputs": [
        {
          "output_type": "stream",
          "text": [
            "[nltk_data] Downloading package punkt to /root/nltk_data...\n",
            "[nltk_data]   Package punkt is already up-to-date!\n",
            "[nltk_data] Downloading package wordnet to /root/nltk_data...\n",
            "[nltk_data]   Package wordnet is already up-to-date!\n"
          ],
          "name": "stdout"
        }
      ]
    },
    {
      "cell_type": "code",
      "metadata": {
        "id": "wM23qzmoZ1Rp"
      },
      "source": [
        "###################### Chat Data ######################\n",
        "data_file = open('chatdata/intents.json').read()\n",
        "data = json.loads(data_file)"
      ],
      "execution_count": 20,
      "outputs": []
    },
    {
      "cell_type": "code",
      "metadata": {
        "id": "Bek-RPwbr0kR"
      },
      "source": [
        "XBot_obj = XBotModel(verbose=True)"
      ],
      "execution_count": 21,
      "outputs": []
    },
    {
      "cell_type": "code",
      "metadata": {
        "colab": {
          "base_uri": "https://localhost:8080/"
        },
        "id": "yWPZa_ynceCi",
        "outputId": "39a06473-592a-4d31-8ca0-5c75a65637a1"
      },
      "source": [
        "# train dataset\n",
        "train_dataset = XBot_obj.prepare_train_dataset(data)\n",
        "train_x = list(train_dataset[:, 0])\n",
        "train_y = list(train_dataset[:, 1])"
      ],
      "execution_count": 22,
      "outputs": [
        {
          "output_type": "stream",
          "text": [
            "Training data created!\n"
          ],
          "name": "stdout"
        }
      ]
    },
    {
      "cell_type": "code",
      "metadata": {
        "id": "JTm54ZEXr4g5",
        "colab": {
          "base_uri": "https://localhost:8080/"
        },
        "outputId": "e12a2d31-e611-4ef8-f558-3962b7903aba"
      },
      "source": [
        "# create model\n",
        "model = XBot_obj.create_model(train_x, train_y, dropout=0.5)"
      ],
      "execution_count": 23,
      "outputs": [
        {
          "output_type": "stream",
          "text": [
            "Model: \"sequential\"\n",
            "_________________________________________________________________\n",
            "Layer (type)                 Output Shape              Param #   \n",
            "=================================================================\n",
            "dense (Dense)                (None, 128)               12416     \n",
            "_________________________________________________________________\n",
            "dropout (Dropout)            (None, 128)               0         \n",
            "_________________________________________________________________\n",
            "dense_1 (Dense)              (None, 64)                8256      \n",
            "_________________________________________________________________\n",
            "dropout_1 (Dropout)          (None, 64)                0         \n",
            "_________________________________________________________________\n",
            "dense_2 (Dense)              (None, 10)                650       \n",
            "=================================================================\n",
            "Total params: 21,322\n",
            "Trainable params: 21,322\n",
            "Non-trainable params: 0\n",
            "_________________________________________________________________\n",
            "None\n"
          ],
          "name": "stdout"
        }
      ]
    },
    {
      "cell_type": "code",
      "metadata": {
        "id": "6hQvPsBnrz7W",
        "colab": {
          "base_uri": "https://localhost:8080/"
        },
        "outputId": "ec04c249-f652-495e-914d-bd43aa53baa6"
      },
      "source": [
        "# compile and fit the model\n",
        "mymodel = XBot_obj.compile_fit_model(model, train_x, train_y, epochs=100, \n",
        "                                     batch_size=5,\n",
        "                                     lr=5e-3,\n",
        "                                     earlystopping_patience=50,\n",
        "                                     loss='categorical_crossentropy')"
      ],
      "execution_count": 24,
      "outputs": [
        {
          "output_type": "stream",
          "text": [
            "Epoch 1/100\n",
            "7/7 [==============================] - 1s 90ms/step - loss: 2.3745 - accuracy: 0.1155 - val_loss: 2.3312 - val_accuracy: 0.1429\n",
            "Epoch 2/100\n",
            "7/7 [==============================] - 0s 10ms/step - loss: 2.0971 - accuracy: 0.3518 - val_loss: 2.3904 - val_accuracy: 0.0000e+00\n",
            "Epoch 3/100\n",
            "7/7 [==============================] - 0s 11ms/step - loss: 2.0572 - accuracy: 0.3799 - val_loss: 2.3982 - val_accuracy: 0.0000e+00\n",
            "Epoch 4/100\n",
            "7/7 [==============================] - 0s 10ms/step - loss: 1.7884 - accuracy: 0.4834 - val_loss: 2.4248 - val_accuracy: 0.0000e+00\n",
            "Epoch 5/100\n",
            "7/7 [==============================] - 0s 9ms/step - loss: 1.6873 - accuracy: 0.4302 - val_loss: 2.4174 - val_accuracy: 0.0714\n",
            "Epoch 6/100\n",
            "7/7 [==============================] - 0s 11ms/step - loss: 1.3189 - accuracy: 0.6201 - val_loss: 2.3660 - val_accuracy: 0.0714\n",
            "Epoch 7/100\n",
            "7/7 [==============================] - 0s 10ms/step - loss: 1.4696 - accuracy: 0.7154 - val_loss: 2.2420 - val_accuracy: 0.2143\n",
            "Epoch 8/100\n",
            "7/7 [==============================] - 0s 10ms/step - loss: 1.2985 - accuracy: 0.5979 - val_loss: 2.1979 - val_accuracy: 0.2143\n",
            "Epoch 9/100\n",
            "7/7 [==============================] - 0s 10ms/step - loss: 1.0713 - accuracy: 0.6642 - val_loss: 2.1745 - val_accuracy: 0.1429\n",
            "Epoch 10/100\n",
            "7/7 [==============================] - 0s 10ms/step - loss: 0.8359 - accuracy: 0.7627 - val_loss: 2.1108 - val_accuracy: 0.2143\n",
            "Epoch 11/100\n",
            "7/7 [==============================] - 0s 9ms/step - loss: 0.6925 - accuracy: 0.8286 - val_loss: 2.0444 - val_accuracy: 0.2857\n",
            "Epoch 12/100\n",
            "7/7 [==============================] - 0s 9ms/step - loss: 0.5451 - accuracy: 0.9445 - val_loss: 1.9996 - val_accuracy: 0.3571\n",
            "Epoch 13/100\n",
            "7/7 [==============================] - 0s 10ms/step - loss: 0.6333 - accuracy: 0.9207 - val_loss: 1.9491 - val_accuracy: 0.4286\n",
            "Epoch 14/100\n",
            "7/7 [==============================] - 0s 10ms/step - loss: 0.7085 - accuracy: 0.7403 - val_loss: 1.9121 - val_accuracy: 0.4286\n",
            "Epoch 15/100\n",
            "7/7 [==============================] - 0s 11ms/step - loss: 0.4365 - accuracy: 0.9157 - val_loss: 1.9579 - val_accuracy: 0.3571\n",
            "Epoch 16/100\n",
            "7/7 [==============================] - 0s 10ms/step - loss: 0.2246 - accuracy: 0.9710 - val_loss: 1.9662 - val_accuracy: 0.3571\n",
            "Epoch 17/100\n",
            "7/7 [==============================] - 0s 10ms/step - loss: 0.2545 - accuracy: 0.9880 - val_loss: 1.9747 - val_accuracy: 0.3571\n",
            "Epoch 18/100\n",
            "7/7 [==============================] - 0s 9ms/step - loss: 0.3002 - accuracy: 0.9440 - val_loss: 2.0632 - val_accuracy: 0.3571\n",
            "Epoch 19/100\n",
            "7/7 [==============================] - 0s 9ms/step - loss: 0.3587 - accuracy: 0.9830 - val_loss: 2.2314 - val_accuracy: 0.3571\n",
            "Epoch 20/100\n",
            "7/7 [==============================] - 0s 10ms/step - loss: 0.2285 - accuracy: 0.9559 - val_loss: 2.3226 - val_accuracy: 0.3571\n",
            "Epoch 21/100\n",
            "7/7 [==============================] - 0s 10ms/step - loss: 0.2244 - accuracy: 0.9270 - val_loss: 2.2034 - val_accuracy: 0.4286\n",
            "Epoch 22/100\n",
            "7/7 [==============================] - 0s 10ms/step - loss: 0.1648 - accuracy: 0.9922 - val_loss: 2.1971 - val_accuracy: 0.4286\n",
            "Epoch 23/100\n",
            "7/7 [==============================] - 0s 10ms/step - loss: 0.1373 - accuracy: 0.9760 - val_loss: 2.3624 - val_accuracy: 0.3571\n",
            "Epoch 24/100\n",
            "7/7 [==============================] - 0s 10ms/step - loss: 0.1940 - accuracy: 0.9309 - val_loss: 2.5297 - val_accuracy: 0.3571\n",
            "Epoch 25/100\n",
            "7/7 [==============================] - 0s 11ms/step - loss: 0.1302 - accuracy: 0.9190 - val_loss: 2.5114 - val_accuracy: 0.3571\n",
            "Epoch 26/100\n",
            "7/7 [==============================] - 0s 9ms/step - loss: 0.1106 - accuracy: 1.0000 - val_loss: 2.2916 - val_accuracy: 0.5000\n",
            "Epoch 27/100\n",
            "7/7 [==============================] - 0s 9ms/step - loss: 0.1598 - accuracy: 0.9390 - val_loss: 2.3006 - val_accuracy: 0.5714\n",
            "Epoch 28/100\n",
            "7/7 [==============================] - 0s 10ms/step - loss: 0.0563 - accuracy: 1.0000 - val_loss: 2.3935 - val_accuracy: 0.5714\n",
            "Epoch 29/100\n",
            "7/7 [==============================] - 0s 11ms/step - loss: 0.1762 - accuracy: 0.9190 - val_loss: 2.3474 - val_accuracy: 0.5714\n",
            "Epoch 30/100\n",
            "7/7 [==============================] - 0s 10ms/step - loss: 0.1639 - accuracy: 0.9880 - val_loss: 2.1573 - val_accuracy: 0.6429\n",
            "Epoch 31/100\n",
            "7/7 [==============================] - 0s 9ms/step - loss: 0.1836 - accuracy: 0.9515 - val_loss: 2.0260 - val_accuracy: 0.6429\n",
            "Epoch 32/100\n",
            "7/7 [==============================] - 0s 9ms/step - loss: 0.1049 - accuracy: 0.9710 - val_loss: 1.9791 - val_accuracy: 0.4286\n",
            "Epoch 33/100\n",
            "7/7 [==============================] - 0s 10ms/step - loss: 0.0657 - accuracy: 1.0000 - val_loss: 1.8946 - val_accuracy: 0.5000\n",
            "Epoch 34/100\n",
            "7/7 [==============================] - 0s 10ms/step - loss: 0.2610 - accuracy: 0.9077 - val_loss: 1.8684 - val_accuracy: 0.5000\n",
            "Epoch 35/100\n",
            "7/7 [==============================] - 0s 10ms/step - loss: 0.1378 - accuracy: 0.9309 - val_loss: 1.9251 - val_accuracy: 0.5714\n",
            "Epoch 36/100\n",
            "7/7 [==============================] - 0s 10ms/step - loss: 0.1671 - accuracy: 0.9309 - val_loss: 1.9397 - val_accuracy: 0.5714\n",
            "Epoch 37/100\n",
            "7/7 [==============================] - 0s 10ms/step - loss: 0.0698 - accuracy: 1.0000 - val_loss: 1.9443 - val_accuracy: 0.5714\n",
            "Epoch 38/100\n",
            "7/7 [==============================] - 0s 11ms/step - loss: 0.1427 - accuracy: 0.9768 - val_loss: 1.9383 - val_accuracy: 0.5714\n",
            "Epoch 39/100\n",
            "7/7 [==============================] - 0s 10ms/step - loss: 0.0248 - accuracy: 0.9922 - val_loss: 1.9918 - val_accuracy: 0.5714\n",
            "Epoch 40/100\n",
            "7/7 [==============================] - 0s 9ms/step - loss: 0.0402 - accuracy: 0.9880 - val_loss: 2.0158 - val_accuracy: 0.5714\n",
            "Epoch 41/100\n",
            "7/7 [==============================] - 0s 10ms/step - loss: 0.0814 - accuracy: 0.9830 - val_loss: 2.0477 - val_accuracy: 0.5714\n",
            "Epoch 42/100\n",
            "7/7 [==============================] - 0s 11ms/step - loss: 0.0737 - accuracy: 0.9880 - val_loss: 2.0868 - val_accuracy: 0.5714\n",
            "Epoch 43/100\n",
            "7/7 [==============================] - 0s 11ms/step - loss: 0.0572 - accuracy: 1.0000 - val_loss: 2.1352 - val_accuracy: 0.5714\n",
            "Epoch 44/100\n",
            "7/7 [==============================] - 0s 10ms/step - loss: 0.0919 - accuracy: 0.9309 - val_loss: 2.1142 - val_accuracy: 0.5714\n",
            "Epoch 45/100\n",
            "7/7 [==============================] - 0s 10ms/step - loss: 0.0680 - accuracy: 0.9684 - val_loss: 2.1711 - val_accuracy: 0.5714\n",
            "Epoch 46/100\n",
            "7/7 [==============================] - 0s 9ms/step - loss: 0.1297 - accuracy: 0.9309 - val_loss: 2.1750 - val_accuracy: 0.5000\n",
            "Epoch 47/100\n",
            "7/7 [==============================] - 0s 11ms/step - loss: 0.2389 - accuracy: 0.9309 - val_loss: 2.0531 - val_accuracy: 0.5000\n",
            "Epoch 48/100\n",
            "7/7 [==============================] - 0s 10ms/step - loss: 0.0789 - accuracy: 1.0000 - val_loss: 1.9675 - val_accuracy: 0.5000\n",
            "Epoch 49/100\n",
            "7/7 [==============================] - 0s 10ms/step - loss: 0.2631 - accuracy: 0.9077 - val_loss: 2.0591 - val_accuracy: 0.5000\n",
            "Epoch 50/100\n",
            "7/7 [==============================] - 0s 11ms/step - loss: 0.0242 - accuracy: 1.0000 - val_loss: 2.1765 - val_accuracy: 0.5000\n",
            "Epoch 51/100\n",
            "7/7 [==============================] - 0s 10ms/step - loss: 0.0249 - accuracy: 1.0000 - val_loss: 2.2766 - val_accuracy: 0.5000\n",
            "Epoch 52/100\n",
            "7/7 [==============================] - 0s 11ms/step - loss: 0.1419 - accuracy: 0.9309 - val_loss: 2.3718 - val_accuracy: 0.5000\n",
            "Epoch 53/100\n",
            "7/7 [==============================] - 0s 11ms/step - loss: 0.0346 - accuracy: 1.0000 - val_loss: 2.4671 - val_accuracy: 0.5000\n",
            "Epoch 54/100\n",
            "7/7 [==============================] - 0s 10ms/step - loss: 0.1106 - accuracy: 0.9309 - val_loss: 2.5656 - val_accuracy: 0.5000\n",
            "Epoch 55/100\n",
            "7/7 [==============================] - 0s 10ms/step - loss: 0.0365 - accuracy: 0.9768 - val_loss: 2.5043 - val_accuracy: 0.5000\n",
            "Epoch 56/100\n",
            "7/7 [==============================] - 0s 11ms/step - loss: 0.0162 - accuracy: 1.0000 - val_loss: 2.4470 - val_accuracy: 0.5714\n",
            "Epoch 57/100\n",
            "7/7 [==============================] - 0s 10ms/step - loss: 0.0258 - accuracy: 1.0000 - val_loss: 2.4413 - val_accuracy: 0.5714\n",
            "Epoch 58/100\n",
            "7/7 [==============================] - 0s 11ms/step - loss: 0.0147 - accuracy: 1.0000 - val_loss: 2.4598 - val_accuracy: 0.5714\n",
            "Epoch 59/100\n",
            "7/7 [==============================] - 0s 11ms/step - loss: 0.0447 - accuracy: 0.9684 - val_loss: 2.5131 - val_accuracy: 0.5714\n",
            "Epoch 60/100\n",
            "7/7 [==============================] - 0s 9ms/step - loss: 0.3253 - accuracy: 0.8113 - val_loss: 2.5628 - val_accuracy: 0.5714\n",
            "Epoch 61/100\n",
            "7/7 [==============================] - 0s 9ms/step - loss: 0.0484 - accuracy: 1.0000 - val_loss: 2.5488 - val_accuracy: 0.5714\n",
            "Epoch 62/100\n",
            "7/7 [==============================] - 0s 11ms/step - loss: 0.0688 - accuracy: 0.9684 - val_loss: 2.4816 - val_accuracy: 0.5000\n",
            "Epoch 63/100\n",
            "7/7 [==============================] - 0s 9ms/step - loss: 0.0391 - accuracy: 1.0000 - val_loss: 2.4461 - val_accuracy: 0.5000\n",
            "Epoch 64/100\n",
            "7/7 [==============================] - 0s 10ms/step - loss: 0.0045 - accuracy: 1.0000 - val_loss: 2.4589 - val_accuracy: 0.5000\n",
            "Epoch 65/100\n",
            "7/7 [==============================] - 0s 10ms/step - loss: 0.1441 - accuracy: 0.9515 - val_loss: 2.4155 - val_accuracy: 0.5714\n",
            "Epoch 66/100\n",
            "7/7 [==============================] - 0s 11ms/step - loss: 0.0498 - accuracy: 0.9559 - val_loss: 2.5164 - val_accuracy: 0.5714\n",
            "Epoch 67/100\n",
            "7/7 [==============================] - 0s 11ms/step - loss: 0.0584 - accuracy: 1.0000 - val_loss: 2.5882 - val_accuracy: 0.5714\n",
            "Epoch 68/100\n",
            "7/7 [==============================] - 0s 10ms/step - loss: 0.0123 - accuracy: 1.0000 - val_loss: 2.6654 - val_accuracy: 0.5714\n",
            "Epoch 69/100\n",
            "7/7 [==============================] - 0s 10ms/step - loss: 0.0401 - accuracy: 1.0000 - val_loss: 2.7199 - val_accuracy: 0.5714\n",
            "Epoch 70/100\n",
            "7/7 [==============================] - 0s 10ms/step - loss: 0.0093 - accuracy: 1.0000 - val_loss: 2.7671 - val_accuracy: 0.5000\n",
            "Epoch 71/100\n",
            "7/7 [==============================] - 0s 9ms/step - loss: 0.0234 - accuracy: 1.0000 - val_loss: 2.7392 - val_accuracy: 0.5000\n",
            "Epoch 72/100\n",
            "7/7 [==============================] - 0s 10ms/step - loss: 0.0106 - accuracy: 1.0000 - val_loss: 2.6740 - val_accuracy: 0.5000\n",
            "Epoch 73/100\n",
            "7/7 [==============================] - 0s 10ms/step - loss: 0.0385 - accuracy: 0.9880 - val_loss: 2.7004 - val_accuracy: 0.5000\n",
            "Epoch 74/100\n",
            "7/7 [==============================] - 0s 11ms/step - loss: 0.0178 - accuracy: 1.0000 - val_loss: 2.9077 - val_accuracy: 0.4286\n",
            "Epoch 75/100\n",
            "7/7 [==============================] - 0s 11ms/step - loss: 0.0193 - accuracy: 1.0000 - val_loss: 2.9989 - val_accuracy: 0.4286\n",
            "Epoch 76/100\n",
            "7/7 [==============================] - 0s 12ms/step - loss: 0.0540 - accuracy: 0.9830 - val_loss: 2.8836 - val_accuracy: 0.4286\n",
            "Epoch 77/100\n",
            "7/7 [==============================] - 0s 10ms/step - loss: 0.0643 - accuracy: 1.0000 - val_loss: 2.7048 - val_accuracy: 0.4286\n",
            "Epoch 78/100\n",
            "7/7 [==============================] - 0s 10ms/step - loss: 0.0366 - accuracy: 0.9922 - val_loss: 2.5654 - val_accuracy: 0.5714\n",
            "Epoch 79/100\n",
            "7/7 [==============================] - 0s 10ms/step - loss: 0.0039 - accuracy: 1.0000 - val_loss: 2.4141 - val_accuracy: 0.5714\n",
            "Epoch 80/100\n",
            "7/7 [==============================] - 0s 11ms/step - loss: 0.0156 - accuracy: 1.0000 - val_loss: 2.3806 - val_accuracy: 0.5714\n",
            "Epoch 81/100\n",
            "7/7 [==============================] - 0s 11ms/step - loss: 0.0812 - accuracy: 0.9684 - val_loss: 2.5359 - val_accuracy: 0.5714\n",
            "Epoch 82/100\n",
            "7/7 [==============================] - 0s 10ms/step - loss: 0.0161 - accuracy: 0.9880 - val_loss: 2.6413 - val_accuracy: 0.5000\n",
            "Epoch 83/100\n",
            "7/7 [==============================] - 0s 11ms/step - loss: 0.0182 - accuracy: 1.0000 - val_loss: 2.5901 - val_accuracy: 0.5000\n",
            "Epoch 84/100\n",
            "7/7 [==============================] - 0s 10ms/step - loss: 0.0130 - accuracy: 1.0000 - val_loss: 2.5235 - val_accuracy: 0.5714\n",
            "Epoch 00084: early stopping\n"
          ],
          "name": "stdout"
        }
      ]
    },
    {
      "cell_type": "code",
      "metadata": {
        "colab": {
          "base_uri": "https://localhost:8080/",
          "height": 279
        },
        "id": "Ell4I8NkJqkP",
        "outputId": "8b15f7fa-089c-4bd3-ce19-bfdc80d3b496"
      },
      "source": [
        "# plot the Train and Validation loss\n",
        "plt.plot(mymodel['loss'], label='Train')\n",
        "plt.plot(mymodel['val_loss'], label='Val')\n",
        "plt.xlabel('Epochs')\n",
        "plt.ylabel('Cross-Entropy')\n",
        "plt.legend()\n",
        "plt.show()"
      ],
      "execution_count": 25,
      "outputs": [
        {
          "output_type": "display_data",
          "data": {
            "image/png": "[encoded data removed]",
            "text/plain": [
              "<Figure size 432x288 with 1 Axes>"
            ]
          },
          "metadata": {
            "tags": [],
            "needs_background": "light"
          }
        }
      ]
    },
    {
      "cell_type": "code",
      "metadata": {
        "colab": {
          "base_uri": "https://localhost:8080/"
        },
        "id": "KiPPRwvsMMlW",
        "outputId": "e38f2819-bfe3-4796-a698-dd2c2107eea3"
      },
      "source": [
        "trained_model = load_model('best_xbot_model.h5')\n",
        "\n",
        "_, accuracy = trained_model.evaluate(train_x, train_y)\n",
        "print('Train Accuracy: %.2f' % (accuracy*100))"
      ],
      "execution_count": 26,
      "outputs": [
        {
          "output_type": "stream",
          "text": [
            "2/2 [==============================] - 0s 5ms/step - loss: 0.5733 - accuracy: 0.8478\n",
            "Train Accuracy: 84.78\n"
          ],
          "name": "stdout"
        }
      ]
    },
    {
      "cell_type": "markdown",
      "metadata": {
        "id": "X-G9clvKs7ir"
      },
      "source": [
        "### Chatbot"
      ]
    },
    {
      "cell_type": "code",
      "metadata": {
        "id": "9D3SBwCGs-QR",
        "colab": {
          "base_uri": "https://localhost:8080/"
        },
        "outputId": "05dae100-116c-468f-d8ff-6a297560064b"
      },
      "source": [
        "xbot_response = ResponseGeneratorKeras(data, explanation, trained_model)\n",
        "\n",
        "xbot_response.start()"
      ],
      "execution_count": null,
      "outputs": [
        {
          "output_type": "stream",
          "text": [
            "Hello, I'm X-Bot!\n",
            "If you want to exit, type Bye!\n",
            "hey\n",
            "X-Bot: Hi there, how can I help?\n",
            "\n",
            "\n",
            "explain to me\n",
            "X-Bot: The factual rule are: \n",
            "{ two_year_recid > 0.50 } --> { class: Medium }\n",
            "\n",
            "\n",
            "why\n",
            "X-Bot: The factual rule are: \n",
            "{ two_year_recid > 0.50 } --> { class: Medium }\n",
            "\n",
            "\n",
            "feature importance\n",
            "X-Bot: The most important features are: \n",
            "{'two_year_recid': 0.7329376854648753}\n",
            "\n",
            "\n",
            "faetur importance\n",
            "X-Bot: Sorry, can't understand you\n",
            "\n",
            "\n",
            "faeture importance\n",
            "X-Bot: Please give me more info\n",
            "\n",
            "\n",
            "similar instances\n",
            "X-Bot: The exemplars are: \n",
            "{ age = 21, priors_count = 1, days_b_screening_arrest = 31, is_recid = 1, is_violent_recid = 0, two_year_recid = 1, length_of_stay = 30, age_cat = Less than 25, sex = Male, race = African-American, c_charge_degree = F }\n",
            "{ age = 19, priors_count = 5, days_b_screening_arrest = 31, is_recid = 1, is_violent_recid = 0, two_year_recid = 1, length_of_stay = 28, age_cat = Less than 25, sex = Male, race = Caucasian, c_charge_degree = M }\n",
            "{ age = 29, priors_count = 2, days_b_screening_arrest = 29, is_recid = 1, is_violent_recid = 0, two_year_recid = 1, length_of_stay = 25, age_cat = 25 - 45, sex = Male, race = Caucasian, c_charge_degree = M }\n",
            "\n",
            "\n",
            "not similar instances\n",
            "X-Bot: Sorry, can't understand you\n",
            "\n",
            "\n",
            "not similar to this instance\n",
            "X-Bot: The exemplars are: \n",
            "{ age = 21, priors_count = 1, days_b_screening_arrest = 31, is_recid = 1, is_violent_recid = 0, two_year_recid = 1, length_of_stay = 30, age_cat = Less than 25, sex = Male, race = African-American, c_charge_degree = F }\n",
            "{ age = 19, priors_count = 5, days_b_screening_arrest = 31, is_recid = 1, is_violent_recid = 0, two_year_recid = 1, length_of_stay = 28, age_cat = Less than 25, sex = Male, race = Caucasian, c_charge_degree = M }\n",
            "{ age = 29, priors_count = 2, days_b_screening_arrest = 29, is_recid = 1, is_violent_recid = 0, two_year_recid = 1, length_of_stay = 25, age_cat = 25 - 45, sex = Male, race = Caucasian, c_charge_degree = M }\n",
            "\n",
            "\n",
            "give me a counter exemplar\n",
            "X-Bot: The counter exemplars are: \n",
            "{ age = 25, priors_count = 2, days_b_screening_arrest = 29, is_recid = 0, is_violent_recid = 0, two_year_recid = 0, length_of_stay = 29, age_cat = 25 - 45, sex = Male, race = Caucasian, c_charge_degree = F }\n",
            "{ age = 26, priors_count = 2, days_b_screening_arrest = 29, is_recid = 0, is_violent_recid = 0, two_year_recid = 0, length_of_stay = 28, age_cat = 25 - 45, sex = Male, race = African-American, c_charge_degree = M }\n",
            "{ age = 23, priors_count = 4, days_b_screening_arrest = 27, is_recid = 0, is_violent_recid = 0, two_year_recid = 0, length_of_stay = 27, age_cat = Less than 25, sex = Male, race = Hispanic, c_charge_degree = F }\n",
            "\n",
            "\n"
          ],
          "name": "stdout"
        }
      ]
    },
    {
      "cell_type": "code",
      "metadata": {
        "id": "hfBt56zDs-TI"
      },
      "source": [
        ""
      ],
      "execution_count": null,
      "outputs": []
    },
    {
      "cell_type": "code",
      "metadata": {
        "id": "fSmNb5EMs-Vx"
      },
      "source": [
        ""
      ],
      "execution_count": null,
      "outputs": []
    }
  ]
}