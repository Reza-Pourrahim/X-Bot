{
  "nbformat": 4,
  "nbformat_minor": 0,
  "metadata": {
    "kernelspec": {
      "display_name": "Python 3",
      "language": "python",
      "name": "python3"
    },
    "language_info": {
      "codemirror_mode": {
        "name": "ipython",
        "version": 3
      },
      "file_extension": ".py",
      "mimetype": "text/x-python",
      "name": "python",
      "nbconvert_exporter": "python",
      "pygments_lexer": "ipython3",
      "version": "3.8.3"
    },
    "colab": {
      "name": "new_run with keras.ipynb",
      "provenance": [],
      "collapsed_sections": [
        "n5PYMRgEZ1Rg",
        "FsiP3Vx4Z1Rj",
        "Yl59i8t1Z1Rl"
      ],
      "toc_visible": true
    }
  },
  "cells": [
    {
      "cell_type": "code",
      "metadata": {
        "colab": {
          "base_uri": "https://localhost:8080/"
        },
        "id": "m4-cn4YrZ8tr",
        "outputId": "ae76bcc4-631f-499a-bcda-0c371f3c67dc"
      },
      "source": [
        "from google.colab import drive\n",
        "\n",
        "drive.mount('/content/drive')"
      ],
      "execution_count": 1,
      "outputs": [
        {
          "output_type": "stream",
          "text": [
            "Drive already mounted at /content/drive; to attempt to forcibly remount, call drive.mount(\"/content/drive\", force_remount=True).\n"
          ],
          "name": "stdout"
        }
      ]
    },
    {
      "cell_type": "code",
      "metadata": {
        "id": "5yeALMoYaHQN"
      },
      "source": [
        "import sys\n",
        "sys.path.append(\"/content/drive/MyDrive/Thesis/reimp_lore\")\n",
        "\n",
        "import os\n",
        "os.chdir('/content/drive/MyDrive/Thesis/reimp_lore')\n",
        "\n",
        "# Now the directory '?' is the current working directory."
      ],
      "execution_count": 2,
      "outputs": []
    },
    {
      "cell_type": "code",
      "metadata": {
        "colab": {
          "base_uri": "https://localhost:8080/"
        },
        "id": "CUg1LpYOaT2x",
        "outputId": "840b50d0-b000-4875-96e3-c26441d50a67"
      },
      "source": [
        "!pip install bitarray"
      ],
      "execution_count": 3,
      "outputs": [
        {
          "output_type": "stream",
          "text": [
            "Requirement already satisfied: bitarray in /usr/local/lib/python3.7/dist-packages (1.9.2)\n"
          ],
          "name": "stdout"
        }
      ]
    },
    {
      "cell_type": "code",
      "metadata": {
        "colab": {
          "base_uri": "https://localhost:8080/"
        },
        "id": "tIPKdeZxaZm-",
        "outputId": "ed6ebbf5-6864-4b00-ea55-a1685ada5f20"
      },
      "source": [
        "!pip install scikit-multilearn"
      ],
      "execution_count": 4,
      "outputs": [
        {
          "output_type": "stream",
          "text": [
            "Requirement already satisfied: scikit-multilearn in /usr/local/lib/python3.7/dist-packages (0.2.0)\n"
          ],
          "name": "stdout"
        }
      ]
    },
    {
      "cell_type": "code",
      "metadata": {
        "colab": {
          "base_uri": "https://localhost:8080/"
        },
        "id": "tkGZyILVau3p",
        "outputId": "c4b9dd04-afa1-464b-f41c-777564d216dc"
      },
      "source": [
        "!pip install arff"
      ],
      "execution_count": 5,
      "outputs": [
        {
          "output_type": "stream",
          "text": [
            "Requirement already satisfied: arff in /usr/local/lib/python3.7/dist-packages (0.9)\n"
          ],
          "name": "stdout"
        }
      ]
    },
    {
      "cell_type": "code",
      "metadata": {
        "id": "6t2Dv0xEZ1RS"
      },
      "source": [
        "import lore\n",
        "from datamanager import *\n",
        "\n",
        "from sklearn.ensemble import RandomForestClassifier\n",
        "from sklearn.model_selection import train_test_split\n",
        "\n",
        "from sklearn.metrics import f1_score, accuracy_score\n",
        "\n",
        "from util import record2str"
      ],
      "execution_count": 6,
      "outputs": []
    },
    {
      "cell_type": "markdown",
      "metadata": {
        "pycharm": {
          "name": "#%% md\n"
        },
        "id": "ZSJlssYrZ1Rf"
      },
      "source": [
        "ipynb to py in pycharm:\n",
        "- jupyter nbconvert --to script new_run.ipynb"
      ]
    },
    {
      "cell_type": "markdown",
      "metadata": {
        "id": "n5PYMRgEZ1Rg"
      },
      "source": [
        "## Dataset"
      ]
    },
    {
      "cell_type": "code",
      "metadata": {
        "id": "h0BjvCyJZ1Rh"
      },
      "source": [
        "## Iris Dataset\n",
        "# dataset_name = 'dataset/iris.csv'\n",
        "# dataset = prepare_iris_dataset(dataset_name)\n",
        "\n",
        "## wine\n",
        "# dataset_name = 'dataset/wine.csv'\n",
        "# dataset = prepare_wine_dataset(dataset_name)\n",
        "\n",
        "##############################################\n",
        "#           Categorical dataset              #\n",
        "##############################################\n",
        "## german: (0 = Good, 1 = Bad)\n",
        "# dataset_name = 'dataset/german_credit.csv'\n",
        "# dataset = prepare_german_dataset(dataset_name)\n",
        "\n",
        "## adult: ['<=50K', '>50K']\n",
        "# dataset_name = 'dataset/adult.csv'\n",
        "# dataset = prepare_adult_dataset(dataset_name)\n",
        "\n",
        "## compas-scores-two-years: ['High', 'Low', 'Medium']\n",
        "dataset_name = 'dataset/compas-scores-two-years.csv'\n",
        "dataset = prepare_compass_dataset(dataset_name)\n",
        "\n",
        "dataframe = dataset[0]\n",
        "class_name = dataset[1]\n",
        "dataset_fin = prepare_dataset(dataframe, class_name)"
      ],
      "execution_count": 7,
      "outputs": []
    },
    {
      "cell_type": "code",
      "metadata": {
        "id": "O9VrVBOyZ1Rh"
      },
      "source": [
        "df = dataset_fin[0] #dataframe with unique numeric class values(0, 1, ...)\n",
        "feature_names = dataset_fin[1]\n",
        "class_values = dataset_fin[2]\n",
        "numeric_columns = dataset_fin[3]\n",
        "rdf = dataset_fin[4] #real dataframe\n",
        "real_feature_names = dataset_fin[5]\n",
        "features_map = dataset_fin[6] #map each class name to its unique numeric value\n",
        "df_categorical_idx = dataset_fin[7]"
      ],
      "execution_count": 8,
      "outputs": []
    },
    {
      "cell_type": "code",
      "metadata": {
        "colab": {
          "base_uri": "https://localhost:8080/",
          "height": 0
        },
        "id": "Slpz4jXMZ1Ri",
        "outputId": "7761bfaf-b1f2-4dcc-947b-23479b140e73"
      },
      "source": [
        "rdf.head()"
      ],
      "execution_count": 9,
      "outputs": [
        {
          "output_type": "execute_result",
          "data": {
            "text/html": [
              "<div>\n",
              "<style scoped>\n",
              "    .dataframe tbody tr th:only-of-type {\n",
              "        vertical-align: middle;\n",
              "    }\n",
              "\n",
              "    .dataframe tbody tr th {\n",
              "        vertical-align: top;\n",
              "    }\n",
              "\n",
              "    .dataframe thead th {\n",
              "        text-align: right;\n",
              "    }\n",
              "</style>\n",
              "<table border=\"1\" class=\"dataframe\">\n",
              "  <thead>\n",
              "    <tr style=\"text-align: right;\">\n",
              "      <th></th>\n",
              "      <th>age</th>\n",
              "      <th>priors_count</th>\n",
              "      <th>days_b_screening_arrest</th>\n",
              "      <th>is_recid</th>\n",
              "      <th>is_violent_recid</th>\n",
              "      <th>two_year_recid</th>\n",
              "      <th>length_of_stay</th>\n",
              "      <th>age_cat</th>\n",
              "      <th>sex</th>\n",
              "      <th>race</th>\n",
              "      <th>c_charge_degree</th>\n",
              "      <th>class</th>\n",
              "    </tr>\n",
              "  </thead>\n",
              "  <tbody>\n",
              "    <tr>\n",
              "      <th>0</th>\n",
              "      <td>69</td>\n",
              "      <td>0</td>\n",
              "      <td>1</td>\n",
              "      <td>0</td>\n",
              "      <td>0</td>\n",
              "      <td>0</td>\n",
              "      <td>0</td>\n",
              "      <td>Greater than 45</td>\n",
              "      <td>Male</td>\n",
              "      <td>Other</td>\n",
              "      <td>F</td>\n",
              "      <td>Low</td>\n",
              "    </tr>\n",
              "    <tr>\n",
              "      <th>1</th>\n",
              "      <td>34</td>\n",
              "      <td>0</td>\n",
              "      <td>1</td>\n",
              "      <td>1</td>\n",
              "      <td>1</td>\n",
              "      <td>1</td>\n",
              "      <td>10</td>\n",
              "      <td>25 - 45</td>\n",
              "      <td>Male</td>\n",
              "      <td>African-American</td>\n",
              "      <td>F</td>\n",
              "      <td>Low</td>\n",
              "    </tr>\n",
              "    <tr>\n",
              "      <th>2</th>\n",
              "      <td>24</td>\n",
              "      <td>4</td>\n",
              "      <td>1</td>\n",
              "      <td>1</td>\n",
              "      <td>0</td>\n",
              "      <td>1</td>\n",
              "      <td>1</td>\n",
              "      <td>Less than 25</td>\n",
              "      <td>Male</td>\n",
              "      <td>African-American</td>\n",
              "      <td>F</td>\n",
              "      <td>Low</td>\n",
              "    </tr>\n",
              "    <tr>\n",
              "      <th>3</th>\n",
              "      <td>23</td>\n",
              "      <td>1</td>\n",
              "      <td>1</td>\n",
              "      <td>0</td>\n",
              "      <td>0</td>\n",
              "      <td>0</td>\n",
              "      <td>0</td>\n",
              "      <td>Less than 25</td>\n",
              "      <td>Male</td>\n",
              "      <td>African-American</td>\n",
              "      <td>F</td>\n",
              "      <td>High</td>\n",
              "    </tr>\n",
              "    <tr>\n",
              "      <th>4</th>\n",
              "      <td>43</td>\n",
              "      <td>2</td>\n",
              "      <td>1</td>\n",
              "      <td>0</td>\n",
              "      <td>0</td>\n",
              "      <td>0</td>\n",
              "      <td>0</td>\n",
              "      <td>25 - 45</td>\n",
              "      <td>Male</td>\n",
              "      <td>Other</td>\n",
              "      <td>F</td>\n",
              "      <td>Low</td>\n",
              "    </tr>\n",
              "  </tbody>\n",
              "</table>\n",
              "</div>"
            ],
            "text/plain": [
              "   age  priors_count  ...  c_charge_degree  class\n",
              "0   69             0  ...                F    Low\n",
              "1   34             0  ...                F    Low\n",
              "2   24             4  ...                F    Low\n",
              "3   23             1  ...                F   High\n",
              "4   43             2  ...                F    Low\n",
              "\n",
              "[5 rows x 12 columns]"
            ]
          },
          "metadata": {
            "tags": []
          },
          "execution_count": 9
        }
      ]
    },
    {
      "cell_type": "code",
      "metadata": {
        "colab": {
          "base_uri": "https://localhost:8080/",
          "height": 0
        },
        "id": "k8_-EbcDZ1Rj",
        "outputId": "7f90f27c-d788-4c6b-d652-b95467d94d87"
      },
      "source": [
        "df.head()"
      ],
      "execution_count": 10,
      "outputs": [
        {
          "output_type": "execute_result",
          "data": {
            "text/html": [
              "<div>\n",
              "<style scoped>\n",
              "    .dataframe tbody tr th:only-of-type {\n",
              "        vertical-align: middle;\n",
              "    }\n",
              "\n",
              "    .dataframe tbody tr th {\n",
              "        vertical-align: top;\n",
              "    }\n",
              "\n",
              "    .dataframe thead th {\n",
              "        text-align: right;\n",
              "    }\n",
              "</style>\n",
              "<table border=\"1\" class=\"dataframe\">\n",
              "  <thead>\n",
              "    <tr style=\"text-align: right;\">\n",
              "      <th></th>\n",
              "      <th>age</th>\n",
              "      <th>priors_count</th>\n",
              "      <th>days_b_screening_arrest</th>\n",
              "      <th>is_recid</th>\n",
              "      <th>is_violent_recid</th>\n",
              "      <th>two_year_recid</th>\n",
              "      <th>length_of_stay</th>\n",
              "      <th>age_cat=25 - 45</th>\n",
              "      <th>age_cat=Greater than 45</th>\n",
              "      <th>age_cat=Less than 25</th>\n",
              "      <th>sex=Female</th>\n",
              "      <th>sex=Male</th>\n",
              "      <th>race=African-American</th>\n",
              "      <th>race=Asian</th>\n",
              "      <th>race=Caucasian</th>\n",
              "      <th>race=Hispanic</th>\n",
              "      <th>race=Native American</th>\n",
              "      <th>race=Other</th>\n",
              "      <th>c_charge_degree=F</th>\n",
              "      <th>c_charge_degree=M</th>\n",
              "      <th>class</th>\n",
              "    </tr>\n",
              "  </thead>\n",
              "  <tbody>\n",
              "    <tr>\n",
              "      <th>0</th>\n",
              "      <td>69</td>\n",
              "      <td>0</td>\n",
              "      <td>1</td>\n",
              "      <td>0</td>\n",
              "      <td>0</td>\n",
              "      <td>0</td>\n",
              "      <td>0</td>\n",
              "      <td>0</td>\n",
              "      <td>1</td>\n",
              "      <td>0</td>\n",
              "      <td>0</td>\n",
              "      <td>1</td>\n",
              "      <td>0</td>\n",
              "      <td>0</td>\n",
              "      <td>0</td>\n",
              "      <td>0</td>\n",
              "      <td>0</td>\n",
              "      <td>1</td>\n",
              "      <td>1</td>\n",
              "      <td>0</td>\n",
              "      <td>1</td>\n",
              "    </tr>\n",
              "    <tr>\n",
              "      <th>1</th>\n",
              "      <td>34</td>\n",
              "      <td>0</td>\n",
              "      <td>1</td>\n",
              "      <td>1</td>\n",
              "      <td>1</td>\n",
              "      <td>1</td>\n",
              "      <td>10</td>\n",
              "      <td>1</td>\n",
              "      <td>0</td>\n",
              "      <td>0</td>\n",
              "      <td>0</td>\n",
              "      <td>1</td>\n",
              "      <td>1</td>\n",
              "      <td>0</td>\n",
              "      <td>0</td>\n",
              "      <td>0</td>\n",
              "      <td>0</td>\n",
              "      <td>0</td>\n",
              "      <td>1</td>\n",
              "      <td>0</td>\n",
              "      <td>1</td>\n",
              "    </tr>\n",
              "    <tr>\n",
              "      <th>2</th>\n",
              "      <td>24</td>\n",
              "      <td>4</td>\n",
              "      <td>1</td>\n",
              "      <td>1</td>\n",
              "      <td>0</td>\n",
              "      <td>1</td>\n",
              "      <td>1</td>\n",
              "      <td>0</td>\n",
              "      <td>0</td>\n",
              "      <td>1</td>\n",
              "      <td>0</td>\n",
              "      <td>1</td>\n",
              "      <td>1</td>\n",
              "      <td>0</td>\n",
              "      <td>0</td>\n",
              "      <td>0</td>\n",
              "      <td>0</td>\n",
              "      <td>0</td>\n",
              "      <td>1</td>\n",
              "      <td>0</td>\n",
              "      <td>1</td>\n",
              "    </tr>\n",
              "    <tr>\n",
              "      <th>3</th>\n",
              "      <td>23</td>\n",
              "      <td>1</td>\n",
              "      <td>1</td>\n",
              "      <td>0</td>\n",
              "      <td>0</td>\n",
              "      <td>0</td>\n",
              "      <td>0</td>\n",
              "      <td>0</td>\n",
              "      <td>0</td>\n",
              "      <td>1</td>\n",
              "      <td>0</td>\n",
              "      <td>1</td>\n",
              "      <td>1</td>\n",
              "      <td>0</td>\n",
              "      <td>0</td>\n",
              "      <td>0</td>\n",
              "      <td>0</td>\n",
              "      <td>0</td>\n",
              "      <td>1</td>\n",
              "      <td>0</td>\n",
              "      <td>0</td>\n",
              "    </tr>\n",
              "    <tr>\n",
              "      <th>4</th>\n",
              "      <td>43</td>\n",
              "      <td>2</td>\n",
              "      <td>1</td>\n",
              "      <td>0</td>\n",
              "      <td>0</td>\n",
              "      <td>0</td>\n",
              "      <td>0</td>\n",
              "      <td>1</td>\n",
              "      <td>0</td>\n",
              "      <td>0</td>\n",
              "      <td>0</td>\n",
              "      <td>1</td>\n",
              "      <td>0</td>\n",
              "      <td>0</td>\n",
              "      <td>0</td>\n",
              "      <td>0</td>\n",
              "      <td>0</td>\n",
              "      <td>1</td>\n",
              "      <td>1</td>\n",
              "      <td>0</td>\n",
              "      <td>1</td>\n",
              "    </tr>\n",
              "  </tbody>\n",
              "</table>\n",
              "</div>"
            ],
            "text/plain": [
              "   age  priors_count  ...  c_charge_degree=M  class\n",
              "0   69             0  ...                  0      1\n",
              "1   34             0  ...                  0      1\n",
              "2   24             4  ...                  0      1\n",
              "3   23             1  ...                  0      0\n",
              "4   43             2  ...                  0      1\n",
              "\n",
              "[5 rows x 21 columns]"
            ]
          },
          "metadata": {
            "tags": []
          },
          "execution_count": 10
        }
      ]
    },
    {
      "cell_type": "markdown",
      "metadata": {
        "id": "FsiP3Vx4Z1Rj"
      },
      "source": [
        "## Black box classifier"
      ]
    },
    {
      "cell_type": "code",
      "metadata": {
        "colab": {
          "base_uri": "https://localhost:8080/"
        },
        "id": "UzVWn_pKZ1Rk",
        "outputId": "6a4a15f0-6e40-4ab0-b494-4f6221dd1c8a"
      },
      "source": [
        "X = df.loc[:, df.columns != class_name].values\n",
        "y = df[class_name].values\n",
        "\n",
        "X_train, X_test, y_train, y_test = train_test_split(X, y, test_size=0.3, stratify=y)\n",
        "blackbox = RandomForestClassifier()\n",
        "blackbox.fit(X_train, y_train)"
      ],
      "execution_count": 11,
      "outputs": [
        {
          "output_type": "execute_result",
          "data": {
            "text/plain": [
              "RandomForestClassifier(bootstrap=True, ccp_alpha=0.0, class_weight=None,\n",
              "                       criterion='gini', max_depth=None, max_features='auto',\n",
              "                       max_leaf_nodes=None, max_samples=None,\n",
              "                       min_impurity_decrease=0.0, min_impurity_split=None,\n",
              "                       min_samples_leaf=1, min_samples_split=2,\n",
              "                       min_weight_fraction_leaf=0.0, n_estimators=100,\n",
              "                       n_jobs=None, oob_score=False, random_state=None,\n",
              "                       verbose=0, warm_start=False)"
            ]
          },
          "metadata": {
            "tags": []
          },
          "execution_count": 11
        }
      ]
    },
    {
      "cell_type": "code",
      "metadata": {
        "scrolled": true,
        "colab": {
          "base_uri": "https://localhost:8080/"
        },
        "id": "Jp-MAE6VZ1Rl",
        "outputId": "f8f8e795-7b81-4de3-e21d-9d483eebd263"
      },
      "source": [
        "y_pred = blackbox.predict(X_test)\n",
        "print('Accuracy: %.3f' % accuracy_score(y_test, y_pred))"
      ],
      "execution_count": 12,
      "outputs": [
        {
          "output_type": "stream",
          "text": [
            "Accuracy: 0.591\n"
          ],
          "name": "stdout"
        }
      ]
    },
    {
      "cell_type": "markdown",
      "metadata": {
        "id": "Yl59i8t1Z1Rl"
      },
      "source": [
        "## select an instance _x_"
      ]
    },
    {
      "cell_type": "code",
      "metadata": {
        "colab": {
          "base_uri": "https://localhost:8080/"
        },
        "id": "WpPPvwxkZ1Rl",
        "outputId": "7cdf9aa3-2ecd-40fd-9a87-09627c2bb931"
      },
      "source": [
        "i = 10\n",
        "x = X_test[i]\n",
        "y_val = blackbox.predict(x.reshape(1,-1))[0]\n",
        "\n",
        "print(class_values)\n",
        "class_prob = blackbox.predict_proba(x.reshape(1,-1))[0]\n",
        "print(class_prob)\n",
        "\n",
        "y_val_name = class_values[y_val]\n",
        "print('blackbox(x) = { %s }' % y_val_name)\n"
      ],
      "execution_count": 13,
      "outputs": [
        {
          "output_type": "stream",
          "text": [
            "['High', 'Low', 'Medium']\n",
            "[0.   0.91 0.09]\n",
            "blackbox(x) = { Low }\n"
          ],
          "name": "stdout"
        }
      ]
    },
    {
      "cell_type": "code",
      "metadata": {
        "colab": {
          "base_uri": "https://localhost:8080/"
        },
        "id": "TlkyZsmGZ1Rm",
        "outputId": "c0392d11-f787-4863-e200-9afbe784ad7a"
      },
      "source": [
        "print('x = %s' % record2str(x, feature_names, numeric_columns))"
      ],
      "execution_count": 14,
      "outputs": [
        {
          "output_type": "stream",
          "text": [
            "x = { age = 29, priors_count = 0, days_b_screening_arrest = 3, is_recid = 0, is_violent_recid = 0, two_year_recid = 0, length_of_stay = 0, age_cat = 25 - 45, sex = Female, race = African-American, c_charge_degree = F }\n"
          ],
          "name": "stdout"
        }
      ]
    },
    {
      "cell_type": "markdown",
      "metadata": {
        "id": "58t8clxEZ1Rm"
      },
      "source": [
        "# LORE explainer (explaining an instance x)"
      ]
    },
    {
      "cell_type": "code",
      "metadata": {
        "scrolled": true,
        "id": "ilMQXkNgZ1Rn"
      },
      "source": [
        "lore_obj = lore.LORE(X_test, blackbox, feature_names, class_name, class_values,\n",
        "                 numeric_columns, features_map, df_categorical_idx, neigh_type='ngmusx', verbose=False)"
      ],
      "execution_count": 15,
      "outputs": []
    },
    {
      "cell_type": "code",
      "metadata": {
        "id": "5SDV-4wtZ1Ro"
      },
      "source": [
        "# just to check\n",
        "# Z = lore_obj.neighgen_fn(x, categorical_columns=df_categorical_idx)\n",
        "# print('Z is:',Z)\n",
        "# Z.shape"
      ],
      "execution_count": 16,
      "outputs": []
    },
    {
      "cell_type": "code",
      "metadata": {
        "scrolled": false,
        "colab": {
          "base_uri": "https://localhost:8080/"
        },
        "id": "frNUlsDvZ1Ro",
        "outputId": "868b6d38-d46d-4398-bd8b-13a26c0b8bd8"
      },
      "source": [
        "explanation = lore_obj.explain_instance(x, samples=1000, nbr_runs=10, exemplar_num=3)\n",
        "print(explanation)"
      ],
      "execution_count": 17,
      "outputs": [
        {
          "output_type": "stream",
          "text": [
            "r = { race != Caucasian, length_of_stay <= 0.50 } --> { class: Low }\n",
            "\n",
            "feature importance = {'length_of_stay': 0.3442295650956823, 'race=Caucasian': 0.2879910078774561}\n",
            "\n",
            "c = { { race = Caucasian } --> { class: Medium } }\n",
            "\n",
            "exemplars = { age = 28, priors_count = 0, days_b_screening_arrest = 2, is_recid = 0, is_violent_recid = 0, two_year_recid = 0, length_of_stay = 0, age_cat = 25 - 45, sex = Male, race = African-American, c_charge_degree = M }\n",
            "{ age = 28, priors_count = 1, days_b_screening_arrest = 1, is_recid = 0, is_violent_recid = 0, two_year_recid = 0, length_of_stay = 0, age_cat = 25 - 45, sex = Female, race = African-American, c_charge_degree = F }\n",
            "{ age = 28, priors_count = 0, days_b_screening_arrest = 1, is_recid = 0, is_violent_recid = 0, two_year_recid = 0, length_of_stay = 0, age_cat = 25 - 45, sex = Male, race = African-American, c_charge_degree = F }\n",
            "\n",
            "counter-exemplars = { age = 29, priors_count = 1, days_b_screening_arrest = 3, is_recid = 1, is_violent_recid = 0, two_year_recid = 1, length_of_stay = 0, age_cat = 25 - 45, sex = Male, race = Caucasian, c_charge_degree = F }\n",
            "{ age = 28, priors_count = 0, days_b_screening_arrest = 1, is_recid = 0, is_violent_recid = 0, two_year_recid = 0, length_of_stay = 0, age_cat = 25 - 45, sex = Female, race = Caucasian, c_charge_degree = F }\n",
            "{ age = 29, priors_count = 0, days_b_screening_arrest = 2, is_recid = 0, is_violent_recid = 0, two_year_recid = 0, length_of_stay = 0, age_cat = 25 - 45, sex = Male, race = Caucasian, c_charge_degree = M }\n"
          ],
          "name": "stdout"
        }
      ]
    },
    {
      "cell_type": "markdown",
      "metadata": {
        "id": "y8EFF8tpZ1Rp"
      },
      "source": [
        "# X-Bot"
      ]
    },
    {
      "cell_type": "code",
      "metadata": {
        "colab": {
          "base_uri": "https://localhost:8080/"
        },
        "id": "Ky9ms1srrDMH",
        "outputId": "0dd90075-a5dc-498a-e6a4-5b908bc9c419"
      },
      "source": [
        "!ls"
      ],
      "execution_count": 18,
      "outputs": [
        {
          "output_type": "stream",
          "text": [
            " best_xbot_model.h5   __init__.py\t\t  README.md\n",
            " chatdata\t      lore.py\t\t\t  response_generator_keras.py\n",
            " classes.pkl\t      neighborgen_lore.py\t  rule.py\n",
            " datamanager.py       new_run_seq2seq.ipynb\t  util.py\n",
            " dataset\t     'new_run with keras.ipynb'   words.pkl\n",
            " decision_tree.py     new_run_with_keras.py\t  xbot_model.py\n",
            " explanation.py       __pycache__\n"
          ],
          "name": "stdout"
        }
      ]
    },
    {
      "cell_type": "markdown",
      "metadata": {
        "id": "jm-KAb5ns13O"
      },
      "source": [
        "### Model"
      ]
    },
    {
      "cell_type": "code",
      "metadata": {
        "colab": {
          "base_uri": "https://localhost:8080/"
        },
        "id": "YNqoe9A7Ik9Y",
        "outputId": "cf2f6915-58a1-4323-990d-e32b76986fc3"
      },
      "source": [
        "!pip install symspellpy"
      ],
      "execution_count": 19,
      "outputs": [
        {
          "output_type": "stream",
          "text": [
            "Requirement already satisfied: symspellpy in /usr/local/lib/python3.7/dist-packages (6.7.0)\n",
            "Requirement already satisfied: numpy>=1.13.1 in /usr/local/lib/python3.7/dist-packages (from symspellpy) (1.19.5)\n"
          ],
          "name": "stdout"
        }
      ]
    },
    {
      "cell_type": "code",
      "metadata": {
        "id": "_CpWtyfgqgco",
        "colab": {
          "base_uri": "https://localhost:8080/"
        },
        "outputId": "b681b426-3c67-4c47-df5f-16edd0d40f6b"
      },
      "source": [
        "from response_generator_keras import ResponseGeneratorKeras\n",
        "from xbot_model import XBotModel\n",
        "from keras.models import load_model\n",
        "\n",
        "import json\n",
        "import matplotlib.pyplot as plt"
      ],
      "execution_count": 20,
      "outputs": [
        {
          "output_type": "stream",
          "text": [
            "[nltk_data] Downloading package punkt to /root/nltk_data...\n",
            "[nltk_data]   Package punkt is already up-to-date!\n",
            "[nltk_data] Downloading package wordnet to /root/nltk_data...\n",
            "[nltk_data]   Package wordnet is already up-to-date!\n"
          ],
          "name": "stdout"
        }
      ]
    },
    {
      "cell_type": "code",
      "metadata": {
        "id": "wM23qzmoZ1Rp"
      },
      "source": [
        "###################### Chat Data ######################\n",
        "data_file = open('chatdata/intents.json').read()\n",
        "data = json.loads(data_file)"
      ],
      "execution_count": 21,
      "outputs": []
    },
    {
      "cell_type": "code",
      "metadata": {
        "id": "Bek-RPwbr0kR"
      },
      "source": [
        "XBot_obj = XBotModel(verbose=True)"
      ],
      "execution_count": 22,
      "outputs": []
    },
    {
      "cell_type": "code",
      "metadata": {
        "colab": {
          "base_uri": "https://localhost:8080/"
        },
        "id": "yWPZa_ynceCi",
        "outputId": "4fe2af8a-3047-4d7f-f9fa-39b1ddb826f8"
      },
      "source": [
        "# train dataset\n",
        "train_dataset = XBot_obj.prepare_train_dataset(data)\n",
        "train_x = list(train_dataset[:, 0])\n",
        "train_y = list(train_dataset[:, 1])"
      ],
      "execution_count": 23,
      "outputs": [
        {
          "output_type": "stream",
          "text": [
            "Training data created!\n"
          ],
          "name": "stdout"
        }
      ]
    },
    {
      "cell_type": "code",
      "metadata": {
        "id": "JTm54ZEXr4g5",
        "colab": {
          "base_uri": "https://localhost:8080/"
        },
        "outputId": "5913b62f-3a68-4599-8bf5-8b201453c9a7"
      },
      "source": [
        "# create model\n",
        "model = XBot_obj.create_model(train_x, train_y, dropout=0.5)"
      ],
      "execution_count": 24,
      "outputs": [
        {
          "output_type": "stream",
          "text": [
            "Model: \"sequential\"\n",
            "_________________________________________________________________\n",
            "Layer (type)                 Output Shape              Param #   \n",
            "=================================================================\n",
            "dense (Dense)                (None, 128)               12672     \n",
            "_________________________________________________________________\n",
            "dropout (Dropout)            (None, 128)               0         \n",
            "_________________________________________________________________\n",
            "dense_1 (Dense)              (None, 64)                8256      \n",
            "_________________________________________________________________\n",
            "dropout_1 (Dropout)          (None, 64)                0         \n",
            "_________________________________________________________________\n",
            "dense_2 (Dense)              (None, 10)                650       \n",
            "=================================================================\n",
            "Total params: 21,578\n",
            "Trainable params: 21,578\n",
            "Non-trainable params: 0\n",
            "_________________________________________________________________\n",
            "None\n"
          ],
          "name": "stdout"
        }
      ]
    },
    {
      "cell_type": "code",
      "metadata": {
        "id": "6hQvPsBnrz7W",
        "colab": {
          "base_uri": "https://localhost:8080/"
        },
        "outputId": "6fe31878-d69c-4fc9-9b2c-b569d4f14121"
      },
      "source": [
        "# compile and fit the model\n",
        "mymodel = XBot_obj.compile_fit_model(model, train_x, train_y, epochs=100, \n",
        "                                     batch_size=5,\n",
        "                                     lr=5e-3,\n",
        "                                     earlystopping_patience=20,\n",
        "                                     loss='categorical_crossentropy')"
      ],
      "execution_count": 25,
      "outputs": [
        {
          "output_type": "stream",
          "text": [
            "Epoch 1/100\n",
            "8/8 [==============================] - 1s 76ms/step - loss: 2.4355 - accuracy: 0.0409 - val_loss: 2.2975 - val_accuracy: 0.1176\n",
            "Epoch 2/100\n",
            "8/8 [==============================] - 0s 8ms/step - loss: 2.1212 - accuracy: 0.2067 - val_loss: 2.2395 - val_accuracy: 0.1765\n",
            "Epoch 3/100\n",
            "8/8 [==============================] - 0s 7ms/step - loss: 2.0072 - accuracy: 0.3547 - val_loss: 2.2102 - val_accuracy: 0.1765\n",
            "Epoch 4/100\n",
            "8/8 [==============================] - 0s 7ms/step - loss: 1.7473 - accuracy: 0.5088 - val_loss: 2.1500 - val_accuracy: 0.1765\n",
            "Epoch 5/100\n",
            "8/8 [==============================] - 0s 7ms/step - loss: 1.6428 - accuracy: 0.5417 - val_loss: 2.1139 - val_accuracy: 0.1765\n",
            "Epoch 6/100\n",
            "8/8 [==============================] - 0s 8ms/step - loss: 1.2850 - accuracy: 0.5757 - val_loss: 2.0805 - val_accuracy: 0.2353\n",
            "Epoch 7/100\n",
            "8/8 [==============================] - 0s 7ms/step - loss: 1.3064 - accuracy: 0.6882 - val_loss: 1.9840 - val_accuracy: 0.2941\n",
            "Epoch 8/100\n",
            "8/8 [==============================] - 0s 7ms/step - loss: 1.2674 - accuracy: 0.6883 - val_loss: 1.8627 - val_accuracy: 0.4118\n",
            "Epoch 9/100\n",
            "8/8 [==============================] - 0s 7ms/step - loss: 0.7436 - accuracy: 0.8766 - val_loss: 1.7897 - val_accuracy: 0.4118\n",
            "Epoch 10/100\n",
            "8/8 [==============================] - 0s 7ms/step - loss: 0.9140 - accuracy: 0.7671 - val_loss: 1.6893 - val_accuracy: 0.4118\n",
            "Epoch 11/100\n",
            "8/8 [==============================] - 0s 7ms/step - loss: 0.5930 - accuracy: 0.8949 - val_loss: 1.6434 - val_accuracy: 0.4118\n",
            "Epoch 12/100\n",
            "8/8 [==============================] - 0s 7ms/step - loss: 0.7887 - accuracy: 0.7537 - val_loss: 1.6137 - val_accuracy: 0.5294\n",
            "Epoch 13/100\n",
            "8/8 [==============================] - 0s 7ms/step - loss: 0.5232 - accuracy: 0.9141 - val_loss: 1.5269 - val_accuracy: 0.5882\n",
            "Epoch 14/100\n",
            "8/8 [==============================] - 0s 7ms/step - loss: 0.3344 - accuracy: 0.9063 - val_loss: 1.4739 - val_accuracy: 0.6471\n",
            "Epoch 15/100\n",
            "8/8 [==============================] - 0s 6ms/step - loss: 0.3255 - accuracy: 0.9604 - val_loss: 1.4586 - val_accuracy: 0.5882\n",
            "Epoch 16/100\n",
            "8/8 [==============================] - 0s 7ms/step - loss: 0.2105 - accuracy: 1.0000 - val_loss: 1.5501 - val_accuracy: 0.5882\n",
            "Epoch 17/100\n",
            "8/8 [==============================] - 0s 7ms/step - loss: 0.2099 - accuracy: 1.0000 - val_loss: 1.5870 - val_accuracy: 0.6471\n",
            "Epoch 18/100\n",
            "8/8 [==============================] - 0s 6ms/step - loss: 0.1605 - accuracy: 0.9686 - val_loss: 1.5684 - val_accuracy: 0.6471\n",
            "Epoch 19/100\n",
            "8/8 [==============================] - 0s 8ms/step - loss: 0.1863 - accuracy: 0.9604 - val_loss: 1.5536 - val_accuracy: 0.5882\n",
            "Epoch 20/100\n",
            "8/8 [==============================] - 0s 7ms/step - loss: 0.1198 - accuracy: 1.0000 - val_loss: 1.5630 - val_accuracy: 0.5882\n",
            "Epoch 21/100\n",
            "8/8 [==============================] - 0s 7ms/step - loss: 0.1300 - accuracy: 0.9589 - val_loss: 1.5373 - val_accuracy: 0.6471\n",
            "Epoch 22/100\n",
            "8/8 [==============================] - 0s 7ms/step - loss: 0.0364 - accuracy: 1.0000 - val_loss: 1.5580 - val_accuracy: 0.6471\n",
            "Epoch 23/100\n",
            "8/8 [==============================] - 0s 7ms/step - loss: 0.0712 - accuracy: 0.9854 - val_loss: 1.5900 - val_accuracy: 0.7059\n",
            "Epoch 24/100\n",
            "8/8 [==============================] - 0s 6ms/step - loss: 0.3568 - accuracy: 0.9367 - val_loss: 1.5863 - val_accuracy: 0.6471\n",
            "Epoch 25/100\n",
            "8/8 [==============================] - 0s 7ms/step - loss: 0.0488 - accuracy: 1.0000 - val_loss: 1.6084 - val_accuracy: 0.6471\n",
            "Epoch 26/100\n",
            "8/8 [==============================] - 0s 7ms/step - loss: 0.1810 - accuracy: 0.9330 - val_loss: 1.6320 - val_accuracy: 0.5882\n",
            "Epoch 27/100\n",
            "8/8 [==============================] - 0s 7ms/step - loss: 0.0297 - accuracy: 1.0000 - val_loss: 1.7134 - val_accuracy: 0.6471\n",
            "Epoch 28/100\n",
            "8/8 [==============================] - 0s 6ms/step - loss: 0.0478 - accuracy: 1.0000 - val_loss: 1.7479 - val_accuracy: 0.6471\n",
            "Epoch 29/100\n",
            "8/8 [==============================] - 0s 6ms/step - loss: 0.0200 - accuracy: 1.0000 - val_loss: 1.7418 - val_accuracy: 0.7059\n",
            "Epoch 30/100\n",
            "8/8 [==============================] - 0s 6ms/step - loss: 0.1760 - accuracy: 0.9400 - val_loss: 1.7347 - val_accuracy: 0.6471\n",
            "Epoch 31/100\n",
            "8/8 [==============================] - 0s 8ms/step - loss: 0.1692 - accuracy: 0.9363 - val_loss: 1.7744 - val_accuracy: 0.6471\n",
            "Epoch 32/100\n",
            "8/8 [==============================] - 0s 7ms/step - loss: 0.0465 - accuracy: 1.0000 - val_loss: 1.8350 - val_accuracy: 0.6471\n",
            "Epoch 33/100\n",
            "8/8 [==============================] - 0s 6ms/step - loss: 0.0553 - accuracy: 0.9589 - val_loss: 1.8090 - val_accuracy: 0.6471\n",
            "Epoch 34/100\n",
            "8/8 [==============================] - 0s 7ms/step - loss: 0.0586 - accuracy: 0.9700 - val_loss: 1.8225 - val_accuracy: 0.6471\n",
            "Epoch 35/100\n",
            "8/8 [==============================] - 0s 7ms/step - loss: 0.0863 - accuracy: 0.9943 - val_loss: 1.7937 - val_accuracy: 0.6471\n",
            "Epoch 00035: early stopping\n"
          ],
          "name": "stdout"
        }
      ]
    },
    {
      "cell_type": "code",
      "metadata": {
        "colab": {
          "base_uri": "https://localhost:8080/",
          "height": 279
        },
        "id": "Ell4I8NkJqkP",
        "outputId": "59449948-7cfb-4bcf-e961-3e951f72b87e"
      },
      "source": [
        "# plot the Train and Validation loss\n",
        "plt.plot(mymodel['loss'], label='Train')\n",
        "plt.plot(mymodel['val_loss'], label='Val')\n",
        "plt.xlabel('Epochs')\n",
        "plt.ylabel('Cross-Entropy')\n",
        "plt.legend()\n",
        "plt.show()"
      ],
      "execution_count": 26,
      "outputs": [
        {
          "output_type": "display_data",
          "data": {
            "image/png": "[encoded data removed]",
            "text/plain": [
              "<Figure size 432x288 with 1 Axes>"
            ]
          },
          "metadata": {
            "tags": [],
            "needs_background": "light"
          }
        }
      ]
    },
    {
      "cell_type": "code",
      "metadata": {
        "colab": {
          "base_uri": "https://localhost:8080/",
          "height": 279
        },
        "id": "a8_lzeEpJbI7",
        "outputId": "0d47b947-2037-415c-e291-47e3ce4d758d"
      },
      "source": [
        "# plot the Train and Validation accuracy\n",
        "plt.plot(mymodel['accuracy'], label='Train')\n",
        "plt.plot(mymodel['val_accuracy'], label='Val')\n",
        "plt.xlabel('Epochs')\n",
        "plt.ylabel('Accuracy')\n",
        "plt.legend()\n",
        "plt.show()"
      ],
      "execution_count": 27,
      "outputs": [
        {
          "output_type": "display_data",
          "data": {
            "image/png": "[encoded data removed]",
            "text/plain": [
              "<Figure size 432x288 with 1 Axes>"
            ]
          },
          "metadata": {
            "tags": [],
            "needs_background": "light"
          }
        }
      ]
    },
    {
      "cell_type": "code",
      "metadata": {
        "colab": {
          "base_uri": "https://localhost:8080/"
        },
        "id": "KiPPRwvsMMlW",
        "outputId": "77e83ca7-ce1b-4d71-fc17-e3ef453bcdc1"
      },
      "source": [
        "trained_model = load_model('best_xbot_model.h5')\n",
        "\n",
        "_, accuracy = trained_model.evaluate(train_x, train_y)\n",
        "print('Train Accuracy: %.2f' % (accuracy*100))"
      ],
      "execution_count": 28,
      "outputs": [
        {
          "output_type": "stream",
          "text": [
            "2/2 [==============================] - 0s 8ms/step - loss: 0.4852 - accuracy: 0.8750\n",
            "Train Accuracy: 87.50\n"
          ],
          "name": "stdout"
        }
      ]
    },
    {
      "cell_type": "markdown",
      "metadata": {
        "id": "X-G9clvKs7ir"
      },
      "source": [
        "### Chatbot"
      ]
    },
    {
      "cell_type": "code",
      "metadata": {
        "id": "9D3SBwCGs-QR",
        "colab": {
          "base_uri": "https://localhost:8080/"
        },
        "outputId": "2459509c-4835-4212-82a9-c7d987888bbb"
      },
      "source": [
        "xbot_response = ResponseGeneratorKeras(data, explanation, trained_model)\n",
        "\n",
        "xbot_response.start()"
      ],
      "execution_count": null,
      "outputs": [
        {
          "output_type": "stream",
          "text": [
            "Hello, I'm X-Bot!\n",
            "If you want to exit, type Bye!\n",
            "hi\n",
            "X-Bot: Buongiorno\n",
            "\n",
            "\n",
            "hllo\n",
            "X-Bot: Hello\n",
            "\n",
            "\n",
            "how about the performance\n",
            "X-Bot: The fidelity is: \n",
            "1.0\n",
            "\n",
            "\n",
            "how about the perfromance\n",
            "X-Bot: The fidelity is: \n",
            "1.0\n",
            "\n",
            "\n",
            "give me a exemplar\n",
            "X-Bot: The exemplars are: \n",
            "{ age = 28, priors_count = 0, days_b_screening_arrest = 2, is_recid = 0, is_violent_recid = 0, two_year_recid = 0, length_of_stay = 0, age_cat = 25 - 45, sex = Male, race = African-American, c_charge_degree = M }\n",
            "{ age = 28, priors_count = 1, days_b_screening_arrest = 1, is_recid = 0, is_violent_recid = 0, two_year_recid = 0, length_of_stay = 0, age_cat = 25 - 45, sex = Female, race = African-American, c_charge_degree = F }\n",
            "{ age = 28, priors_count = 0, days_b_screening_arrest = 1, is_recid = 0, is_violent_recid = 0, two_year_recid = 0, length_of_stay = 0, age_cat = 25 - 45, sex = Male, race = African-American, c_charge_degree = F }\n",
            "\n",
            "\n",
            "feature importance\n",
            "X-Bot: The most important features are: \n",
            "{'length_of_stay': 0.3442295650956823, 'race=Caucasian': 0.2879910078774561}\n",
            "\n",
            "\n",
            "featrue importanse\n",
            "X-Bot: The most important features are: \n",
            "{'length_of_stay': 0.3442295650956823, 'race=Caucasian': 0.2879910078774561}\n",
            "\n",
            "\n",
            "why\n",
            "X-Bot: The factual rule are: \n",
            "{ race != Caucasian, length_of_stay <= 0.50 } --> { class: Low }\n",
            "\n",
            "\n",
            "explan it to me\n",
            "X-Bot: The factual rule are: \n",
            "{ race != Caucasian, length_of_stay <= 0.50 } --> { class: Low }\n",
            "\n",
            "\n",
            "how about the weather\n",
            "X-Bot: The fidelity is: \n",
            "1.0\n",
            "\n",
            "\n",
            "What kind of instance gets a different prediction?\n",
            "X-Bot: The counterfactual rules are: \n",
            "{ { race = Caucasian } --> { class: Medium } }\n",
            "\n",
            "\n",
            "mooooooooost important variable\n",
            "X-Bot: Sorry, can't understand you\n",
            "\n",
            "\n",
            "most important variable\n",
            "X-Bot: The most important features are: \n",
            "{'length_of_stay': 0.3442295650956823, 'race=Caucasian': 0.2879910078774561}\n",
            "\n",
            "\n",
            "most important variableeee\n",
            "X-Bot: The most important features are: \n",
            "{'length_of_stay': 0.3442295650956823, 'race=Caucasian': 0.2879910078774561}\n",
            "\n",
            "\n"
          ],
          "name": "stdout"
        }
      ]
    },
    {
      "cell_type": "code",
      "metadata": {
        "id": "hfBt56zDs-TI"
      },
      "source": [
        ""
      ],
      "execution_count": null,
      "outputs": []
    },
    {
      "cell_type": "code",
      "metadata": {
        "id": "fSmNb5EMs-Vx"
      },
      "source": [
        ""
      ],
      "execution_count": null,
      "outputs": []
    }
  ]
}