{
 "cells": [
  {
   "cell_type": "code",
   "execution_count": 57,
   "metadata": {},
   "outputs": [],
   "source": [
    "import lore\n",
    "from datamanager import *\n",
    "\n",
    "from sklearn.datasets import load_iris, load_breast_cancer\n",
    "from sklearn.ensemble import RandomForestClassifier\n",
    "from sklearn.model_selection import train_test_split\n",
    "\n",
    "from sklearn.metrics import f1_score, accuracy_score\n",
    "\n",
    "from util import record2str"
   ]
  },
  {
   "cell_type": "markdown",
   "metadata": {
    "pycharm": {
     "name": "#%% md\n"
    }
   },
   "source": [
    "ipynb to py in pycharm:\n",
    "- jupyter nbconvert --to script new_run.ipynb"
   ]
  },
  {
   "cell_type": "markdown",
   "metadata": {},
   "source": [
    "## Dataset"
   ]
  },
  {
   "cell_type": "code",
   "execution_count": 66,
   "metadata": {},
   "outputs": [],
   "source": [
    "## Iris Dataset\n",
    "# dataset_name = 'dataset/iris.csv'\n",
    "# dataset = prepare_iris_dataset(dataset_name)\n",
    "\n",
    "## wine\n",
    "# dataset_name = 'dataset/wine.csv'\n",
    "# dataset = prepare_wine_dataset(dataset_name)\n",
    "\n",
    "##############################################\n",
    "#           Categorical dataset              #\n",
    "##############################################\n",
    "## german: (0 = Good, 1 = Bad)\n",
    "# dataset_name = 'dataset/german_credit.csv'\n",
    "# dataset = prepare_german_dataset(dataset_name)\n",
    "\n",
    "## adult: ['<=50K', '>50K']\n",
    "# dataset_name = 'dataset/adult.csv'\n",
    "# dataset = prepare_adult_dataset(dataset_name)\n",
    "\n",
    "## compas-scores-two-years: ['High', 'Low', 'Medium']\n",
    "dataset_name = 'dataset/compas-scores-two-years.csv'\n",
    "dataset = prepare_compass_dataset(dataset_name)\n",
    "\n",
    "dataframe = dataset[0]\n",
    "class_name = dataset[1]\n",
    "dataset_fin = prepare_dataset(dataframe, class_name)"
   ]
  },
  {
   "cell_type": "code",
   "execution_count": 67,
   "metadata": {},
   "outputs": [],
   "source": [
    "df = dataset_fin[0] #dataframe with unique numeric class values(0, 1, ...)\n",
    "feature_names = dataset_fin[1]\n",
    "class_values = dataset_fin[2]\n",
    "numeric_columns = dataset_fin[3]\n",
    "rdf = dataset_fin[4] #real dataframe\n",
    "real_feature_names = dataset_fin[5]\n",
    "features_map = dataset_fin[6] #map each class name to its unique numeric value"
   ]
  },
  {
   "cell_type": "code",
   "execution_count": 68,
   "metadata": {},
   "outputs": [
    {
     "data": {
      "text/html": [
       "<div>\n",
       "<style scoped>\n",
       "    .dataframe tbody tr th:only-of-type {\n",
       "        vertical-align: middle;\n",
       "    }\n",
       "\n",
       "    .dataframe tbody tr th {\n",
       "        vertical-align: top;\n",
       "    }\n",
       "\n",
       "    .dataframe thead th {\n",
       "        text-align: right;\n",
       "    }\n",
       "</style>\n",
       "<table border=\"1\" class=\"dataframe\">\n",
       "  <thead>\n",
       "    <tr style=\"text-align: right;\">\n",
       "      <th></th>\n",
       "      <th>age</th>\n",
       "      <th>priors_count</th>\n",
       "      <th>days_b_screening_arrest</th>\n",
       "      <th>is_recid</th>\n",
       "      <th>is_violent_recid</th>\n",
       "      <th>two_year_recid</th>\n",
       "      <th>length_of_stay</th>\n",
       "      <th>age_cat</th>\n",
       "      <th>sex</th>\n",
       "      <th>race</th>\n",
       "      <th>c_charge_degree</th>\n",
       "      <th>class</th>\n",
       "    </tr>\n",
       "  </thead>\n",
       "  <tbody>\n",
       "    <tr>\n",
       "      <th>0</th>\n",
       "      <td>69</td>\n",
       "      <td>0</td>\n",
       "      <td>1</td>\n",
       "      <td>0</td>\n",
       "      <td>0</td>\n",
       "      <td>0</td>\n",
       "      <td>0</td>\n",
       "      <td>Greater than 45</td>\n",
       "      <td>Male</td>\n",
       "      <td>Other</td>\n",
       "      <td>F</td>\n",
       "      <td>Low</td>\n",
       "    </tr>\n",
       "    <tr>\n",
       "      <th>1</th>\n",
       "      <td>34</td>\n",
       "      <td>0</td>\n",
       "      <td>1</td>\n",
       "      <td>1</td>\n",
       "      <td>1</td>\n",
       "      <td>1</td>\n",
       "      <td>10</td>\n",
       "      <td>25 - 45</td>\n",
       "      <td>Male</td>\n",
       "      <td>African-American</td>\n",
       "      <td>F</td>\n",
       "      <td>Low</td>\n",
       "    </tr>\n",
       "    <tr>\n",
       "      <th>2</th>\n",
       "      <td>24</td>\n",
       "      <td>4</td>\n",
       "      <td>1</td>\n",
       "      <td>1</td>\n",
       "      <td>0</td>\n",
       "      <td>1</td>\n",
       "      <td>1</td>\n",
       "      <td>Less than 25</td>\n",
       "      <td>Male</td>\n",
       "      <td>African-American</td>\n",
       "      <td>F</td>\n",
       "      <td>Low</td>\n",
       "    </tr>\n",
       "    <tr>\n",
       "      <th>3</th>\n",
       "      <td>23</td>\n",
       "      <td>1</td>\n",
       "      <td>1</td>\n",
       "      <td>0</td>\n",
       "      <td>0</td>\n",
       "      <td>0</td>\n",
       "      <td>0</td>\n",
       "      <td>Less than 25</td>\n",
       "      <td>Male</td>\n",
       "      <td>African-American</td>\n",
       "      <td>F</td>\n",
       "      <td>High</td>\n",
       "    </tr>\n",
       "    <tr>\n",
       "      <th>4</th>\n",
       "      <td>43</td>\n",
       "      <td>2</td>\n",
       "      <td>1</td>\n",
       "      <td>0</td>\n",
       "      <td>0</td>\n",
       "      <td>0</td>\n",
       "      <td>0</td>\n",
       "      <td>25 - 45</td>\n",
       "      <td>Male</td>\n",
       "      <td>Other</td>\n",
       "      <td>F</td>\n",
       "      <td>Low</td>\n",
       "    </tr>\n",
       "  </tbody>\n",
       "</table>\n",
       "</div>"
      ],
      "text/plain": [
       "   age  priors_count  days_b_screening_arrest  is_recid  is_violent_recid  \\\n",
       "0   69             0                        1         0                 0   \n",
       "1   34             0                        1         1                 1   \n",
       "2   24             4                        1         1                 0   \n",
       "3   23             1                        1         0                 0   \n",
       "4   43             2                        1         0                 0   \n",
       "\n",
       "   two_year_recid  length_of_stay          age_cat   sex              race  \\\n",
       "0               0               0  Greater than 45  Male             Other   \n",
       "1               1              10          25 - 45  Male  African-American   \n",
       "2               1               1     Less than 25  Male  African-American   \n",
       "3               0               0     Less than 25  Male  African-American   \n",
       "4               0               0          25 - 45  Male             Other   \n",
       "\n",
       "  c_charge_degree class  \n",
       "0               F   Low  \n",
       "1               F   Low  \n",
       "2               F   Low  \n",
       "3               F  High  \n",
       "4               F   Low  "
      ]
     },
     "execution_count": 68,
     "metadata": {},
     "output_type": "execute_result"
    }
   ],
   "source": [
    "rdf.head()"
   ]
  },
  {
   "cell_type": "code",
   "execution_count": 69,
   "metadata": {},
   "outputs": [
    {
     "data": {
      "text/html": [
       "<div>\n",
       "<style scoped>\n",
       "    .dataframe tbody tr th:only-of-type {\n",
       "        vertical-align: middle;\n",
       "    }\n",
       "\n",
       "    .dataframe tbody tr th {\n",
       "        vertical-align: top;\n",
       "    }\n",
       "\n",
       "    .dataframe thead th {\n",
       "        text-align: right;\n",
       "    }\n",
       "</style>\n",
       "<table border=\"1\" class=\"dataframe\">\n",
       "  <thead>\n",
       "    <tr style=\"text-align: right;\">\n",
       "      <th></th>\n",
       "      <th>age</th>\n",
       "      <th>priors_count</th>\n",
       "      <th>days_b_screening_arrest</th>\n",
       "      <th>is_recid</th>\n",
       "      <th>is_violent_recid</th>\n",
       "      <th>two_year_recid</th>\n",
       "      <th>length_of_stay</th>\n",
       "      <th>age_cat=25 - 45</th>\n",
       "      <th>age_cat=Greater than 45</th>\n",
       "      <th>age_cat=Less than 25</th>\n",
       "      <th>...</th>\n",
       "      <th>sex=Male</th>\n",
       "      <th>race=African-American</th>\n",
       "      <th>race=Asian</th>\n",
       "      <th>race=Caucasian</th>\n",
       "      <th>race=Hispanic</th>\n",
       "      <th>race=Native American</th>\n",
       "      <th>race=Other</th>\n",
       "      <th>c_charge_degree=F</th>\n",
       "      <th>c_charge_degree=M</th>\n",
       "      <th>class</th>\n",
       "    </tr>\n",
       "  </thead>\n",
       "  <tbody>\n",
       "    <tr>\n",
       "      <th>0</th>\n",
       "      <td>69</td>\n",
       "      <td>0</td>\n",
       "      <td>1</td>\n",
       "      <td>0</td>\n",
       "      <td>0</td>\n",
       "      <td>0</td>\n",
       "      <td>0</td>\n",
       "      <td>0</td>\n",
       "      <td>1</td>\n",
       "      <td>0</td>\n",
       "      <td>...</td>\n",
       "      <td>1</td>\n",
       "      <td>0</td>\n",
       "      <td>0</td>\n",
       "      <td>0</td>\n",
       "      <td>0</td>\n",
       "      <td>0</td>\n",
       "      <td>1</td>\n",
       "      <td>1</td>\n",
       "      <td>0</td>\n",
       "      <td>1</td>\n",
       "    </tr>\n",
       "    <tr>\n",
       "      <th>1</th>\n",
       "      <td>34</td>\n",
       "      <td>0</td>\n",
       "      <td>1</td>\n",
       "      <td>1</td>\n",
       "      <td>1</td>\n",
       "      <td>1</td>\n",
       "      <td>10</td>\n",
       "      <td>1</td>\n",
       "      <td>0</td>\n",
       "      <td>0</td>\n",
       "      <td>...</td>\n",
       "      <td>1</td>\n",
       "      <td>1</td>\n",
       "      <td>0</td>\n",
       "      <td>0</td>\n",
       "      <td>0</td>\n",
       "      <td>0</td>\n",
       "      <td>0</td>\n",
       "      <td>1</td>\n",
       "      <td>0</td>\n",
       "      <td>1</td>\n",
       "    </tr>\n",
       "    <tr>\n",
       "      <th>2</th>\n",
       "      <td>24</td>\n",
       "      <td>4</td>\n",
       "      <td>1</td>\n",
       "      <td>1</td>\n",
       "      <td>0</td>\n",
       "      <td>1</td>\n",
       "      <td>1</td>\n",
       "      <td>0</td>\n",
       "      <td>0</td>\n",
       "      <td>1</td>\n",
       "      <td>...</td>\n",
       "      <td>1</td>\n",
       "      <td>1</td>\n",
       "      <td>0</td>\n",
       "      <td>0</td>\n",
       "      <td>0</td>\n",
       "      <td>0</td>\n",
       "      <td>0</td>\n",
       "      <td>1</td>\n",
       "      <td>0</td>\n",
       "      <td>1</td>\n",
       "    </tr>\n",
       "    <tr>\n",
       "      <th>3</th>\n",
       "      <td>23</td>\n",
       "      <td>1</td>\n",
       "      <td>1</td>\n",
       "      <td>0</td>\n",
       "      <td>0</td>\n",
       "      <td>0</td>\n",
       "      <td>0</td>\n",
       "      <td>0</td>\n",
       "      <td>0</td>\n",
       "      <td>1</td>\n",
       "      <td>...</td>\n",
       "      <td>1</td>\n",
       "      <td>1</td>\n",
       "      <td>0</td>\n",
       "      <td>0</td>\n",
       "      <td>0</td>\n",
       "      <td>0</td>\n",
       "      <td>0</td>\n",
       "      <td>1</td>\n",
       "      <td>0</td>\n",
       "      <td>0</td>\n",
       "    </tr>\n",
       "    <tr>\n",
       "      <th>4</th>\n",
       "      <td>43</td>\n",
       "      <td>2</td>\n",
       "      <td>1</td>\n",
       "      <td>0</td>\n",
       "      <td>0</td>\n",
       "      <td>0</td>\n",
       "      <td>0</td>\n",
       "      <td>1</td>\n",
       "      <td>0</td>\n",
       "      <td>0</td>\n",
       "      <td>...</td>\n",
       "      <td>1</td>\n",
       "      <td>0</td>\n",
       "      <td>0</td>\n",
       "      <td>0</td>\n",
       "      <td>0</td>\n",
       "      <td>0</td>\n",
       "      <td>1</td>\n",
       "      <td>1</td>\n",
       "      <td>0</td>\n",
       "      <td>1</td>\n",
       "    </tr>\n",
       "  </tbody>\n",
       "</table>\n",
       "<p>5 rows × 21 columns</p>\n",
       "</div>"
      ],
      "text/plain": [
       "   age  priors_count  days_b_screening_arrest  is_recid  is_violent_recid  \\\n",
       "0   69             0                        1         0                 0   \n",
       "1   34             0                        1         1                 1   \n",
       "2   24             4                        1         1                 0   \n",
       "3   23             1                        1         0                 0   \n",
       "4   43             2                        1         0                 0   \n",
       "\n",
       "   two_year_recid  length_of_stay  age_cat=25 - 45  age_cat=Greater than 45  \\\n",
       "0               0               0                0                        1   \n",
       "1               1              10                1                        0   \n",
       "2               1               1                0                        0   \n",
       "3               0               0                0                        0   \n",
       "4               0               0                1                        0   \n",
       "\n",
       "   age_cat=Less than 25  ...  sex=Male  race=African-American  race=Asian  \\\n",
       "0                     0  ...         1                      0           0   \n",
       "1                     0  ...         1                      1           0   \n",
       "2                     1  ...         1                      1           0   \n",
       "3                     1  ...         1                      1           0   \n",
       "4                     0  ...         1                      0           0   \n",
       "\n",
       "   race=Caucasian  race=Hispanic  race=Native American  race=Other  \\\n",
       "0               0              0                     0           1   \n",
       "1               0              0                     0           0   \n",
       "2               0              0                     0           0   \n",
       "3               0              0                     0           0   \n",
       "4               0              0                     0           1   \n",
       "\n",
       "   c_charge_degree=F  c_charge_degree=M  class  \n",
       "0                  1                  0      1  \n",
       "1                  1                  0      1  \n",
       "2                  1                  0      1  \n",
       "3                  1                  0      0  \n",
       "4                  1                  0      1  \n",
       "\n",
       "[5 rows x 21 columns]"
      ]
     },
     "execution_count": 69,
     "metadata": {},
     "output_type": "execute_result"
    }
   ],
   "source": [
    "df.head()"
   ]
  },
  {
   "cell_type": "markdown",
   "metadata": {},
   "source": [
    "## Black box classifier"
   ]
  },
  {
   "cell_type": "code",
   "execution_count": 70,
   "metadata": {},
   "outputs": [
    {
     "data": {
      "text/plain": [
       "RandomForestClassifier()"
      ]
     },
     "execution_count": 70,
     "metadata": {},
     "output_type": "execute_result"
    }
   ],
   "source": [
    "X = df.loc[:, df.columns != class_name].values\n",
    "y = df[class_name].values\n",
    "\n",
    "X_train, X_test, y_train, y_test = train_test_split(X, y, test_size=0.3, stratify=y)\n",
    "blackbox = RandomForestClassifier()\n",
    "blackbox.fit(X_train, y_train)"
   ]
  },
  {
   "cell_type": "code",
   "execution_count": 71,
   "metadata": {
    "scrolled": true
   },
   "outputs": [
    {
     "name": "stdout",
     "output_type": "stream",
     "text": [
      "Accuracy: 0.611\n"
     ]
    }
   ],
   "source": [
    "y_pred = blackbox.predict(X_test)\n",
    "print('Accuracy: %.3f' % accuracy_score(y_test, y_pred))"
   ]
  },
  {
   "cell_type": "markdown",
   "metadata": {},
   "source": [
    "## select an instance _x_"
   ]
  },
  {
   "cell_type": "code",
   "execution_count": 72,
   "metadata": {},
   "outputs": [
    {
     "name": "stdout",
     "output_type": "stream",
     "text": [
      "['High', 'Low', 'Medium']\n",
      "[0.38 0.01 0.61]\n",
      "blackbox(x) = { Medium }\n"
     ]
    }
   ],
   "source": [
    "i = 10\n",
    "x = X_test[i]\n",
    "y_val = blackbox.predict(x.reshape(1,-1))[0]\n",
    "\n",
    "print(class_values)\n",
    "class_prob = blackbox.predict_proba(x.reshape(1,-1))[0]\n",
    "print(class_prob)\n",
    "\n",
    "y_val_name = class_values[y_val]\n",
    "print('blackbox(x) = { %s }' % y_val_name)\n"
   ]
  },
  {
   "cell_type": "code",
   "execution_count": 73,
   "metadata": {},
   "outputs": [
    {
     "name": "stdout",
     "output_type": "stream",
     "text": [
      "x = { age = 26, priors_count = 8, days_b_screening_arrest = 1, is_recid = 1, is_violent_recid = 1, two_year_recid = 1, length_of_stay = 41, age_cat = 25 - 45, sex = Male, race = Caucasian, c_charge_degree = F }\n"
     ]
    }
   ],
   "source": [
    "print('x = %s' % record2str(x, feature_names, numeric_columns))"
   ]
  },
  {
   "cell_type": "markdown",
   "metadata": {},
   "source": [
    "# LORE explainer (explaining an instance x)"
   ]
  },
  {
   "cell_type": "code",
   "execution_count": 78,
   "metadata": {
    "scrolled": true
   },
   "outputs": [],
   "source": [
    "lore_obj = lore.LORE(X_test, blackbox, feature_names, class_name, class_values,\n",
    "                 numeric_columns, features_map, neigh_type='ngmusx', multi_label=False , verbose=False)"
   ]
  },
  {
   "cell_type": "code",
   "execution_count": 79,
   "metadata": {},
   "outputs": [
    {
     "name": "stdout",
     "output_type": "stream",
     "text": [
      "Z is: [[ 2.60000000e+01  8.00000000e+00  1.00000000e+00 ...  0.00000000e+00\n",
      "   1.00000000e+00  0.00000000e+00]\n",
      " [ 2.59592168e+01  7.99745029e+00  1.07568820e+00 ... -2.37842458e-02\n",
      "   9.84631595e-01  1.35616222e-02]\n",
      " [ 2.59997265e+01  8.01182259e+00  1.00569185e+00 ... -1.42198793e-02\n",
      "   9.95998601e-01  1.26461802e-02]\n",
      " ...\n",
      " [ 2.54964916e+01  7.91231829e+00  9.75403229e-01 ... -9.89460775e-02\n",
      "   8.92675609e-01 -9.72957107e-02]\n",
      " [ 2.54651186e+01  7.95086991e+00  9.11758533e-01 ... -3.69276344e-02\n",
      "   9.01797746e-01 -6.02134276e-02]\n",
      " [ 2.55165808e+01  7.93693373e+00  9.32498211e-01 ... -3.02494268e-02\n",
      "   9.29798635e-01 -1.29595123e-01]]\n"
     ]
    },
    {
     "data": {
      "text/plain": [
       "(1010, 20)"
      ]
     },
     "execution_count": 79,
     "metadata": {},
     "output_type": "execute_result"
    }
   ],
   "source": [
    "# just to check\n",
    "Z = lore_obj.neighgen_fn(x, upper_threshold=4)\n",
    "print('Z is:',Z)\n",
    "Z.shape"
   ]
  },
  {
   "cell_type": "code",
   "execution_count": 80,
   "metadata": {
    "scrolled": true
   },
   "outputs": [
    {
     "name": "stdout",
     "output_type": "stream",
     "text": [
      "r = { age > 25.50, race = Caucasian } --> { class: Medium }\n",
      "c = { { race != Caucasian } }\n"
     ]
    }
   ],
   "source": [
    "explanation = lore_obj.explain_instance(x, samples=1000, nbr_runs=10, upper_threshold=32)\n",
    "\n",
    "print(explanation)"
   ]
  },
  {
   "cell_type": "code",
   "execution_count": 81,
   "metadata": {
    "scrolled": true
   },
   "outputs": [
    {
     "name": "stdout",
     "output_type": "stream",
     "text": [
      "r = { age > 25.50, age_cat = 25 - 45 } --> { class: Medium }\n",
      "c = { { age <= 25.50 } }\n"
     ]
    }
   ],
   "source": [
    "explanation = lore_obj.explain_instance(x, samples=1000, nbr_runs=10, upper_threshold=4)\n",
    "\n",
    "print(explanation)"
   ]
  },
  {
   "cell_type": "code",
   "execution_count": 82,
   "metadata": {},
   "outputs": [
    {
     "name": "stdout",
     "output_type": "stream",
     "text": [
      "x = { age = 26, priors_count = 8, days_b_screening_arrest = 1, is_recid = 1, is_violent_recid = 1, two_year_recid = 1, length_of_stay = 41, age_cat = 25 - 45, sex = Male, race = Caucasian, c_charge_degree = F }\n"
     ]
    }
   ],
   "source": [
    "print('x = %s' % record2str(x, feature_names, numeric_columns))"
   ]
  },
  {
   "cell_type": "markdown",
   "metadata": {},
   "source": [
    "## check the borderline"
   ]
  },
  {
   "cell_type": "code",
   "execution_count": 85,
   "metadata": {},
   "outputs": [],
   "source": [
    "temp_x = x.copy()"
   ]
  },
  {
   "cell_type": "code",
   "execution_count": 86,
   "metadata": {},
   "outputs": [
    {
     "data": {
      "text/plain": [
       "defaultdict(dict,\n",
       "            {0: {'age': 0},\n",
       "             1: {'priors_count': 1},\n",
       "             2: {'days_b_screening_arrest': 2},\n",
       "             3: {'is_recid': 3},\n",
       "             4: {'is_violent_recid': 4},\n",
       "             5: {'two_year_recid': 5},\n",
       "             6: {'length_of_stay': 6},\n",
       "             7: {'25 - 45': 7, 'Greater than 45': 8, 'Less than 25': 9},\n",
       "             8: {'Female': 10, 'Male': 11},\n",
       "             9: {'African-American': 12,\n",
       "              'Asian': 13,\n",
       "              'Caucasian': 14,\n",
       "              'Hispanic': 15,\n",
       "              'Native American': 16,\n",
       "              'Other': 17},\n",
       "             10: {'F': 18, 'M': 19}})"
      ]
     },
     "execution_count": 86,
     "metadata": {},
     "output_type": "execute_result"
    }
   ],
   "source": [
    "features_map"
   ]
  },
  {
   "cell_type": "code",
   "execution_count": 87,
   "metadata": {},
   "outputs": [
    {
     "name": "stdout",
     "output_type": "stream",
     "text": [
      "x = { age = 25, priors_count = 8, days_b_screening_arrest = 1, is_recid = 1, is_violent_recid = 1, two_year_recid = 1, length_of_stay = 41, age_cat = 25 - 45, sex = Male, race = Caucasian, c_charge_degree = F }\n"
     ]
    }
   ],
   "source": [
    "#c = { { age <= 25.50 } }\n",
    "temp_x[0] = 25\n",
    "print('x = %s' % record2str(temp_x, feature_names, numeric_columns))"
   ]
  },
  {
   "cell_type": "code",
   "execution_count": 89,
   "metadata": {},
   "outputs": [
    {
     "name": "stdout",
     "output_type": "stream",
     "text": [
      "['High', 'Low', 'Medium']\n",
      "[0.66 0.02 0.32]\n",
      "High\n"
     ]
    }
   ],
   "source": [
    "print(class_values)\n",
    "print(blackbox.predict_proba(temp_x.reshape(1,-1))[0])\n",
    "print(class_values[blackbox.predict(temp_x.reshape(1,-1))[0]])"
   ]
  },
  {
   "cell_type": "code",
   "execution_count": 91,
   "metadata": {},
   "outputs": [
    {
     "name": "stdout",
     "output_type": "stream",
     "text": [
      "r = { age_cat != Greater than 45, c_charge_degree != M } --> { class: High }\n",
      "c = { { age_cat = Greater than 45, c_charge_degree != F },\n",
      "      { c_charge_degree=M > 0.51, race = Hispanic },\n",
      "      { c_charge_degree=M > 0.50, race = Hispanic },\n",
      "      { age_cat = Greater than 45, sex = Female } }\n"
     ]
    }
   ],
   "source": [
    "explanation_temp = lore_obj.explain_instance(temp_x, samples=1000, nbr_runs=10)\n",
    "\n",
    "print(explanation_temp)"
   ]
  },
  {
   "cell_type": "code",
   "execution_count": 92,
   "metadata": {},
   "outputs": [
    {
     "name": "stdout",
     "output_type": "stream",
     "text": [
      "x = { age = 26, priors_count = 8, days_b_screening_arrest = 1, is_recid = 1, is_violent_recid = 1, two_year_recid = 1, length_of_stay = 41, age_cat = 25 - 45, sex = Male, race = Asian, c_charge_degree = F }\n"
     ]
    }
   ],
   "source": [
    "#c = { { race != Caucasian } }\n",
    "temp_x = x.copy()\n",
    "temp_x[14] = 0\n",
    "temp_x[13] = 1\n",
    "print('x = %s' % record2str(temp_x, feature_names, numeric_columns))"
   ]
  },
  {
   "cell_type": "code",
   "execution_count": 93,
   "metadata": {},
   "outputs": [
    {
     "name": "stdout",
     "output_type": "stream",
     "text": [
      "['High', 'Low', 'Medium']\n",
      "[0.47 0.12 0.41]\n",
      "High\n"
     ]
    }
   ],
   "source": [
    "print(class_values)\n",
    "print(blackbox.predict_proba(temp_x.reshape(1,-1))[0])\n",
    "print(class_values[blackbox.predict(temp_x.reshape(1,-1))[0]])"
   ]
  },
  {
   "cell_type": "code",
   "execution_count": 98,
   "metadata": {},
   "outputs": [
    {
     "name": "stdout",
     "output_type": "stream",
     "text": [
      "r = { length_of_stay > 40.50, c_charge_degree = M } --> { class: High }\n",
      "c = { { length_of_stay <= 40.50, age > 26.00 },\n",
      "      { length_of_stay <= 40.39, age > 26.00 } }\n"
     ]
    }
   ],
   "source": [
    "explanation_temp2 = lore_obj.explain_instance(temp_x, samples=1000, nbr_runs=10, upper_threshold=4)\n",
    "\n",
    "print(explanation_temp2)"
   ]
  },
  {
   "cell_type": "code",
   "execution_count": null,
   "metadata": {},
   "outputs": [],
   "source": []
  },
  {
   "cell_type": "code",
   "execution_count": null,
   "metadata": {},
   "outputs": [],
   "source": []
  }
 ],
 "metadata": {
  "kernelspec": {
   "display_name": "Python 3",
   "language": "python",
   "name": "python3"
  },
  "language_info": {
   "codemirror_mode": {
    "name": "ipython",
    "version": 3
   },
   "file_extension": ".py",
   "mimetype": "text/x-python",
   "name": "python",
   "nbconvert_exporter": "python",
   "pygments_lexer": "ipython3",
   "version": "3.8.3"
  }
 },
 "nbformat": 4,
 "nbformat_minor": 4
}
