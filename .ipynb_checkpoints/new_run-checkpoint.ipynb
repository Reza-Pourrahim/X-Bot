{
 "cells": [
  {
   "cell_type": "code",
   "execution_count": 1,
   "metadata": {},
   "outputs": [],
   "source": [
    "import lore\n",
    "from datamanager import *\n",
    "\n",
    "from sklearn.datasets import load_iris, load_breast_cancer\n",
    "from sklearn.ensemble import RandomForestClassifier\n",
    "from sklearn.model_selection import train_test_split\n",
    "\n",
    "from sklearn.metrics import accuracy_score"
   ]
  },
  {
   "cell_type": "markdown",
   "metadata": {},
   "source": [
    "### ipynb to py in pycharm:\n",
    "jupyter nbconvert --to script new_run.ipynb"
   ]
  },
  {
   "cell_type": "code",
   "execution_count": 2,
   "metadata": {},
   "outputs": [],
   "source": [
    "## Iris Dataset\n",
    "dataset_name = 'dataset/iris.csv'\n",
    "dataset = prepare_iris_dataset(dataset_name)\n",
    "\n",
    "## german\n",
    "# dataset_name = 'dataset/german_credit.csv'\n",
    "# dataset = prepare_german_dataset(dataset_name)\n",
    "\n",
    "## adult\n",
    "# dataset_name = 'dataset/adult.csv'\n",
    "# dataset = prepare_adult_dataset(dataset_name)\n",
    "\n",
    "## compas-scores-two-years\n",
    "# dataset_name = 'dataset/compas-scores-two-years.csv'\n",
    "# dataset = prepare_compass_dataset(dataset_name)\n",
    "\n",
    "## wine\n",
    "# dataset_name = 'dataset/wine.csv'\n",
    "# dataset = prepare_wine_dataset(dataset_name)\n",
    "\n",
    "dataframe = dataset[0]\n",
    "class_name = dataset[1]\n",
    "dataset_fin = prepare_dataset(dataframe, class_name)"
   ]
  },
  {
   "cell_type": "code",
   "execution_count": 3,
   "metadata": {},
   "outputs": [
    {
     "data": {
      "text/html": [
       "<div>\n",
       "<style scoped>\n",
       "    .dataframe tbody tr th:only-of-type {\n",
       "        vertical-align: middle;\n",
       "    }\n",
       "\n",
       "    .dataframe tbody tr th {\n",
       "        vertical-align: top;\n",
       "    }\n",
       "\n",
       "    .dataframe thead th {\n",
       "        text-align: right;\n",
       "    }\n",
       "</style>\n",
       "<table border=\"1\" class=\"dataframe\">\n",
       "  <thead>\n",
       "    <tr style=\"text-align: right;\">\n",
       "      <th></th>\n",
       "      <th>Unnamed: 0</th>\n",
       "      <th>sepal_length</th>\n",
       "      <th>sepal_width</th>\n",
       "      <th>petal_length</th>\n",
       "      <th>petal_width</th>\n",
       "      <th>class</th>\n",
       "    </tr>\n",
       "  </thead>\n",
       "  <tbody>\n",
       "    <tr>\n",
       "      <th>0</th>\n",
       "      <td>0</td>\n",
       "      <td>4.9</td>\n",
       "      <td>3.0</td>\n",
       "      <td>1.4</td>\n",
       "      <td>0.2</td>\n",
       "      <td>Iris-setosa</td>\n",
       "    </tr>\n",
       "    <tr>\n",
       "      <th>1</th>\n",
       "      <td>1</td>\n",
       "      <td>4.7</td>\n",
       "      <td>3.2</td>\n",
       "      <td>1.3</td>\n",
       "      <td>0.2</td>\n",
       "      <td>Iris-setosa</td>\n",
       "    </tr>\n",
       "    <tr>\n",
       "      <th>2</th>\n",
       "      <td>2</td>\n",
       "      <td>4.6</td>\n",
       "      <td>3.1</td>\n",
       "      <td>1.5</td>\n",
       "      <td>0.2</td>\n",
       "      <td>Iris-setosa</td>\n",
       "    </tr>\n",
       "    <tr>\n",
       "      <th>3</th>\n",
       "      <td>3</td>\n",
       "      <td>5.0</td>\n",
       "      <td>3.6</td>\n",
       "      <td>1.4</td>\n",
       "      <td>0.2</td>\n",
       "      <td>Iris-setosa</td>\n",
       "    </tr>\n",
       "    <tr>\n",
       "      <th>4</th>\n",
       "      <td>4</td>\n",
       "      <td>5.4</td>\n",
       "      <td>3.9</td>\n",
       "      <td>1.7</td>\n",
       "      <td>0.4</td>\n",
       "      <td>Iris-setosa</td>\n",
       "    </tr>\n",
       "  </tbody>\n",
       "</table>\n",
       "</div>"
      ],
      "text/plain": [
       "   Unnamed: 0  sepal_length  sepal_width  petal_length  petal_width  \\\n",
       "0           0           4.9          3.0           1.4          0.2   \n",
       "1           1           4.7          3.2           1.3          0.2   \n",
       "2           2           4.6          3.1           1.5          0.2   \n",
       "3           3           5.0          3.6           1.4          0.2   \n",
       "4           4           5.4          3.9           1.7          0.4   \n",
       "\n",
       "         class  \n",
       "0  Iris-setosa  \n",
       "1  Iris-setosa  \n",
       "2  Iris-setosa  \n",
       "3  Iris-setosa  \n",
       "4  Iris-setosa  "
      ]
     },
     "execution_count": 3,
     "metadata": {},
     "output_type": "execute_result"
    }
   ],
   "source": [
    "dataframe.head()"
   ]
  },
  {
   "cell_type": "code",
   "execution_count": 4,
   "metadata": {},
   "outputs": [
    {
     "data": {
      "text/plain": [
       "RandomForestClassifier()"
      ]
     },
     "execution_count": 4,
     "metadata": {},
     "output_type": "execute_result"
    }
   ],
   "source": [
    "df = dataset_fin[0] #dataframe with unique numeric class values(0, 1, ...)\n",
    "feature_names = dataset_fin[1]\n",
    "class_values = dataset_fin[2]\n",
    "numeric_columns = dataset_fin[3]\n",
    "rdf = dataset_fin[4] #real dataframe\n",
    "real_feature_names = dataset_fin[5]\n",
    "features_map = dataset_fin[6] #map each class name to its unique numeric value\n",
    "\n",
    "X = df.loc[:, df.columns != class_name].values\n",
    "y = df[class_name].values\n",
    "\n",
    "X_train, X_test, y_train, y_test = train_test_split(X, y, test_size=0.3, stratify=y)\n",
    "blackbox = RandomForestClassifier()\n",
    "blackbox.fit(X_train, y_train)"
   ]
  },
  {
   "cell_type": "code",
   "execution_count": 5,
   "metadata": {
    "scrolled": true
   },
   "outputs": [
    {
     "name": "stdout",
     "output_type": "stream",
     "text": [
      "Accuracy 1.000\n"
     ]
    }
   ],
   "source": [
    "y_pred = blackbox.predict(X_test)\n",
    "print('Accuracy %.3f' % accuracy_score(y_test, y_pred))"
   ]
  },
  {
   "cell_type": "code",
   "execution_count": 6,
   "metadata": {},
   "outputs": [
    {
     "name": "stdout",
     "output_type": "stream",
     "text": [
      "Iris-setosa\n"
     ]
    }
   ],
   "source": [
    "i = 10\n",
    "x = X_test[i]\n",
    "y_val = blackbox.predict(x.reshape(1,-1))[0]\n",
    "\n",
    "y_val_name = class_values[y_val]\n",
    "print(y_val_name)"
   ]
  },
  {
   "cell_type": "code",
   "execution_count": 8,
   "metadata": {
    "scrolled": true
   },
   "outputs": [
    {
     "name": "stdout",
     "output_type": "stream",
     "text": [
      "Z is: [[19.          5.4         3.4         1.7         0.2       ]\n",
      " [19.35148886  5.60705828  3.32509774  1.72612894  0.07814945]\n",
      " [18.8565157   5.20112173  3.2404292   1.66562817  0.53960877]\n",
      " ...\n",
      " [17.38480593  5.10710414  2.71413065  2.25018643  0.91166921]\n",
      " [17.11249599  4.9904815   3.07114054  2.36278119  0.96973566]\n",
      " [17.10344976  5.3527835   3.01333676  2.68583901  0.65708064]]\n"
     ]
    }
   ],
   "source": [
    "lore_obj = lore.LORE(X_test, blackbox, feature_names, class_name, class_values,\n",
    "                 numeric_columns, features_map, neigh_type='ngmusx', verbose=False)\n",
    "\n",
    "Z = lore_obj.neighgen_fn(x)\n",
    "\n",
    "print('Z is:',Z)"
   ]
  },
  {
   "cell_type": "code",
   "execution_count": null,
   "metadata": {},
   "outputs": [],
   "source": [
    "explanation = lore_obj.explain_instance(x, y_val, blackbox, nbr_runs=10, verbose=True)\n",
    "\n",
    "print(explanation)"
   ]
  },
  {
   "cell_type": "code",
   "execution_count": null,
   "metadata": {},
   "outputs": [],
   "source": []
  }
 ],
 "metadata": {
  "kernelspec": {
   "display_name": "Python 3",
   "language": "python",
   "name": "python3"
  },
  "language_info": {
   "codemirror_mode": {
    "name": "ipython",
    "version": 3
   },
   "file_extension": ".py",
   "mimetype": "text/x-python",
   "name": "python",
   "nbconvert_exporter": "python",
   "pygments_lexer": "ipython3",
   "version": "3.8.3"
  }
 },
 "nbformat": 4,
 "nbformat_minor": 4
}
