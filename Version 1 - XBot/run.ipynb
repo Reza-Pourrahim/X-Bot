{
  "nbformat": 4,
  "nbformat_minor": 0,
  "metadata": {
    "colab": {
      "name": "new_run_embedding_lstm.ipynb",
      "provenance": [],
      "collapsed_sections": [
        "J2AX_ih1lQJJ"
      ]
    },
    "kernelspec": {
      "name": "python3",
      "display_name": "Python 3"
    },
    "language_info": {
      "name": "python"
    }
  },
  "cells": [
    {
      "cell_type": "code",
      "metadata": {
        "id": "bhmbr3R2w7T3",
        "colab": {
          "base_uri": "https://localhost:8080/"
        },
        "outputId": "dee4c706-12c5-48d3-8ad3-7f57a2264613"
      },
      "source": [
        "from google.colab import drive\n",
        "\n",
        "drive.mount('/content/drive')"
      ],
      "execution_count": 31,
      "outputs": [
        {
          "output_type": "stream",
          "text": [
            "Drive already mounted at /content/drive; to attempt to forcibly remount, call drive.mount(\"/content/drive\", force_remount=True).\n"
          ],
          "name": "stdout"
        }
      ]
    },
    {
      "cell_type": "code",
      "metadata": {
        "id": "NtWpOFC2w9Px"
      },
      "source": [
        "import sys\n",
        "sys.path.append(\"/content/drive/MyDrive/Thesis/reimp_lore\")\n",
        "\n",
        "import os\n",
        "os.chdir('/content/drive/MyDrive/Thesis/reimp_lore')\n",
        "\n",
        "# Now the directory '?' is the current working directory."
      ],
      "execution_count": 32,
      "outputs": []
    },
    {
      "cell_type": "markdown",
      "metadata": {
        "id": "J2AX_ih1lQJJ"
      },
      "source": [
        "# Libraries"
      ]
    },
    {
      "cell_type": "code",
      "metadata": {
        "id": "dYI7WCrV0BSs",
        "colab": {
          "base_uri": "https://localhost:8080/"
        },
        "outputId": "01f92163-2097-4818-ba1e-0a25464e0494"
      },
      "source": [
        "!pip install symspellpy"
      ],
      "execution_count": 33,
      "outputs": [
        {
          "output_type": "stream",
          "text": [
            "Requirement already satisfied: symspellpy in /usr/local/lib/python3.7/dist-packages (6.7.0)\n",
            "Requirement already satisfied: numpy>=1.13.1 in /usr/local/lib/python3.7/dist-packages (from symspellpy) (1.19.5)\n"
          ],
          "name": "stdout"
        }
      ]
    },
    {
      "cell_type": "code",
      "metadata": {
        "id": "NluoEm6-lCY6",
        "colab": {
          "base_uri": "https://localhost:8080/"
        },
        "outputId": "2bf84d7b-7217-4158-fb6c-cd54009f79a1"
      },
      "source": [
        "import nltk\n",
        "nltk.download('punkt')\n",
        "nltk.download('wordnet')\n",
        "\n",
        "from nltk.stem import WordNetLemmatizer\n",
        "lemmatizer = WordNetLemmatizer()\n",
        "\n",
        "import pickle\n",
        "import string\n",
        "punct = string.punctuation\n",
        "trantab = str.maketrans(punct, len(punct) * ' ')  # Every punctuation symbol will be replaced by a space\n",
        "whitelist = ['?', '!']\n",
        "\n",
        "import warnings\n",
        "warnings.filterwarnings(\"ignore\")\n",
        "\n",
        "import random\n",
        "import numpy as np\n",
        "import re\n",
        "import pandas as pd\n",
        "from nltk.tokenize.treebank import TreebankWordDetokenizer\n",
        "\n",
        "from keras.preprocessing.text import Tokenizer\n",
        "from keras.preprocessing.sequence import pad_sequences\n",
        "\n",
        "from keras.models import Sequential\n",
        "from keras import layers\n",
        "from keras.callbacks import EarlyStopping, ModelCheckpoint"
      ],
      "execution_count": 34,
      "outputs": [
        {
          "output_type": "stream",
          "text": [
            "[nltk_data] Downloading package punkt to /root/nltk_data...\n",
            "[nltk_data]   Package punkt is already up-to-date!\n",
            "[nltk_data] Downloading package wordnet to /root/nltk_data...\n",
            "[nltk_data]   Package wordnet is already up-to-date!\n"
          ],
          "name": "stdout"
        }
      ]
    },
    {
      "cell_type": "code",
      "metadata": {
        "id": "bEH0Mfyak_Z8"
      },
      "source": [
        "from keras.models import load_model\n",
        "\n",
        "import json\n",
        "import matplotlib.pyplot as plt"
      ],
      "execution_count": 35,
      "outputs": []
    },
    {
      "cell_type": "code",
      "metadata": {
        "id": "AbX9sIiHz-Zw",
        "colab": {
          "base_uri": "https://localhost:8080/"
        },
        "outputId": "50528bb9-228f-41d3-f2f8-fd6abd259c3e"
      },
      "source": [
        "import nltk\n",
        "import numpy as np\n",
        "import random\n",
        "import pickle\n",
        "\n",
        "from nltk.stem import WordNetLemmatizer\n",
        "lemmatizer = WordNetLemmatizer()\n",
        "\n",
        "import re, string\n",
        "punct = string.punctuation\n",
        "trantab = str.maketrans(punct, len(punct) * ' ')  # Every punctuation symbol will be replaced by a space\n",
        "whitelist = ['?', '!']\n",
        "\n",
        "# Using symspell to correct spelling\n",
        "import pkg_resources\n",
        "from symspellpy import SymSpell, Verbosity\n",
        "\n",
        "sym_spell = SymSpell(max_dictionary_edit_distance=2, prefix_length=7)\n",
        "dictionary_path = pkg_resources.resource_filename(\"symspellpy\",\n",
        "                                                  \"frequency_dictionary_en_82_765.txt\")\n",
        "bigram_path = pkg_resources.resource_filename(\"symspellpy\",\n",
        "                                              \"frequency_bigramdictionary_en_243_342.txt\")\n",
        "sym_spell.load_dictionary(dictionary_path, term_index=0, count_index=1)\n",
        "sym_spell.load_bigram_dictionary(bigram_path, term_index=0, count_index=2)"
      ],
      "execution_count": 36,
      "outputs": [
        {
          "output_type": "execute_result",
          "data": {
            "text/plain": [
              "True"
            ]
          },
          "metadata": {
            "tags": []
          },
          "execution_count": 36
        }
      ]
    },
    {
      "cell_type": "code",
      "metadata": {
        "id": "r4Jz6n8KHRzO",
        "colab": {
          "base_uri": "https://localhost:8080/"
        },
        "outputId": "e5b60981-12ee-48d5-9872-4edd6251e653"
      },
      "source": [
        "!pip install bitarray\n",
        "!pip install scikit-multilearn\n",
        "!pip install arff"
      ],
      "execution_count": 37,
      "outputs": [
        {
          "output_type": "stream",
          "text": [
            "Requirement already satisfied: bitarray in /usr/local/lib/python3.7/dist-packages (2.0.1)\n",
            "Requirement already satisfied: scikit-multilearn in /usr/local/lib/python3.7/dist-packages (0.2.0)\n",
            "Requirement already satisfied: arff in /usr/local/lib/python3.7/dist-packages (0.9)\n"
          ],
          "name": "stdout"
        }
      ]
    },
    {
      "cell_type": "code",
      "metadata": {
        "id": "L210JMifHWiZ"
      },
      "source": [
        "import lore\n",
        "from datamanager import *\n",
        "\n",
        "from sklearn.ensemble import RandomForestClassifier\n",
        "from sklearn.model_selection import train_test_split\n",
        "\n",
        "from sklearn.metrics import f1_score, accuracy_score\n",
        "\n",
        "from util import record2str"
      ],
      "execution_count": 38,
      "outputs": []
    },
    {
      "cell_type": "code",
      "metadata": {
        "id": "DGv9Sp9xbC4z",
        "colab": {
          "base_uri": "https://localhost:8080/",
          "height": 0
        },
        "outputId": "e9c2b35b-e101-4873-8907-571cb1a11ba0"
      },
      "source": [
        "np.version.version"
      ],
      "execution_count": 39,
      "outputs": [
        {
          "output_type": "execute_result",
          "data": {
            "application/vnd.google.colaboratory.intrinsic+json": {
              "type": "string"
            },
            "text/plain": [
              "'1.19.5'"
            ]
          },
          "metadata": {
            "tags": []
          },
          "execution_count": 39
        }
      ]
    },
    {
      "cell_type": "markdown",
      "metadata": {
        "id": "f6aHFke3Heql"
      },
      "source": [
        "# Explainer Dataset"
      ]
    },
    {
      "cell_type": "code",
      "metadata": {
        "id": "8eOLCXFbHh4r"
      },
      "source": [
        "## Iris Dataset\n",
        "# dataset_name = 'dataset/iris.csv'\n",
        "# dataset = prepare_iris_dataset(dataset_name)\n",
        "\n",
        "## wine\n",
        "# dataset_name = 'dataset/wine.csv'\n",
        "# dataset = prepare_wine_dataset(dataset_name)\n",
        "\n",
        "##############################################\n",
        "#           Categorical dataset              #\n",
        "##############################################\n",
        "## german: (0 = Good, 1 = Bad)\n",
        "# dataset_name = 'dataset/german_credit.csv'\n",
        "# dataset = prepare_german_dataset(dataset_name)\n",
        "\n",
        "## adult: ['<=50K', '>50K']\n",
        "# dataset_name = 'dataset/adult.csv'\n",
        "# dataset = prepare_adult_dataset(dataset_name)\n",
        "\n",
        "## compas-scores-two-years: ['High', 'Low', 'Medium']\n",
        "dataset_name = 'dataset/compas-scores-two-years.csv'\n",
        "dataset = prepare_compass_dataset(dataset_name)\n",
        "\n",
        "dataframe = dataset[0]\n",
        "class_name = dataset[1]\n",
        "dataset_fin = prepare_dataset(dataframe, class_name)"
      ],
      "execution_count": 40,
      "outputs": []
    },
    {
      "cell_type": "code",
      "metadata": {
        "id": "1aVMCrTrHh7G"
      },
      "source": [
        "df = dataset_fin[0] #dataframe with unique numeric class values(0, 1, ...)\n",
        "feature_names = dataset_fin[1]\n",
        "class_values = dataset_fin[2]\n",
        "numeric_columns = dataset_fin[3]\n",
        "rdf = dataset_fin[4] #real dataframe\n",
        "real_feature_names = dataset_fin[5]\n",
        "features_map = dataset_fin[6] #map each class name to its unique numeric value\n",
        "df_categorical_idx = dataset_fin[7]"
      ],
      "execution_count": 41,
      "outputs": []
    },
    {
      "cell_type": "markdown",
      "metadata": {
        "id": "Dp3HU5kJHnf7"
      },
      "source": [
        "# Black box classifier"
      ]
    },
    {
      "cell_type": "code",
      "metadata": {
        "id": "eHEwasTTHpk0",
        "colab": {
          "base_uri": "https://localhost:8080/"
        },
        "outputId": "3e6dd81e-67c1-4b47-f63d-ca46aa4078d1"
      },
      "source": [
        "X = df.loc[:, df.columns != class_name].values\n",
        "y = df[class_name].values\n",
        "\n",
        "X_train, X_test, y_train, y_test = train_test_split(X, y, test_size=0.3, stratify=y)\n",
        "blackbox = RandomForestClassifier()\n",
        "blackbox.fit(X_train, y_train)"
      ],
      "execution_count": 42,
      "outputs": [
        {
          "output_type": "execute_result",
          "data": {
            "text/plain": [
              "RandomForestClassifier(bootstrap=True, ccp_alpha=0.0, class_weight=None,\n",
              "                       criterion='gini', max_depth=None, max_features='auto',\n",
              "                       max_leaf_nodes=None, max_samples=None,\n",
              "                       min_impurity_decrease=0.0, min_impurity_split=None,\n",
              "                       min_samples_leaf=1, min_samples_split=2,\n",
              "                       min_weight_fraction_leaf=0.0, n_estimators=100,\n",
              "                       n_jobs=None, oob_score=False, random_state=None,\n",
              "                       verbose=0, warm_start=False)"
            ]
          },
          "metadata": {
            "tags": []
          },
          "execution_count": 42
        }
      ]
    },
    {
      "cell_type": "code",
      "metadata": {
        "id": "Eg7Pq_G_Hp_o",
        "colab": {
          "base_uri": "https://localhost:8080/"
        },
        "outputId": "f0b151f8-a313-40d0-8a2e-6ab274b63224"
      },
      "source": [
        "y_pred = blackbox.predict(X_test)\n",
        "print('Accuracy: %.3f' % accuracy_score(y_test, y_pred))"
      ],
      "execution_count": 43,
      "outputs": [
        {
          "output_type": "stream",
          "text": [
            "Accuracy: 0.597\n"
          ],
          "name": "stdout"
        }
      ]
    },
    {
      "cell_type": "markdown",
      "metadata": {
        "id": "3W69GCVwHr_q"
      },
      "source": [
        "## Select an instance"
      ]
    },
    {
      "cell_type": "code",
      "metadata": {
        "id": "pJT8l84JHqPu",
        "colab": {
          "base_uri": "https://localhost:8080/"
        },
        "outputId": "bafce61d-72b5-49a7-e667-a862b0ba4237"
      },
      "source": [
        "i = 10\n",
        "x = X_test[i]\n",
        "y_val = blackbox.predict(x.reshape(1,-1))[0]\n",
        "\n",
        "print(class_values)\n",
        "class_prob = blackbox.predict_proba(x.reshape(1,-1))[0]\n",
        "print(class_prob)\n",
        "\n",
        "y_val_name = class_values[y_val]\n",
        "print('blackbox(x) = { %s }' % y_val_name)\n"
      ],
      "execution_count": 44,
      "outputs": [
        {
          "output_type": "stream",
          "text": [
            "['High', 'Low', 'Medium']\n",
            "[0.04 0.95 0.01]\n",
            "blackbox(x) = { Low }\n"
          ],
          "name": "stdout"
        }
      ]
    },
    {
      "cell_type": "code",
      "metadata": {
        "id": "DnvWF01jHw80",
        "colab": {
          "base_uri": "https://localhost:8080/"
        },
        "outputId": "7ac7332a-8a79-461c-e7fb-1cc271b6bce1"
      },
      "source": [
        "print('x = %s' % record2str(x, feature_names, numeric_columns))"
      ],
      "execution_count": 45,
      "outputs": [
        {
          "output_type": "stream",
          "text": [
            "x = { age = 30, priors_count = 1, days_b_screening_arrest = 1, is_recid = 0, is_violent_recid = 0, two_year_recid = 0, length_of_stay = 1, age_cat = 25 - 45, sex = Male, race = Other, c_charge_degree = F }\n"
          ],
          "name": "stdout"
        }
      ]
    },
    {
      "cell_type": "markdown",
      "metadata": {
        "id": "JtXXkOjJHzFE"
      },
      "source": [
        "# LORE explainer (explaining an instance x)"
      ]
    },
    {
      "cell_type": "code",
      "metadata": {
        "id": "28syieuPH4un"
      },
      "source": [
        "explainer_obj = lore.LORE(X_test, blackbox, feature_names, class_name, class_values,\n",
        "                 numeric_columns, features_map, df_categorical_idx, neigh_type='ngmusx', verbose=False)"
      ],
      "execution_count": 83,
      "outputs": []
    },
    {
      "cell_type": "code",
      "metadata": {
        "id": "H7DhAkbhH4xT",
        "colab": {
          "base_uri": "https://localhost:8080/"
        },
        "outputId": "ee689b12-e534-4c57-c9c7-a4e842a39cad"
      },
      "source": [
        "explanation = explainer_obj.explain_instance(x, samples=1000, nbr_runs=10, exemplar_num=3)\n",
        "print(explanation)"
      ],
      "execution_count": 47,
      "outputs": [
        {
          "output_type": "stream",
          "text": [
            "r = { age > 29.84 } --> { class: Low }\n",
            "\n",
            "feature importance = {'age': 0.6447061138776269}\n",
            "\n",
            "c =  }\n",
            "\n",
            "exemplars = { age = 30, priors_count = 0, days_b_screening_arrest = 1, is_recid = 0, is_violent_recid = 0, two_year_recid = 0, length_of_stay = 1, age_cat = 25 - 45, sex = Male, race = Other, c_charge_degree = F }\n",
            "{ age = 30, priors_count = 2, days_b_screening_arrest = 1, is_recid = 0, is_violent_recid = 0, two_year_recid = 0, length_of_stay = 1, age_cat = 25 - 45, sex = Male, race = Other, c_charge_degree = F }\n",
            "{ age = 30, priors_count = 0, days_b_screening_arrest = 1, is_recid = 0, is_violent_recid = 0, two_year_recid = 0, length_of_stay = 1, age_cat = 25 - 45, sex = Male, race = Other, c_charge_degree = F }\n",
            "\n",
            "counter-exemplars = { age = 29, priors_count = 0, days_b_screening_arrest = 1, is_recid = 0, is_violent_recid = 0, two_year_recid = 0, length_of_stay = 1, age_cat = 25 - 45, sex = Male, race = Other, c_charge_degree = F }\n",
            "{ age = 29, priors_count = 2, days_b_screening_arrest = 1, is_recid = 1, is_violent_recid = 0, two_year_recid = 1, length_of_stay = 1, age_cat = 25 - 45, sex = Male, race = Other, c_charge_degree = F }\n",
            "{ age = 29, priors_count = 1, days_b_screening_arrest = 1, is_recid = 0, is_violent_recid = 0, two_year_recid = 0, length_of_stay = 0, age_cat = 25 - 45, sex = Male, race = Hispanic, c_charge_degree = F }\n"
          ],
          "name": "stdout"
        }
      ]
    },
    {
      "cell_type": "markdown",
      "metadata": {
        "id": "zLIRZoh4lLl0"
      },
      "source": [
        "# X-Bot Model"
      ]
    },
    {
      "cell_type": "code",
      "metadata": {
        "id": "yTrMmzDQ2r__"
      },
      "source": [
        "class XBotModel(object):\n",
        "    def __init__(self, verbose=False):\n",
        "        self.verbose = verbose\n",
        "\n",
        "    def decontractions(self, phrase):\n",
        "        \"\"\"decontracted takes text and convert contractions into natural form.\n",
        "         ref: https://stackoverflow.com/questions/19790188/expanding-english-language-contractions-in-python/47091490#47091490\"\"\"\n",
        "        # specific\n",
        "        phrase = re.sub(r\"won\\'t\", \"will not\", phrase)\n",
        "        phrase = re.sub(r\"can\\'t\", \"can not\", phrase)\n",
        "        phrase = re.sub(r\"won\\’t\", \"will not\", phrase)\n",
        "        phrase = re.sub(r\"can\\’t\", \"can not\", phrase)\n",
        "\n",
        "        # general\n",
        "        phrase = re.sub(r\"n\\'t\", \" not\", phrase)\n",
        "        phrase = re.sub(r\"\\'re\", \" are\", phrase)\n",
        "        phrase = re.sub(r\"\\'s\", \" is\", phrase)\n",
        "        phrase = re.sub(r\"\\'d\", \" would\", phrase)\n",
        "        phrase = re.sub(r\"\\'ll\", \" will\", phrase)\n",
        "        phrase = re.sub(r\"\\'t\", \" not\", phrase)\n",
        "        phrase = re.sub(r\"\\'ve\", \" have\", phrase)\n",
        "        phrase = re.sub(r\"\\'m\", \" am\", phrase)\n",
        "\n",
        "        phrase = re.sub(r\"n\\’t\", \" not\", phrase)\n",
        "        phrase = re.sub(r\"\\’re\", \" are\", phrase)\n",
        "        phrase = re.sub(r\"\\’s\", \" is\", phrase)\n",
        "        phrase = re.sub(r\"\\’d\", \" would\", phrase)\n",
        "        phrase = re.sub(r\"\\’ll\", \" will\", phrase)\n",
        "        phrase = re.sub(r\"\\’t\", \" not\", phrase)\n",
        "        phrase = re.sub(r\"\\’ve\", \" have\", phrase)\n",
        "        phrase = re.sub(r\"\\’m\", \" am\", phrase)\n",
        "\n",
        "        return phrase\n",
        "\n",
        "    def clean_text(self, text):\n",
        "        # Lower casting\n",
        "        text = text.lower()\n",
        "        # Decontracted\n",
        "        text = self.decontractions(text)\n",
        "        # Remove more than 1 space\n",
        "        text = \" \".join(text.split())\n",
        "        # Remove punctuation\n",
        "        text = text.translate(trantab)\n",
        "        text_words = nltk.word_tokenize(text)\n",
        "        words = [lemmatizer.lemmatize(w) for w in text_words if w not in whitelist]\n",
        "        return words\n",
        "\n",
        "    def detokenize(self, text):\n",
        "        return TreebankWordDetokenizer().detokenize(text)\n",
        "\n",
        "\n",
        "    def prepare_train_dataset(self, data):\n",
        "        classes = []\n",
        "        pattern_list = []\n",
        "        pattern_class = []\n",
        "\n",
        "        # adding classes to our class list\n",
        "        # pattern_class = [intent['tag'] for intent in data['intents'] if intent not in pattern_class]\n",
        "\n",
        "        for intent in data['intents']:\n",
        "            for pattern in intent['patterns']:\n",
        "\n",
        "                # clean the pattern\n",
        "                w = self.clean_text(pattern)\n",
        "\n",
        "                # adding documents\n",
        "                detokenize_words = self.detokenize(w)\n",
        "                pattern_list.append((detokenize_words))\n",
        "                pattern_class.append(intent['tag'])\n",
        "\n",
        "\n",
        "\n",
        "        # This class allows to vectorize a text corpus, by turning each text into either a sequence of integers (each integer being the index of a token in a dictionary)\n",
        "        tokenizer = Tokenizer()\n",
        "        tokenizer.fit_on_texts(pattern_list)\n",
        "        # Transforms each text in texts to a sequence of integers.\n",
        "        tokenized_seq = tokenizer.texts_to_sequences(pattern_list)\n",
        "\n",
        "        # Determining the maximum length of the tokenized sequential\n",
        "        max_length = max([len(s) for s in tokenized_seq])\n",
        "\n",
        "        # pad_sequences is used to ensure that all sequences in a list have the same length\n",
        "        padded_sentences = pad_sequences(tokenized_seq, maxlen=max_length, padding='post')\n",
        "        data_pattern = list(padded_sentences)\n",
        "\n",
        "        # labels (classes)\n",
        "        labels = pd.get_dummies(pattern_class).values.tolist()\n",
        "\n",
        "        # training dataset\n",
        "        training_dataset = [[a]+[b] for a, b in zip(data_pattern, labels)]\n",
        "\n",
        "        # shuffle our features and turn into np.array\n",
        "        random.shuffle(training_dataset)\n",
        "        training_dataset = np.array(training_dataset)\n",
        "\n",
        "        # define vocabulary size (largest integer value)\n",
        "        # The vocabulary size is the total number of words in our vocabulary, plus one for unknown words\n",
        "        vocab_size = len(tokenizer.word_index) + 1\n",
        "\n",
        "        # Using pre-trained word embeddings\n",
        "        embeddings_index = {}\n",
        "        f = open('glove.6B.100d.txt')\n",
        "        for line in f:\n",
        "            values = line.split()\n",
        "            word = values[0]\n",
        "            coefs = np.asarray(values[1:], dtype='float32')\n",
        "            embeddings_index[word] = coefs\n",
        "        f.close()\n",
        "        if self.verbose:\n",
        "          print('Loaded %s word vectors.' % len(embeddings_index))\n",
        "\n",
        "        # create a weight matrix for words in training docs\n",
        "        embedding_matrix = np.zeros((vocab_size, 100))\n",
        "        for word, i in tokenizer.word_index.items():\n",
        "          embedding_vector = embeddings_index.get(word)\n",
        "          if embedding_vector is not None:\n",
        "            embedding_matrix[i] = embedding_vector\n",
        "\n",
        "        # a list of different types of intents of responses\n",
        "        classes = sorted(list(set(pattern_class)))\n",
        "        # save as a pickle\n",
        "        pickle.dump(classes, open('classes.pkl', 'wb'))\n",
        "\n",
        "\n",
        "        if self.verbose:\n",
        "            print(\"Training Data Created!\")\n",
        "            print(\"Words : {}\".format(tokenizer.word_index))\n",
        "            print('Number of  Words = {}'.format(vocab_size))\n",
        "            print('Maximum Length of Words in a Sentence = {}'.format(max_length))\n",
        "\n",
        "        return training_dataset, vocab_size, tokenizer, embedding_matrix\n",
        "\n",
        "\n",
        "    def create_model(self, train_x, train_y, embedding_matrix, vocab_size=1000, embedding_dim=128, lstm_out=100, dropout=0.5):\n",
        "        input_length = len(train_x[0])\n",
        "        num_classes = len(train_y[0])\n",
        "\n",
        "        # Model\n",
        "        model = Sequential()\n",
        "        # The embedding layer\n",
        "        model.add(layers.Embedding(input_dim=vocab_size,\n",
        "                                   output_dim=embedding_dim,\n",
        "                                   weights=[embedding_matrix],\n",
        "                                   input_length=input_length,\n",
        "                                   trainable=False))\n",
        "        # The Bidirectional LSTM layer\n",
        "        model.add(layers.Bidirectional(layers.LSTM(lstm_out,\n",
        "                                                   dropout=dropout)))\n",
        "        # The Dense layer\n",
        "        model.add(layers.Dense(num_classes,\n",
        "                               activation='softmax'))\n",
        "\n",
        "        if self.verbose:\n",
        "            print(model.summary())\n",
        "\n",
        "        return model\n",
        "\n",
        "    def compile_fit_model(self, model, train_x, train_y, epochs=100, batch_size=5,\n",
        "                          earlystopping_patience=10, validation_split=0.3, loss='categorical_crossentropy'):\n",
        "\n",
        "        if self.verbose:\n",
        "            verb = 1\n",
        "        else:\n",
        "            verb = 0\n",
        "\n",
        "        es = EarlyStopping(monitor='loss', patience=earlystopping_patience, verbose=verb)\n",
        "        mc = ModelCheckpoint('best_xbot_model.h5', monitor='val_accuracy', save_best_only=True)\n",
        "\n",
        "        # Model compilation\n",
        "        model.compile(loss=loss,\n",
        "                      optimizer='adam',\n",
        "                      metrics=['accuracy'])\n",
        "\n",
        "        # Model Training and Validation\n",
        "        mymodel = model.fit(x=np.array(train_x),\n",
        "                            y=np.array(train_y),\n",
        "                            validation_split=validation_split,\n",
        "                            epochs=epochs,\n",
        "                            batch_size=batch_size,\n",
        "                            verbose=verb,\n",
        "                            callbacks=[es, mc]).history\n",
        "        return mymodel"
      ],
      "execution_count": 48,
      "outputs": []
    },
    {
      "cell_type": "markdown",
      "metadata": {
        "id": "LeDL7iMqla7K"
      },
      "source": [
        "# Run"
      ]
    },
    {
      "cell_type": "code",
      "metadata": {
        "id": "SUoC7TQ32sDE"
      },
      "source": [
        "###################### Chat Data ######################\n",
        "data_file = open('chatdata/intents.json').read()\n",
        "data = json.loads(data_file)"
      ],
      "execution_count": 49,
      "outputs": []
    },
    {
      "cell_type": "code",
      "metadata": {
        "id": "35A-1P4zlhBJ",
        "colab": {
          "base_uri": "https://localhost:8080/"
        },
        "outputId": "8afcf397-7f5c-4f0c-a6f8-dac2ca61cf4d"
      },
      "source": [
        "XBot_obj = XBotModel(verbose=True)\n",
        "\n",
        "# training dataset\n",
        "train_dataset, vocab_size, tokenizer, embedding_matrix = XBot_obj.prepare_train_dataset(data)\n",
        "train_x = list(train_dataset[:, 0])\n",
        "train_y = list(train_dataset[:, 1])"
      ],
      "execution_count": 50,
      "outputs": [
        {
          "output_type": "stream",
          "text": [
            "Loaded 400000 word vectors.\n",
            "Training Data Created!\n",
            "Words : {'the': 1, 'this': 2, 'instance': 3, 'is': 4, 'how': 5, 'what': 6, 'prediction': 7, 'to': 8, 'feature': 9, 'me': 10, 'you': 11, 'system': 12, 'are': 13, 'doe': 14, 'a': 15, 'exemplar': 16, 'similar': 17, 'give': 18, 'for': 19, 'of': 20, 'why': 21, 'different': 22, 'not': 23, 'thanks': 24, 'that': 25, 'help': 26, 'be': 27, 'performance': 28, 'about': 29, 'make': 30, 'likely': 31, 'rule': 32, 'it': 33, 'explanation': 34, 'explain': 35, 'given': 36, 'counter': 37, 'get': 38, 'top': 39, 'importance': 40, 'important': 41, 'hi': 42, 'there': 43, 'good': 44, 'bye': 45, 'helpful': 46, 'can': 47, 'do': 48, 'accuracy': 49, 'mistake': 50, 'in': 51, 'situation': 52, 'kind': 53, 'factual': 54, 's': 55, 'should': 56, 'change': 57, 'used': 58, 'variable': 59, 'an': 60, 'ciao': 61, 'buongiorno': 62, 'anyone': 63, 'hey': 64, 'hola': 65, 'hello': 66, 'day': 67, 'see': 68, 'later': 69, 'goodbye': 70, 'nice': 71, 'chatting': 72, 'till': 73, 'next': 74, 'time': 75, 'thank': 76, 'awesome': 77, 'helping': 78, 'could': 79, 'provide': 80, 'support': 81, 'offered': 82, 'reliability': 83, 'precise': 84, 'reliable': 85, 'accurate': 86, 'often': 87, 'incorrect': 88, 'correct': 89, 'limitation': 90, 'enough': 91, 'use': 92, 'reason': 93, 'wa': 94, 'calculated': 95, 'lead': 96, 'and': 97, 'b': 98, 'same': 99, 'counterfactual': 100, 'weigh': 101, 'x': 102, 'or': 103, 'consider': 104, 'which': 105, 'most': 106, 'influence': 107, 'on': 108, 'some': 109, 'show': 110, 'nearest': 111, 'neighbour': 112}\n",
            "Number of  Words = 113\n",
            "Maximum Length of Words in a Sentence = 13\n"
          ],
          "name": "stdout"
        }
      ]
    },
    {
      "cell_type": "code",
      "metadata": {
        "id": "Fd4xKv7QPcg3",
        "colab": {
          "base_uri": "https://localhost:8080/"
        },
        "outputId": "ea590a17-91a1-4d35-9c87-512f0febd1f0"
      },
      "source": [
        "len(embedding_matrix)"
      ],
      "execution_count": 51,
      "outputs": [
        {
          "output_type": "execute_result",
          "data": {
            "text/plain": [
              "113"
            ]
          },
          "metadata": {
            "tags": []
          },
          "execution_count": 51
        }
      ]
    },
    {
      "cell_type": "code",
      "metadata": {
        "id": "FI-zvdivlmKx",
        "colab": {
          "base_uri": "https://localhost:8080/"
        },
        "outputId": "d396fa0a-e88e-4b1a-ecdf-4cb2b9d5ecd9"
      },
      "source": [
        "# create model\n",
        "model = XBot_obj.create_model(train_x, train_y, embedding_matrix, vocab_size,\n",
        "                              embedding_dim=100, lstm_out=15, dropout=0.5)"
      ],
      "execution_count": 52,
      "outputs": [
        {
          "output_type": "stream",
          "text": [
            "Model: \"sequential\"\n",
            "_________________________________________________________________\n",
            "Layer (type)                 Output Shape              Param #   \n",
            "=================================================================\n",
            "embedding (Embedding)        (None, 13, 100)           11300     \n",
            "_________________________________________________________________\n",
            "bidirectional (Bidirectional (None, 30)                13920     \n",
            "_________________________________________________________________\n",
            "dense (Dense)                (None, 10)                310       \n",
            "=================================================================\n",
            "Total params: 25,530\n",
            "Trainable params: 14,230\n",
            "Non-trainable params: 11,300\n",
            "_________________________________________________________________\n",
            "None\n"
          ],
          "name": "stdout"
        }
      ]
    },
    {
      "cell_type": "code",
      "metadata": {
        "id": "bBPb-EEG2sF4",
        "colab": {
          "base_uri": "https://localhost:8080/"
        },
        "outputId": "adbfcd68-2671-49e2-af89-3b0cf11c81db"
      },
      "source": [
        "mymodel = XBot_obj.compile_fit_model(model, train_x, train_y, epochs=200,\n",
        "                                     batch_size=5,\n",
        "                                     earlystopping_patience=10,\n",
        "                                     validation_split=0.3,\n",
        "                                     loss='categorical_crossentropy')"
      ],
      "execution_count": 53,
      "outputs": [
        {
          "output_type": "stream",
          "text": [
            "Epoch 1/200\n",
            "12/12 [==============================] - 5s 119ms/step - loss: 2.3418 - accuracy: 0.0712 - val_loss: 2.3118 - val_accuracy: 0.0769\n",
            "Epoch 2/200\n",
            "12/12 [==============================] - 0s 13ms/step - loss: 2.2812 - accuracy: 0.1774 - val_loss: 2.2634 - val_accuracy: 0.0769\n",
            "Epoch 3/200\n",
            "12/12 [==============================] - 0s 14ms/step - loss: 2.2312 - accuracy: 0.3195 - val_loss: 2.2372 - val_accuracy: 0.1154\n",
            "Epoch 4/200\n",
            "12/12 [==============================] - 0s 13ms/step - loss: 2.1929 - accuracy: 0.2235 - val_loss: 2.2170 - val_accuracy: 0.1154\n",
            "Epoch 5/200\n",
            "12/12 [==============================] - 0s 12ms/step - loss: 2.1297 - accuracy: 0.2649 - val_loss: 2.1990 - val_accuracy: 0.1923\n",
            "Epoch 6/200\n",
            "12/12 [==============================] - 0s 13ms/step - loss: 2.0656 - accuracy: 0.2878 - val_loss: 2.1935 - val_accuracy: 0.2308\n",
            "Epoch 7/200\n",
            "12/12 [==============================] - 0s 13ms/step - loss: 1.9699 - accuracy: 0.3202 - val_loss: 2.1766 - val_accuracy: 0.3077\n",
            "Epoch 8/200\n",
            "12/12 [==============================] - 0s 14ms/step - loss: 1.9993 - accuracy: 0.3912 - val_loss: 2.1513 - val_accuracy: 0.3077\n",
            "Epoch 9/200\n",
            "12/12 [==============================] - 0s 13ms/step - loss: 2.0393 - accuracy: 0.3261 - val_loss: 2.1249 - val_accuracy: 0.3462\n",
            "Epoch 10/200\n",
            "12/12 [==============================] - 0s 12ms/step - loss: 1.9470 - accuracy: 0.3781 - val_loss: 2.0954 - val_accuracy: 0.3846\n",
            "Epoch 11/200\n",
            "12/12 [==============================] - 0s 12ms/step - loss: 1.8659 - accuracy: 0.4471 - val_loss: 2.0888 - val_accuracy: 0.3846\n",
            "Epoch 12/200\n",
            "12/12 [==============================] - 0s 12ms/step - loss: 1.7932 - accuracy: 0.4876 - val_loss: 2.0421 - val_accuracy: 0.3846\n",
            "Epoch 13/200\n",
            "12/12 [==============================] - 0s 12ms/step - loss: 1.8682 - accuracy: 0.4660 - val_loss: 1.9989 - val_accuracy: 0.4231\n",
            "Epoch 14/200\n",
            "12/12 [==============================] - 0s 12ms/step - loss: 1.7592 - accuracy: 0.4843 - val_loss: 1.9278 - val_accuracy: 0.4231\n",
            "Epoch 15/200\n",
            "12/12 [==============================] - 0s 13ms/step - loss: 1.6510 - accuracy: 0.5160 - val_loss: 1.8480 - val_accuracy: 0.4615\n",
            "Epoch 16/200\n",
            "12/12 [==============================] - 0s 12ms/step - loss: 1.5828 - accuracy: 0.5129 - val_loss: 1.8159 - val_accuracy: 0.4615\n",
            "Epoch 17/200\n",
            "12/12 [==============================] - 0s 13ms/step - loss: 1.5772 - accuracy: 0.5874 - val_loss: 1.7319 - val_accuracy: 0.5000\n",
            "Epoch 18/200\n",
            "12/12 [==============================] - 0s 13ms/step - loss: 1.4042 - accuracy: 0.7138 - val_loss: 1.7294 - val_accuracy: 0.5000\n",
            "Epoch 19/200\n",
            "12/12 [==============================] - 0s 13ms/step - loss: 1.4397 - accuracy: 0.5099 - val_loss: 1.7071 - val_accuracy: 0.5000\n",
            "Epoch 20/200\n",
            "12/12 [==============================] - 0s 13ms/step - loss: 1.3180 - accuracy: 0.5915 - val_loss: 1.6381 - val_accuracy: 0.4231\n",
            "Epoch 21/200\n",
            "12/12 [==============================] - 0s 13ms/step - loss: 1.2916 - accuracy: 0.6302 - val_loss: 1.6244 - val_accuracy: 0.4231\n",
            "Epoch 22/200\n",
            "12/12 [==============================] - 0s 12ms/step - loss: 1.3417 - accuracy: 0.5458 - val_loss: 1.6188 - val_accuracy: 0.4231\n",
            "Epoch 23/200\n",
            "12/12 [==============================] - 0s 12ms/step - loss: 1.2524 - accuracy: 0.5584 - val_loss: 1.5788 - val_accuracy: 0.5000\n",
            "Epoch 24/200\n",
            "12/12 [==============================] - 0s 13ms/step - loss: 1.2031 - accuracy: 0.5620 - val_loss: 1.5537 - val_accuracy: 0.4615\n",
            "Epoch 25/200\n",
            "12/12 [==============================] - 0s 13ms/step - loss: 1.2264 - accuracy: 0.5283 - val_loss: 1.4868 - val_accuracy: 0.5385\n",
            "Epoch 26/200\n",
            "12/12 [==============================] - 0s 12ms/step - loss: 1.1266 - accuracy: 0.6417 - val_loss: 1.4521 - val_accuracy: 0.5385\n",
            "Epoch 27/200\n",
            "12/12 [==============================] - 0s 13ms/step - loss: 1.0361 - accuracy: 0.6403 - val_loss: 1.4612 - val_accuracy: 0.5385\n",
            "Epoch 28/200\n",
            "12/12 [==============================] - 0s 13ms/step - loss: 1.0970 - accuracy: 0.6028 - val_loss: 1.5165 - val_accuracy: 0.5000\n",
            "Epoch 29/200\n",
            "12/12 [==============================] - 0s 13ms/step - loss: 0.9325 - accuracy: 0.7323 - val_loss: 1.4446 - val_accuracy: 0.5769\n",
            "Epoch 30/200\n",
            "12/12 [==============================] - 0s 13ms/step - loss: 1.0256 - accuracy: 0.6382 - val_loss: 1.3745 - val_accuracy: 0.5769\n",
            "Epoch 31/200\n",
            "12/12 [==============================] - 0s 12ms/step - loss: 0.8435 - accuracy: 0.7225 - val_loss: 1.3661 - val_accuracy: 0.5000\n",
            "Epoch 32/200\n",
            "12/12 [==============================] - 0s 12ms/step - loss: 0.9826 - accuracy: 0.6868 - val_loss: 1.3074 - val_accuracy: 0.6154\n",
            "Epoch 33/200\n",
            "12/12 [==============================] - 0s 13ms/step - loss: 0.8937 - accuracy: 0.7195 - val_loss: 1.4246 - val_accuracy: 0.5385\n",
            "Epoch 34/200\n",
            "12/12 [==============================] - 0s 14ms/step - loss: 0.9739 - accuracy: 0.7009 - val_loss: 1.2725 - val_accuracy: 0.5769\n",
            "Epoch 35/200\n",
            "12/12 [==============================] - 0s 12ms/step - loss: 0.7434 - accuracy: 0.7642 - val_loss: 1.2444 - val_accuracy: 0.5385\n",
            "Epoch 36/200\n",
            "12/12 [==============================] - 0s 13ms/step - loss: 0.8090 - accuracy: 0.7701 - val_loss: 1.2579 - val_accuracy: 0.5385\n",
            "Epoch 37/200\n",
            "12/12 [==============================] - 0s 12ms/step - loss: 0.8013 - accuracy: 0.7411 - val_loss: 1.2881 - val_accuracy: 0.6154\n",
            "Epoch 38/200\n",
            "12/12 [==============================] - 0s 12ms/step - loss: 0.6574 - accuracy: 0.8778 - val_loss: 1.2091 - val_accuracy: 0.5769\n",
            "Epoch 39/200\n",
            "12/12 [==============================] - 0s 13ms/step - loss: 0.7067 - accuracy: 0.8426 - val_loss: 1.2495 - val_accuracy: 0.5769\n",
            "Epoch 40/200\n",
            "12/12 [==============================] - 0s 14ms/step - loss: 0.6734 - accuracy: 0.7929 - val_loss: 1.2486 - val_accuracy: 0.6154\n",
            "Epoch 41/200\n",
            "12/12 [==============================] - 0s 13ms/step - loss: 0.7009 - accuracy: 0.8135 - val_loss: 1.2931 - val_accuracy: 0.6154\n",
            "Epoch 42/200\n",
            "12/12 [==============================] - 0s 12ms/step - loss: 0.7136 - accuracy: 0.8323 - val_loss: 1.1735 - val_accuracy: 0.6154\n",
            "Epoch 43/200\n",
            "12/12 [==============================] - 0s 12ms/step - loss: 0.5522 - accuracy: 0.8812 - val_loss: 1.1180 - val_accuracy: 0.6538\n",
            "Epoch 44/200\n",
            "12/12 [==============================] - 0s 13ms/step - loss: 0.5280 - accuracy: 0.8496 - val_loss: 1.1665 - val_accuracy: 0.6538\n",
            "Epoch 45/200\n",
            "12/12 [==============================] - 0s 12ms/step - loss: 0.6215 - accuracy: 0.8590 - val_loss: 1.1217 - val_accuracy: 0.5769\n",
            "Epoch 46/200\n",
            "12/12 [==============================] - 0s 14ms/step - loss: 0.6549 - accuracy: 0.8171 - val_loss: 1.1295 - val_accuracy: 0.5769\n",
            "Epoch 47/200\n",
            "12/12 [==============================] - 0s 13ms/step - loss: 0.4720 - accuracy: 0.9597 - val_loss: 1.1432 - val_accuracy: 0.5385\n",
            "Epoch 48/200\n",
            "12/12 [==============================] - 0s 12ms/step - loss: 0.5382 - accuracy: 0.8439 - val_loss: 1.1518 - val_accuracy: 0.5769\n",
            "Epoch 49/200\n",
            "12/12 [==============================] - 0s 12ms/step - loss: 0.6037 - accuracy: 0.9048 - val_loss: 1.2002 - val_accuracy: 0.5769\n",
            "Epoch 50/200\n",
            "12/12 [==============================] - 0s 13ms/step - loss: 0.5299 - accuracy: 0.9242 - val_loss: 1.0842 - val_accuracy: 0.6154\n",
            "Epoch 51/200\n",
            "12/12 [==============================] - 0s 12ms/step - loss: 0.5372 - accuracy: 0.9032 - val_loss: 1.0242 - val_accuracy: 0.6154\n",
            "Epoch 52/200\n",
            "12/12 [==============================] - 0s 12ms/step - loss: 0.5497 - accuracy: 0.9142 - val_loss: 1.0645 - val_accuracy: 0.5769\n",
            "Epoch 53/200\n",
            "12/12 [==============================] - 0s 13ms/step - loss: 0.4860 - accuracy: 0.8460 - val_loss: 1.1176 - val_accuracy: 0.6538\n",
            "Epoch 54/200\n",
            "12/12 [==============================] - 0s 12ms/step - loss: 0.5591 - accuracy: 0.8865 - val_loss: 1.1602 - val_accuracy: 0.6154\n",
            "Epoch 55/200\n",
            "12/12 [==============================] - 0s 13ms/step - loss: 0.4350 - accuracy: 0.9219 - val_loss: 1.1768 - val_accuracy: 0.6154\n",
            "Epoch 56/200\n",
            "12/12 [==============================] - 0s 13ms/step - loss: 0.5589 - accuracy: 0.8394 - val_loss: 1.0782 - val_accuracy: 0.6154\n",
            "Epoch 57/200\n",
            "12/12 [==============================] - 0s 12ms/step - loss: 0.4737 - accuracy: 0.9098 - val_loss: 1.0615 - val_accuracy: 0.6154\n",
            "Epoch 58/200\n",
            "12/12 [==============================] - 0s 13ms/step - loss: 0.3197 - accuracy: 0.9568 - val_loss: 1.1668 - val_accuracy: 0.5769\n",
            "Epoch 59/200\n",
            "12/12 [==============================] - 0s 12ms/step - loss: 0.4011 - accuracy: 0.9198 - val_loss: 1.2239 - val_accuracy: 0.5769\n",
            "Epoch 60/200\n",
            "12/12 [==============================] - 0s 13ms/step - loss: 0.3899 - accuracy: 0.9295 - val_loss: 1.0647 - val_accuracy: 0.6538\n",
            "Epoch 61/200\n",
            "12/12 [==============================] - 0s 13ms/step - loss: 0.3670 - accuracy: 0.9571 - val_loss: 1.0422 - val_accuracy: 0.6538\n",
            "Epoch 62/200\n",
            "12/12 [==============================] - 0s 12ms/step - loss: 0.4029 - accuracy: 0.8920 - val_loss: 1.0258 - val_accuracy: 0.6538\n",
            "Epoch 63/200\n",
            "12/12 [==============================] - 0s 13ms/step - loss: 0.3163 - accuracy: 0.9845 - val_loss: 1.0237 - val_accuracy: 0.6538\n",
            "Epoch 64/200\n",
            "12/12 [==============================] - 0s 12ms/step - loss: 0.3192 - accuracy: 0.9072 - val_loss: 1.0308 - val_accuracy: 0.6923\n",
            "Epoch 65/200\n",
            "12/12 [==============================] - 0s 13ms/step - loss: 0.3020 - accuracy: 0.9845 - val_loss: 1.0519 - val_accuracy: 0.6154\n",
            "Epoch 66/200\n",
            "12/12 [==============================] - 0s 13ms/step - loss: 0.4400 - accuracy: 0.9075 - val_loss: 1.0866 - val_accuracy: 0.5769\n",
            "Epoch 67/200\n",
            "12/12 [==============================] - 0s 14ms/step - loss: 0.2620 - accuracy: 0.9819 - val_loss: 0.9824 - val_accuracy: 0.6154\n",
            "Epoch 68/200\n",
            "12/12 [==============================] - 0s 14ms/step - loss: 0.3012 - accuracy: 0.9079 - val_loss: 1.0169 - val_accuracy: 0.6923\n",
            "Epoch 69/200\n",
            "12/12 [==============================] - 0s 13ms/step - loss: 0.3469 - accuracy: 0.9338 - val_loss: 1.0829 - val_accuracy: 0.6923\n",
            "Epoch 70/200\n",
            "12/12 [==============================] - 0s 13ms/step - loss: 0.5655 - accuracy: 0.8919 - val_loss: 1.1030 - val_accuracy: 0.6923\n",
            "Epoch 71/200\n",
            "12/12 [==============================] - 0s 13ms/step - loss: 0.2912 - accuracy: 0.9735 - val_loss: 1.1127 - val_accuracy: 0.6154\n",
            "Epoch 72/200\n",
            "12/12 [==============================] - 0s 14ms/step - loss: 0.3396 - accuracy: 0.9433 - val_loss: 1.0442 - val_accuracy: 0.6154\n",
            "Epoch 73/200\n",
            "12/12 [==============================] - 0s 13ms/step - loss: 0.2843 - accuracy: 0.9509 - val_loss: 1.0344 - val_accuracy: 0.6154\n",
            "Epoch 74/200\n",
            "12/12 [==============================] - 0s 12ms/step - loss: 0.2821 - accuracy: 0.9607 - val_loss: 0.9662 - val_accuracy: 0.6923\n",
            "Epoch 75/200\n",
            "12/12 [==============================] - 0s 14ms/step - loss: 0.2239 - accuracy: 0.9908 - val_loss: 0.9452 - val_accuracy: 0.7308\n",
            "Epoch 76/200\n",
            "12/12 [==============================] - 0s 13ms/step - loss: 0.2359 - accuracy: 1.0000 - val_loss: 1.1447 - val_accuracy: 0.6154\n",
            "Epoch 77/200\n",
            "12/12 [==============================] - 0s 12ms/step - loss: 0.2734 - accuracy: 0.9339 - val_loss: 1.0879 - val_accuracy: 0.6154\n",
            "Epoch 78/200\n",
            "12/12 [==============================] - 0s 12ms/step - loss: 0.3370 - accuracy: 0.9417 - val_loss: 0.9557 - val_accuracy: 0.6538\n",
            "Epoch 79/200\n",
            "12/12 [==============================] - 0s 13ms/step - loss: 0.2664 - accuracy: 0.9848 - val_loss: 0.9514 - val_accuracy: 0.7308\n",
            "Epoch 80/200\n",
            "12/12 [==============================] - 0s 15ms/step - loss: 0.2635 - accuracy: 0.9829 - val_loss: 1.0335 - val_accuracy: 0.6154\n",
            "Epoch 81/200\n",
            "12/12 [==============================] - 0s 15ms/step - loss: 0.2164 - accuracy: 0.9585 - val_loss: 0.9824 - val_accuracy: 0.6154\n",
            "Epoch 82/200\n",
            "12/12 [==============================] - 0s 14ms/step - loss: 0.2541 - accuracy: 0.9509 - val_loss: 0.9588 - val_accuracy: 0.6154\n",
            "Epoch 83/200\n",
            "12/12 [==============================] - 0s 13ms/step - loss: 0.2758 - accuracy: 0.9746 - val_loss: 0.9827 - val_accuracy: 0.6154\n",
            "Epoch 84/200\n",
            "12/12 [==============================] - 0s 13ms/step - loss: 0.1706 - accuracy: 1.0000 - val_loss: 1.0568 - val_accuracy: 0.6538\n",
            "Epoch 85/200\n",
            "12/12 [==============================] - 0s 14ms/step - loss: 0.2230 - accuracy: 0.9740 - val_loss: 1.1832 - val_accuracy: 0.6154\n",
            "Epoch 86/200\n",
            "12/12 [==============================] - 0s 13ms/step - loss: 0.2927 - accuracy: 0.8830 - val_loss: 1.0846 - val_accuracy: 0.6923\n",
            "Epoch 87/200\n",
            "12/12 [==============================] - 0s 13ms/step - loss: 0.2816 - accuracy: 0.9578 - val_loss: 0.9518 - val_accuracy: 0.6923\n",
            "Epoch 88/200\n",
            "12/12 [==============================] - 0s 12ms/step - loss: 0.3012 - accuracy: 0.9180 - val_loss: 1.0211 - val_accuracy: 0.6923\n",
            "Epoch 89/200\n",
            "12/12 [==============================] - 0s 14ms/step - loss: 0.2962 - accuracy: 0.9663 - val_loss: 0.9980 - val_accuracy: 0.6923\n",
            "Epoch 90/200\n",
            "12/12 [==============================] - 0s 13ms/step - loss: 0.2863 - accuracy: 0.9169 - val_loss: 0.9415 - val_accuracy: 0.6923\n",
            "Epoch 91/200\n",
            "12/12 [==============================] - 0s 13ms/step - loss: 0.1888 - accuracy: 0.9829 - val_loss: 0.9743 - val_accuracy: 0.7308\n",
            "Epoch 92/200\n",
            "12/12 [==============================] - 0s 12ms/step - loss: 0.2337 - accuracy: 0.9509 - val_loss: 1.0706 - val_accuracy: 0.7308\n",
            "Epoch 93/200\n",
            "12/12 [==============================] - 0s 14ms/step - loss: 0.1864 - accuracy: 0.9791 - val_loss: 1.0253 - val_accuracy: 0.6923\n",
            "Epoch 94/200\n",
            "12/12 [==============================] - 0s 13ms/step - loss: 0.2332 - accuracy: 0.9607 - val_loss: 1.0133 - val_accuracy: 0.6154\n",
            "Epoch 00094: early stopping\n"
          ],
          "name": "stdout"
        }
      ]
    },
    {
      "cell_type": "code",
      "metadata": {
        "id": "BAGesmMBk3hD",
        "colab": {
          "base_uri": "https://localhost:8080/",
          "height": 573
        },
        "outputId": "343e4e7a-9c01-4673-f61b-ee3841bf5c6b"
      },
      "source": [
        "# plot the Train and Validation loss\n",
        "plt.plot(mymodel['loss'], label='Train')\n",
        "plt.plot(mymodel['val_loss'], label='Val')\n",
        "plt.xlabel('Epochs')\n",
        "plt.ylabel('Cross-Entropy')\n",
        "plt.title('Loss')\n",
        "plt.legend()\n",
        "plt.show()\n",
        "\n",
        "# plot the Train and Validation accuracy\n",
        "plt.plot(mymodel['accuracy'], label='Train')\n",
        "plt.plot(mymodel['val_accuracy'], label='Val')\n",
        "plt.title('Accuracy')\n",
        "plt.xlabel('Epochs')\n",
        "plt.ylabel('Accuracy')\n",
        "plt.legend()\n",
        "plt.show()"
      ],
      "execution_count": 54,
      "outputs": [
        {
          "output_type": "display_data",
          "data": {
            "image/png": "[encoded data removed]",
            "text/plain": [
              "<Figure size 432x288 with 1 Axes>"
            ]
          },
          "metadata": {
            "tags": [],
            "needs_background": "light"
          }
        },
        {
          "output_type": "display_data",
          "data": {
            "image/png": "[encoded data removed]",
            "text/plain": [
              "<Figure size 432x288 with 1 Axes>"
            ]
          },
          "metadata": {
            "tags": [],
            "needs_background": "light"
          }
        }
      ]
    },
    {
      "cell_type": "code",
      "metadata": {
        "id": "1BQqwNbKkStN",
        "colab": {
          "base_uri": "https://localhost:8080/"
        },
        "outputId": "b9fe2d51-fcda-499a-a009-3ed72e1f13c5"
      },
      "source": [
        "from keras.models import load_model\n",
        "\n",
        "trained_model = load_model('best_xbot_model.h5')\n",
        "\n",
        "_, accuracy = trained_model.evaluate(np.array(train_x), np.array(train_y))\n",
        "print('Train Accuracy: %.2f' % (accuracy*100))"
      ],
      "execution_count": 55,
      "outputs": [
        {
          "output_type": "stream",
          "text": [
            "3/3 [==============================] - 1s 5ms/step - loss: 0.3994 - accuracy: 0.9048\n",
            "Train Accuracy: 90.48\n"
          ],
          "name": "stdout"
        }
      ]
    },
    {
      "cell_type": "markdown",
      "metadata": {
        "id": "dnkOSLglz3de"
      },
      "source": [
        "# Responce Generator"
      ]
    },
    {
      "cell_type": "code",
      "metadata": {
        "id": "TCuyS79Tz51y"
      },
      "source": [
        "from util import record2str\n",
        "\n",
        "class ResponseGenerator(object):\n",
        "    def __init__(self, data, train_x, train_y, tokenizer, model, explainer_data,\n",
        "                 explainer_prepared_dataset, explainer_obj, blackbox, verbose=False):\n",
        "        self.data = data\n",
        "        self.train_x = train_x\n",
        "        self.train_y = train_y\n",
        "        self.tokenizer = tokenizer\n",
        "        self.model = model\n",
        "        self.explainer_data = explainer_data\n",
        "        self.explainer_obj = explainer_obj\n",
        "        self.blackbox = blackbox\n",
        "        self.verbose = verbose\n",
        "\n",
        "        self.feature_names = explainer_prepared_dataset[1]\n",
        "        self.class_values = explainer_prepared_dataset[2]\n",
        "        self.numeric_columns = explainer_prepared_dataset[3]\n",
        "\n",
        "\n",
        "        self.classes = pickle.load(open('classes.pkl', 'rb'))\n",
        "\n",
        "    def decontractions(self, phrase):\n",
        "        \"\"\"decontracted takes text and convert contractions into natural form.\n",
        "         ref: https://stackoverflow.com/questions/19790188/expanding-english-language-contractions-in-python/47091490#47091490\"\"\"\n",
        "        # specific\n",
        "        phrase = re.sub(r\"won\\'t\", \"will not\", phrase)\n",
        "        phrase = re.sub(r\"can\\'t\", \"can not\", phrase)\n",
        "        phrase = re.sub(r\"won\\’t\", \"will not\", phrase)\n",
        "        phrase = re.sub(r\"can\\’t\", \"can not\", phrase)\n",
        "\n",
        "        # general\n",
        "        phrase = re.sub(r\"n\\'t\", \" not\", phrase)\n",
        "        phrase = re.sub(r\"\\'re\", \" are\", phrase)\n",
        "        phrase = re.sub(r\"\\'s\", \" is\", phrase)\n",
        "        phrase = re.sub(r\"\\'d\", \" would\", phrase)\n",
        "        phrase = re.sub(r\"\\'ll\", \" will\", phrase)\n",
        "        phrase = re.sub(r\"\\'t\", \" not\", phrase)\n",
        "        phrase = re.sub(r\"\\'ve\", \" have\", phrase)\n",
        "        phrase = re.sub(r\"\\'m\", \" am\", phrase)\n",
        "\n",
        "        phrase = re.sub(r\"n\\’t\", \" not\", phrase)\n",
        "        phrase = re.sub(r\"\\’re\", \" are\", phrase)\n",
        "        phrase = re.sub(r\"\\’s\", \" is\", phrase)\n",
        "        phrase = re.sub(r\"\\’d\", \" would\", phrase)\n",
        "        phrase = re.sub(r\"\\’ll\", \" will\", phrase)\n",
        "        phrase = re.sub(r\"\\’t\", \" not\", phrase)\n",
        "        phrase = re.sub(r\"\\’ve\", \" have\", phrase)\n",
        "        phrase = re.sub(r\"\\’m\", \" am\", phrase)\n",
        "\n",
        "        return phrase\n",
        "\n",
        "    def clean_text(self, text):\n",
        "        # Lower casting\n",
        "        text = text.lower()\n",
        "        # Decontracted\n",
        "        text = self.decontractions(text)\n",
        "        # Remove more than 1 space\n",
        "        text = \" \".join(text.split())\n",
        "        # Remove punctuation\n",
        "        text = text.translate(trantab)\n",
        "        text_words = nltk.word_tokenize(text)\n",
        "        words = [lemmatizer.lemmatize(w) for w in text_words if w not in whitelist]\n",
        "        return words\n",
        "\n",
        "    def correct_spellings(self, text):\n",
        "        \"\"\" For a given sentence this function returns a sentence after correcting\n",
        "          spelling of words \"\"\"\n",
        "        suggestions = sym_spell.lookup_compound(text, max_edit_distance=2)\n",
        "        return suggestions[0]._term\n",
        "\n",
        "    def detokenize(self, text):\n",
        "        return TreebankWordDetokenizer().detokenize(text)\n",
        "\n",
        "    # return bag of words array: 0 or 1 for each word in the bag that exists in the user input\n",
        "    def texts_to_sequences(self, user_input):\n",
        "        # correcting spelling of words of user input\n",
        "        user_input = self.correct_spellings(user_input)\n",
        "        # tokenize the user input\n",
        "        user_input_words = self.clean_text(user_input)\n",
        "        detokenize_words = self.detokenize(user_input_words)\n",
        "\n",
        "\n",
        "        # Transforms each text in texts to a sequence of integers.\n",
        "        tokenized_seq = self.tokenizer.texts_to_sequences([detokenize_words])\n",
        "\n",
        "        # get max length of tokenized sequential from training data\n",
        "        max_length = len(self.train_x[0])\n",
        "        # pad_sequences is used to ensure that all sequences in a list have the same length\n",
        "        padded_sentences = pad_sequences(tokenized_seq, maxlen=max_length, padding='post')\n",
        "        user_input_seq = np.array(padded_sentences)\n",
        "\n",
        "        return user_input_seq\n",
        "\n",
        "    def predict_class(self, user_input):\n",
        "        return_list = []\n",
        "        user_input_seq = self.texts_to_sequences(user_input)\n",
        "        # check if all elements of user input sequential is zero or not\n",
        "        if np.all((user_input_seq[0] == 0)):\n",
        "            return_list.append({'intent': 'noanswer', 'probability': '1'})\n",
        "        else:\n",
        "            res = self.model.predict(user_input_seq)[0]\n",
        "            # filter out predictions below a threshold\n",
        "            ERROR_THRESHOLD = 0.6\n",
        "            results = [[i, r] for i, r in enumerate(res) if r > ERROR_THRESHOLD]\n",
        "\n",
        "            # sort by strength of probability\n",
        "            results.sort(key=lambda x: x[1], reverse=True)\n",
        "\n",
        "            for r in results:\n",
        "                return_list.append({\"intent\": self.classes[r[0]], \"probability\": str(r[1])})\n",
        "        return return_list\n",
        "\n",
        "    def get_response(self, ints):\n",
        "        result = ''\n",
        "        context = ''\n",
        "        if not ints:\n",
        "            tag = 'noanswer'\n",
        "        else:\n",
        "            tag = ints[0]['intent']\n",
        "\n",
        "        list_of_intents = self.data['intents']\n",
        "        for i in list_of_intents:\n",
        "            if i['tag'] == tag:\n",
        "                result = random.choice(i['responses'])\n",
        "                context = i['context']\n",
        "                break\n",
        "        return result, context\n",
        "\n",
        "    def chatbot_response(self, user_input):\n",
        "        # predict the intent of the user query\n",
        "        intents = self.predict_class(user_input)\n",
        "        # ask for the response\n",
        "        output_response, context = self.get_response(intents)\n",
        "\n",
        "        return output_response, context[0]\n",
        "\n",
        "    def get_explanation(self, context, explanation):\n",
        "        if context == 'rule':\n",
        "            exp = explanation.rule\n",
        "        elif context == 'crule':\n",
        "            exp = explanation.cstr()\n",
        "        elif context == 'fidelity':\n",
        "            exp = explanation.fidelity\n",
        "        elif context == 'exemplar':\n",
        "            exp = explanation.exemplars\n",
        "        elif context == 'cexemplar':\n",
        "            exp = explanation.cexemplars\n",
        "        elif context == 'feature_importance':\n",
        "            exp = explanation.feature_importance\n",
        "        else:\n",
        "            exp = \"Nothing found!\"\n",
        "\n",
        "        return exp\n",
        "\n",
        "    def start(self):\n",
        "        print(\"Hello, I'm X-Bot!\"\n",
        "              \"\\n(If you want to exit, type -1!)\")\n",
        "        print(\"\\nX-Bot: The length of the dataset is %s.\" % len(self.explainer_data))\n",
        "\n",
        "        flag_exit = False\n",
        "        flag_explainer = True\n",
        "        while flag_explainer:\n",
        "            print('\\n')\n",
        "            print(\"Select an instance x (enter a row number)\")\n",
        "            user_input = input()\n",
        "            try:\n",
        "                i = int(user_input)\n",
        "            except:\n",
        "                print(\"Please enter a valid number!\")\n",
        "                continue\n",
        "            if i < 0:\n",
        "                flag_exit = True\n",
        "                print(\"See you later!\")\n",
        "                break\n",
        "            elif i > len(self.explainer_data):\n",
        "                print(\"It must be less than the length of the dataset (%s)!\" % len(self.explainer_data))\n",
        "                continue\n",
        "            else:\n",
        "                x = self.explainer_data[i]\n",
        "                y_val_name = self.class_values[self.blackbox.predict(x.reshape(1,-1))[0]]\n",
        "                print('\\nX-Bot: Selected x is -> %s.' % record2str(x, self.feature_names, self.numeric_columns))\n",
        "                print('Blackbox(x) = { %s }' % y_val_name)\n",
        "                print('\\n')\n",
        "\n",
        "                print('X-Bot: Do you want me to continue with this instance? [y/n]')\n",
        "                is_yes = input()\n",
        "                try:\n",
        "                  if is_yes == \"y\":\n",
        "                      explanation = self.explainer_obj.explain_instance(x, samples=1000,\n",
        "                                                                        nbr_runs=10, exemplar_num=3)\n",
        "                      flag_explainer = False\n",
        "                  else:\n",
        "                      continue\n",
        "                except:\n",
        "                  print(\"Please enter y or n!\")\n",
        "                  continue\n",
        "\n",
        "\n",
        "        flag_chat = True\n",
        "        if not flag_exit:\n",
        "            print(\"\\n\")\n",
        "            print(\"X-Bot: Ok! How can I help you?\"\n",
        "                  \"\\n(If you want to exit, type Bye!)\")\n",
        "        while flag_chat and not flag_exit:\n",
        "            \n",
        "            user_input = input()\n",
        "            if user_input == '':\n",
        "                print('X-Bot: Please type something!\\n')\n",
        "            else:\n",
        "                output_response, context = self.chatbot_response(user_input)\n",
        "\n",
        "                print(\"X-Bot: %s\" % output_response)\n",
        "                if context != \"\" and context != \"exit\":\n",
        "                    explain = self.get_explanation(context, explanation)\n",
        "                    print(explain)\n",
        "                    print('\\n')\n",
        "                elif context == \"exit\":\n",
        "                    flag_chat = False\n",
        "                else:\n",
        "                    print('\\n')"
      ],
      "execution_count": 125,
      "outputs": []
    },
    {
      "cell_type": "markdown",
      "metadata": {
        "id": "bNBKil8Szf_l"
      },
      "source": [
        "# Start to *chat*"
      ]
    },
    {
      "cell_type": "code",
      "metadata": {
        "id": "vUIV6Ihlzp_1"
      },
      "source": [
        "xbot_response = ResponseGenerator(data, train_x, train_y, tokenizer, trained_model,\n",
        "                                  X, dataset_fin, explainer_obj, blackbox, verbose=True)"
      ],
      "execution_count": 126,
      "outputs": []
    },
    {
      "cell_type": "code",
      "metadata": {
        "id": "9dV8WhLgRM6F",
        "colab": {
          "base_uri": "https://localhost:8080/"
        },
        "outputId": "e42592ea-c9f5-4a39-dabd-18b92799898e"
      },
      "source": [
        "xbot_response.start()"
      ],
      "execution_count": 129,
      "outputs": [
        {
          "output_type": "stream",
          "text": [
            "Hello, I'm X-Bot!\n",
            "(If you want to exit, type -1!)\n",
            "\n",
            "X-Bot: The length of the dataset is 7214.\n",
            "\n",
            "\n",
            "Select an instance x (enter a row number)\n",
            "ge\n",
            "Please enter a valid number!\n",
            "\n",
            "\n",
            "Select an instance x (enter a row number)\n",
            "18466\n",
            "It must be less than the length of the dataset (7214)!\n",
            "\n",
            "\n",
            "Select an instance x (enter a row number)\n",
            "142\n",
            "\n",
            "X-Bot: Selected x is -> { age = 20, priors_count = 1, days_b_screening_arrest = 0, is_recid = 0, is_violent_recid = 0, two_year_recid = 0, length_of_stay = 2, age_cat = Less than 25, sex = Female, race = African-American, c_charge_degree = F }.\n",
            "Blackbox(x) = { Medium }\n",
            "\n",
            "\n",
            "X-Bot: Do you want me to continue with this instance? [y/n]\n",
            "n\n",
            "\n",
            "\n",
            "Select an instance x (enter a row number)\n",
            "562\n",
            "\n",
            "X-Bot: Selected x is -> { age = 30, priors_count = 0, days_b_screening_arrest = 0, is_recid = 0, is_violent_recid = 0, two_year_recid = 0, length_of_stay = 1, age_cat = 25 - 45, sex = Female, race = African-American, c_charge_degree = M }.\n",
            "Blackbox(x) = { Low }\n",
            "\n",
            "\n",
            "X-Bot: Do you want me to continue with this instance? [y/n]\n",
            "y\n",
            "\n",
            "\n",
            "X-Bot: How can I help you?\n",
            "(If you want to exit, type Bye!)\n",
            "explain this instance for me\n",
            "X-Bot: The factual rule are: \n",
            "{ days_b_screening_arrest <= 0.50, priors_count <= 0.50 } --> { class: Low }\n",
            "\n",
            "\n",
            "what are top important features\n",
            "X-Bot: The most important features are: \n",
            "{'priors_count': 0.04148254336122877, 'days_b_screening_arrest': 0.6129067416777443}\n",
            "\n",
            "\n",
            "counterfactual rule\n",
            "X-Bot: The counterfactual rules are: \n",
            "{ { days_b_screening_arrest > 0.50, length_of_stay > 1.50 } --> { class: Medium }, { priors_count > 0.50, length_of_stay <= 0.50 } --> { class: Medium } }\n",
            "\n",
            "\n",
            "what about instances similar to this instance\n",
            "X-Bot: The exemplars are: \n",
            "{ age = 29, priors_count = 0, days_b_screening_arrest = 0, is_recid = 0, is_violent_recid = 0, two_year_recid = 0, length_of_stay = 1, age_cat = 25 - 45, sex = Male, race = African-American, c_charge_degree = M }\n",
            "{ age = 30, priors_count = 0, days_b_screening_arrest = 0, is_recid = 0, is_violent_recid = 0, two_year_recid = 0, length_of_stay = 0, age_cat = 25 - 45, sex = Female, race = Caucasian, c_charge_degree = M }\n",
            "{ age = 31, priors_count = 0, days_b_screening_arrest = 0, is_recid = 0, is_violent_recid = 0, two_year_recid = 0, length_of_stay = 1, age_cat = 25 - 45, sex = Female, race = African-American, c_charge_degree = F }\n",
            "\n",
            "\n",
            "goodbye\n",
            "X-Bot: Please give me more info\n",
            "\n",
            "\n",
            "thanks\n",
            "X-Bot: Happy to help!\n"
          ],
          "name": "stdout"
        }
      ]
    },
    {
      "cell_type": "code",
      "metadata": {
        "id": "7vQI4_n-zqJV"
      },
      "source": [
        ""
      ],
      "execution_count": null,
      "outputs": []
    },
    {
      "cell_type": "code",
      "metadata": {
        "id": "WYxPkN7bUl4e"
      },
      "source": [
        ""
      ],
      "execution_count": null,
      "outputs": []
    },
    {
      "cell_type": "code",
      "metadata": {
        "id": "j_PK4wxNUmBB"
      },
      "source": [
        ""
      ],
      "execution_count": null,
      "outputs": []
    },
    {
      "cell_type": "code",
      "metadata": {
        "id": "VMFIgCI4zqL_"
      },
      "source": [
        ""
      ],
      "execution_count": null,
      "outputs": []
    },
    {
      "cell_type": "code",
      "metadata": {
        "id": "sx52anpjzqQI"
      },
      "source": [
        ""
      ],
      "execution_count": null,
      "outputs": []
    },
    {
      "cell_type": "code",
      "metadata": {
        "id": "1hJhjG1CzqS7"
      },
      "source": [
        ""
      ],
      "execution_count": null,
      "outputs": []
    }
  ]
}